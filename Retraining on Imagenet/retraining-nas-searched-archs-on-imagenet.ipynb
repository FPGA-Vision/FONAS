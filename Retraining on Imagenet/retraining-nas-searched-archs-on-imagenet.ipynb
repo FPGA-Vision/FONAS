{
 "cells": [
  {
   "cell_type": "markdown",
   "id": "d9e62702",
   "metadata": {
    "_cell_guid": "24bd6b67-4bf7-44c4-8b43-3bf1dd6032cb",
    "_uuid": "37fa20df-8fe2-4f9e-aa5a-3fb3236fe689",
    "papermill": {
     "duration": 0.006285,
     "end_time": "2024-02-07T18:05:17.450393",
     "exception": false,
     "start_time": "2024-02-07T18:05:17.444108",
     "status": "completed"
    },
    "tags": []
   },
   "source": [
    "I previously performed FPGA aware Neural architecutral search and found different models with different latency through evolutionary algorithm.\n",
    "\n",
    "The obtained network from search process will be now retrained to improve accuracy. Also these models wt were intialized with the help of OFA!"
   ]
  },
  {
   "cell_type": "code",
   "execution_count": 1,
   "id": "89cb4c27",
   "metadata": {
    "_cell_guid": "9682186b-4dd9-441b-adb9-6eed566f3b50",
    "_uuid": "20994d4c-86b5-4bf0-97f3-b6b9a7491a9f",
    "collapsed": false,
    "execution": {
     "iopub.execute_input": "2024-02-07T18:05:17.463447Z",
     "iopub.status.busy": "2024-02-07T18:05:17.463089Z",
     "iopub.status.idle": "2024-02-07T18:05:24.617408Z",
     "shell.execute_reply": "2024-02-07T18:05:24.616523Z"
    },
    "jupyter": {
     "outputs_hidden": false
    },
    "papermill": {
     "duration": 7.163409,
     "end_time": "2024-02-07T18:05:24.619821",
     "exception": false,
     "start_time": "2024-02-07T18:05:17.456412",
     "status": "completed"
    },
    "tags": []
   },
   "outputs": [],
   "source": [
    "import torch \n",
    "import torchvision\n",
    "import os\n",
    "import torch.nn as nn\n",
    "from torchvision import transforms, datasets\n",
    "import math\n",
    "import time\n",
    "from tqdm import tqdm\n",
    "import shutil"
   ]
  },
  {
   "cell_type": "code",
   "execution_count": 2,
   "id": "bd2eb39f",
   "metadata": {
    "_cell_guid": "3f0a5eee-4ca9-4bfe-912b-fc0f52ec772b",
    "_uuid": "c43eb1c6-b89a-41d5-9bf1-273e0f778208",
    "collapsed": false,
    "execution": {
     "iopub.execute_input": "2024-02-07T18:05:24.633515Z",
     "iopub.status.busy": "2024-02-07T18:05:24.632449Z",
     "iopub.status.idle": "2024-02-07T18:05:24.701011Z",
     "shell.execute_reply": "2024-02-07T18:05:24.700056Z"
    },
    "jupyter": {
     "outputs_hidden": false
    },
    "papermill": {
     "duration": 0.077541,
     "end_time": "2024-02-07T18:05:24.703247",
     "exception": false,
     "start_time": "2024-02-07T18:05:24.625706",
     "status": "completed"
    },
    "tags": []
   },
   "outputs": [
    {
     "name": "stdout",
     "output_type": "stream",
     "text": [
      "Using GPU.\n"
     ]
    }
   ],
   "source": [
    "cuda_available = torch.cuda.is_available()\n",
    "if cuda_available:\n",
    "    torch.backends.cudnn.enabled = True\n",
    "    torch.backends.cudnn.benchmark = True\n",
    "    print('Using GPU.')\n",
    "else:\n",
    "    print('Using CPU.')"
   ]
  },
  {
   "cell_type": "code",
   "execution_count": 3,
   "id": "0a42cadd",
   "metadata": {
    "_cell_guid": "7819c409-ed1e-4fb7-93c3-9120866d1d66",
    "_uuid": "ec55af04-87e5-4479-8dbc-42a592c075ca",
    "collapsed": false,
    "execution": {
     "iopub.execute_input": "2024-02-07T18:05:24.716409Z",
     "iopub.status.busy": "2024-02-07T18:05:24.716028Z",
     "iopub.status.idle": "2024-02-07T18:05:40.332676Z",
     "shell.execute_reply": "2024-02-07T18:05:40.331576Z"
    },
    "jupyter": {
     "outputs_hidden": false
    },
    "papermill": {
     "duration": 15.625945,
     "end_time": "2024-02-07T18:05:40.335139",
     "exception": false,
     "start_time": "2024-02-07T18:05:24.709194",
     "status": "completed"
    },
    "tags": []
   },
   "outputs": [
    {
     "name": "stdout",
     "output_type": "stream",
     "text": [
      "The ImageNet dataset files are ready.\n",
      "The ImageNet dataloader is ready. Size : 50016\n"
     ]
    }
   ],
   "source": [
    "\n",
    "batch_size=32\n",
    "\n",
    "#I will use a susbset of imagenetval of 10k images \n",
    "if cuda_available:\n",
    "    # path to the ImageNet dataset\n",
    "    # link --> https://www.kaggle.com/datasets/titericz/imagenet1k-val\n",
    "    \n",
    "    imagenet_data_path = '/kaggle/input/imagenet1k-val/imagenet-val'\n",
    "\n",
    "    # if 'imagenet_data_path' is empty, download a subset of ImageNet containing 2000 images (~250M) for test\n",
    "    if not os.path.isdir(imagenet_data_path):\n",
    "        print('%s is empty. Download a subset of ImageNet for test.' % imagenet_data_path)\n",
    "\n",
    "    print('The ImageNet dataset files are ready.')\n",
    "else:\n",
    "    print('Since GPU is not found in the environment, we skip all scripts related to ImageNet evaluation.')\n",
    "    \n",
    "    \n",
    "  \n",
    "if cuda_available:\n",
    "    # The following function build the data transforms for test\n",
    "    def build_val_transform(size):\n",
    "        return transforms.Compose([\n",
    "            transforms.Resize(int(math.ceil(size / 0.875))),\n",
    "            transforms.CenterCrop(size),\n",
    "            transforms.ToTensor(),\n",
    "            transforms.Normalize(\n",
    "                mean=[0.485, 0.456, 0.406],\n",
    "                std=[0.229, 0.224, 0.225]\n",
    "            ),\n",
    "        ])\n",
    "    \n",
    "    val_data = datasets.ImageFolder(\n",
    "            root=os.path.join(imagenet_data_path),\n",
    "            transform=build_val_transform(224)\n",
    "        )\n",
    "    \n",
    "\n",
    "    val_loader = torch.utils.data.DataLoader(\n",
    "        val_data,\n",
    "        batch_size=batch_size,  \n",
    "        shuffle = True,\n",
    "        num_workers=4,  \n",
    "        pin_memory=True,\n",
    "        drop_last=False,\n",
    "    )\n",
    "    print('The ImageNet dataloader is ready. Size : {}'.format(len(val_loader)*batch_size))\n",
    "else:\n",
    "    data_loader = None\n",
    "    print('Since GPU is not found in the environment, we skip all scripts related to ImageNet evaluation.')"
   ]
  },
  {
   "cell_type": "code",
   "execution_count": 4,
   "id": "99404ad6",
   "metadata": {
    "_cell_guid": "acb1a2cd-063d-4846-8789-a1944b28e6e0",
    "_uuid": "90e0ebac-0aaa-4db9-bedc-59bddaa65f42",
    "collapsed": false,
    "execution": {
     "iopub.execute_input": "2024-02-07T18:05:40.349273Z",
     "iopub.status.busy": "2024-02-07T18:05:40.348922Z",
     "iopub.status.idle": "2024-02-07T18:21:19.794065Z",
     "shell.execute_reply": "2024-02-07T18:21:19.793036Z"
    },
    "jupyter": {
     "outputs_hidden": false
    },
    "papermill": {
     "duration": 939.460861,
     "end_time": "2024-02-07T18:21:19.802697",
     "exception": false,
     "start_time": "2024-02-07T18:05:40.341836",
     "status": "completed"
    },
    "tags": []
   },
   "outputs": [
    {
     "name": "stdout",
     "output_type": "stream",
     "text": [
      "The ImageNet train set is ready. Size : 1281184\n"
     ]
    }
   ],
   "source": [
    "\n",
    "train_path = '/kaggle/input/imagenet-object-localization-challenge/ILSVRC/Data/CLS-LOC/train'\n",
    "\n",
    "train_data = datasets.ImageFolder(\n",
    "            root= train_path,\n",
    "            transform=build_val_transform(224)\n",
    "        )\n",
    "\n",
    "train_loader = torch.utils.data.DataLoader(\n",
    "        train_data,\n",
    "        batch_size=batch_size, \n",
    "        shuffle = True,\n",
    "        num_workers=4,  \n",
    "        pin_memory=True,\n",
    "        drop_last=False,\n",
    "    )\n",
    "\n",
    "print('The ImageNet train set is ready. Size : {}'.format(len(train_loader)*batch_size))"
   ]
  },
  {
   "cell_type": "code",
   "execution_count": 5,
   "id": "aab03240",
   "metadata": {
    "_cell_guid": "61be6f61-bc40-4e38-87c1-c60f943eb632",
    "_uuid": "fb3584e1-d8cc-4cf7-b3ca-ddec7d3c42c9",
    "collapsed": false,
    "execution": {
     "iopub.execute_input": "2024-02-07T18:21:19.816156Z",
     "iopub.status.busy": "2024-02-07T18:21:19.815450Z",
     "iopub.status.idle": "2024-02-07T18:21:19.820505Z",
     "shell.execute_reply": "2024-02-07T18:21:19.819653Z"
    },
    "jupyter": {
     "outputs_hidden": false
    },
    "papermill": {
     "duration": 0.013986,
     "end_time": "2024-02-07T18:21:19.822475",
     "exception": false,
     "start_time": "2024-02-07T18:21:19.808489",
     "status": "completed"
    },
    "tags": []
   },
   "outputs": [],
   "source": [
    "dataloaders = {}\n",
    "dataloaders['train'] = train_loader\n",
    "dataloaders['val'] = val_loader\n",
    "\n",
    "dataset_sizes = {'train': len(train_loader)*32,\n",
    "                'val': len(val_loader)*32}"
   ]
  },
  {
   "cell_type": "code",
   "execution_count": 6,
   "id": "ba114689",
   "metadata": {
    "_cell_guid": "0310d9dc-b729-4312-b42e-d16dc6b0ef6c",
    "_uuid": "122dc352-bec3-4d79-be54-06dfec362441",
    "collapsed": false,
    "execution": {
     "iopub.execute_input": "2024-02-07T18:21:19.836357Z",
     "iopub.status.busy": "2024-02-07T18:21:19.835579Z",
     "iopub.status.idle": "2024-02-07T18:21:19.864286Z",
     "shell.execute_reply": "2024-02-07T18:21:19.863304Z"
    },
    "jupyter": {
     "outputs_hidden": false
    },
    "papermill": {
     "duration": 0.037977,
     "end_time": "2024-02-07T18:21:19.866554",
     "exception": false,
     "start_time": "2024-02-07T18:21:19.828577",
     "status": "completed"
    },
    "tags": []
   },
   "outputs": [],
   "source": [
    "def train_model(model, criterion, optimizer, scheduler, num_epochs=5):\n",
    "    since = time.time()\n",
    "\n",
    "    #storing epoch data\n",
    "    epoch_data = {\n",
    "        'epoch': [],\n",
    "        'train': {'loss': [], 'top1_acc': [], 'top5_acc': []},\n",
    "        'val': {'loss': [], 'top1_acc': [], 'top5_acc': []}\n",
    "    }\n",
    "    \n",
    "    # Create a temporary directory\n",
    "    tempdir = '/kaggle/working/temp'\n",
    "    os.makedirs(tempdir, exist_ok=True)\n",
    "    best_model_params_path = os.path.join(tempdir, 'best_model_params.pt')\n",
    "\n",
    "    torch.save(model.state_dict(), best_model_params_path)\n",
    "    best_acc = 0.0\n",
    "\n",
    "    for epoch in range(num_epochs):\n",
    "        print(f'Epoch {epoch+1}/{num_epochs}')\n",
    "        print('-' * 10)\n",
    "        epoch_data['epoch'].append(epoch+1)\n",
    "        \n",
    "        for phase in ['train', 'val']:\n",
    "            if phase == 'train':\n",
    "                model.train()\n",
    "            else:\n",
    "                model.eval()\n",
    "            running_loss = 0.0\n",
    "            top1_corrects = 0\n",
    "            top5_corrects = 0\n",
    "            \n",
    "            for inputs, labels in tqdm(dataloaders[phase], leave=False):\n",
    "                inputs = inputs.to(device)\n",
    "                labels = labels.to(device)\n",
    "\n",
    "                optimizer.zero_grad()\n",
    "\n",
    "                with torch.set_grad_enabled(phase == 'train'):\n",
    "                    outputs = model(inputs)\n",
    "                    _, preds = torch.max(outputs, 1)\n",
    "                    loss = criterion(outputs, labels)\n",
    "\n",
    "                    if phase == 'train':\n",
    "                        loss.backward()\n",
    "                        optimizer.step()\n",
    "\n",
    "                running_loss += loss.item() * inputs.size(0)\n",
    "                \n",
    "                # Calculate top-1 accuracy\n",
    "                top1_corrects += torch.sum(preds == labels.data)\n",
    "                \n",
    "                # Calculate top-5 accuracy\n",
    "                _, top5_preds = torch.topk(outputs, 5, dim=1)\n",
    "                top5_corrects += torch.sum(top5_preds == labels.view(-1, 1))\n",
    "\n",
    "            if phase == 'train':\n",
    "                scheduler.step()\n",
    "\n",
    "            epoch_loss = running_loss / dataset_sizes[phase]\n",
    "            epoch_top1_acc = top1_corrects.double() / dataset_sizes[phase]\n",
    "            epoch_top5_acc = top5_corrects.double() / dataset_sizes[phase]\n",
    "            \n",
    "            epoch_data[phase]['loss'].append(epoch_loss)\n",
    "            epoch_data[phase]['top1_acc'].append(epoch_top1_acc)\n",
    "            epoch_data[phase]['top5_acc'].append(epoch_top5_acc)\n",
    "\n",
    "            print(f'{phase} Loss: {epoch_loss:.4f} Top-1 Acc: {epoch_top1_acc:.4f} Top-5 Acc: {epoch_top5_acc:.4f}')\n",
    "\n",
    "            if phase == 'val' and epoch_top1_acc > best_acc:\n",
    "                best_acc = epoch_top1_acc\n",
    "                best_top5 = epoch_top5_acc\n",
    "                torch.save(model.state_dict(), best_model_params_path)\n",
    "\n",
    "        print()\n",
    "\n",
    "    time_elapsed = time.time() - since\n",
    "    print(f'Training complete in {time_elapsed // 60:.0f}m {time_elapsed % 60:.0f}s')\n",
    "    print(f'Best val Top-1 Acc {best_acc:4f} /n Best val Top-5: {best_top5:4f}')\n",
    "\n",
    "    model.load_state_dict(torch.load(best_model_params_path))\n",
    "\n",
    "    # Clean up the temporary directory\n",
    "    shutil.rmtree(tempdir)\n",
    "\n",
    "    return model, epoch_data"
   ]
  },
  {
   "cell_type": "code",
   "execution_count": 7,
   "id": "66ed29e7",
   "metadata": {
    "execution": {
     "iopub.execute_input": "2024-02-07T18:21:19.880594Z",
     "iopub.status.busy": "2024-02-07T18:21:19.880223Z",
     "iopub.status.idle": "2024-02-07T18:21:34.032807Z",
     "shell.execute_reply": "2024-02-07T18:21:34.031708Z"
    },
    "papermill": {
     "duration": 14.162774,
     "end_time": "2024-02-07T18:21:34.035648",
     "exception": false,
     "start_time": "2024-02-07T18:21:19.872874",
     "status": "completed"
    },
    "tags": []
   },
   "outputs": [
    {
     "name": "stdout",
     "output_type": "stream",
     "text": [
      "Collecting ofa\r\n",
      "  Downloading ofa-0.1.0.post202307202001-py3-none-any.whl.metadata (1.4 kB)\r\n",
      "Requirement already satisfied: torch in /opt/conda/lib/python3.10/site-packages (from ofa) (2.1.2)\r\n",
      "Requirement already satisfied: filelock in /opt/conda/lib/python3.10/site-packages (from torch->ofa) (3.13.1)\r\n",
      "Requirement already satisfied: typing-extensions in /opt/conda/lib/python3.10/site-packages (from torch->ofa) (4.9.0)\r\n",
      "Requirement already satisfied: sympy in /opt/conda/lib/python3.10/site-packages (from torch->ofa) (1.12)\r\n",
      "Requirement already satisfied: networkx in /opt/conda/lib/python3.10/site-packages (from torch->ofa) (3.2.1)\r\n",
      "Requirement already satisfied: jinja2 in /opt/conda/lib/python3.10/site-packages (from torch->ofa) (3.1.2)\r\n",
      "Requirement already satisfied: fsspec in /opt/conda/lib/python3.10/site-packages (from torch->ofa) (2023.12.2)\r\n",
      "Requirement already satisfied: MarkupSafe>=2.0 in /opt/conda/lib/python3.10/site-packages (from jinja2->torch->ofa) (2.1.3)\r\n",
      "Requirement already satisfied: mpmath>=0.19 in /opt/conda/lib/python3.10/site-packages (from sympy->torch->ofa) (1.3.0)\r\n",
      "Downloading ofa-0.1.0.post202307202001-py3-none-any.whl (107 kB)\r\n",
      "\u001b[2K   \u001b[90m━━━━━━━━━━━━━━━━━━━━━━━━━━━━━━━━━━━━━━━━\u001b[0m \u001b[32m107.6/107.6 kB\u001b[0m \u001b[31m2.1 MB/s\u001b[0m eta \u001b[36m0:00:00\u001b[0m\r\n",
      "\u001b[?25hInstalling collected packages: ofa\r\n",
      "Successfully installed ofa-0.1.0.post202307202001\r\n"
     ]
    }
   ],
   "source": [
    "!pip install ofa "
   ]
  },
  {
   "cell_type": "code",
   "execution_count": 8,
   "id": "67426252",
   "metadata": {
    "_cell_guid": "73be0887-4e38-49c4-89bf-6f38a183b912",
    "_uuid": "aaf96743-a919-43ed-8674-3e51dee4922e",
    "collapsed": false,
    "execution": {
     "iopub.execute_input": "2024-02-07T18:21:34.052971Z",
     "iopub.status.busy": "2024-02-07T18:21:34.052174Z",
     "iopub.status.idle": "2024-02-07T18:21:34.469155Z",
     "shell.execute_reply": "2024-02-07T18:21:34.468311Z"
    },
    "jupyter": {
     "outputs_hidden": false
    },
    "papermill": {
     "duration": 0.428138,
     "end_time": "2024-02-07T18:21:34.471641",
     "exception": false,
     "start_time": "2024-02-07T18:21:34.043503",
     "status": "completed"
    },
    "tags": []
   },
   "outputs": [],
   "source": [
    "model = torch.load('/kaggle/input/searched-models-nas-fpga/models/moder_search_11.pth')"
   ]
  },
  {
   "cell_type": "code",
   "execution_count": 9,
   "id": "50e36173",
   "metadata": {
    "_cell_guid": "9ead446b-60ed-4aae-9b72-ab7c8d002873",
    "_uuid": "bea12c60-ca18-4ead-8ebe-8dd147e72cea",
    "collapsed": false,
    "execution": {
     "iopub.execute_input": "2024-02-07T18:21:34.486583Z",
     "iopub.status.busy": "2024-02-07T18:21:34.486192Z",
     "iopub.status.idle": "2024-02-07T18:21:34.679934Z",
     "shell.execute_reply": "2024-02-07T18:21:34.678825Z"
    },
    "jupyter": {
     "outputs_hidden": false
    },
    "papermill": {
     "duration": 0.203957,
     "end_time": "2024-02-07T18:21:34.682532",
     "exception": false,
     "start_time": "2024-02-07T18:21:34.478575",
     "status": "completed"
    },
    "tags": []
   },
   "outputs": [],
   "source": [
    "device = 'cuda' if cuda_available else 'cpu'\n",
    "\n",
    "model = model.to(device)\n",
    "criterion = nn.CrossEntropyLoss()\n",
    "\n",
    "# Observe that all parameters are being optimized\n",
    "optimizer_ft = torch.optim.SGD(model.parameters(), lr=0.0001, momentum=0.90)\n",
    "\n",
    "# Decay LR by a factor of 0.1 every 7 epochs\n",
    "exp_lr_scheduler = torch.optim.lr_scheduler.StepLR(optimizer_ft, step_size=2, gamma=0.5)"
   ]
  },
  {
   "cell_type": "code",
   "execution_count": 10,
   "id": "ee30d295",
   "metadata": {
    "_cell_guid": "4baf48ad-b267-4732-814d-77711949212f",
    "_uuid": "be311f12-fc36-4ada-aa4b-220e19c37d3f",
    "collapsed": false,
    "execution": {
     "iopub.execute_input": "2024-02-07T18:21:34.697585Z",
     "iopub.status.busy": "2024-02-07T18:21:34.697228Z",
     "iopub.status.idle": "2024-02-08T02:45:27.155719Z",
     "shell.execute_reply": "2024-02-08T02:45:27.154493Z"
    },
    "jupyter": {
     "outputs_hidden": false
    },
    "papermill": {
     "duration": 30239.942074,
     "end_time": "2024-02-08T02:45:34.631680",
     "exception": false,
     "start_time": "2024-02-07T18:21:34.689606",
     "status": "completed"
    },
    "tags": []
   },
   "outputs": [
    {
     "name": "stdout",
     "output_type": "stream",
     "text": [
      "Epoch 1/5\n",
      "----------\n"
     ]
    },
    {
     "name": "stderr",
     "output_type": "stream",
     "text": [
      "                                                       \r"
     ]
    },
    {
     "name": "stdout",
     "output_type": "stream",
     "text": [
      "train Loss: 0.4665 Top-1 Acc: 0.8749 Top-5 Acc: 0.9790\n"
     ]
    },
    {
     "name": "stderr",
     "output_type": "stream",
     "text": [
      "                                                   \r"
     ]
    },
    {
     "name": "stdout",
     "output_type": "stream",
     "text": [
      "val Loss: 0.9580 Top-1 Acc: 0.7636 Top-5 Acc: 0.9297\n",
      "\n",
      "Epoch 2/5\n",
      "----------\n"
     ]
    },
    {
     "name": "stderr",
     "output_type": "stream",
     "text": [
      "                                                       \r"
     ]
    },
    {
     "name": "stdout",
     "output_type": "stream",
     "text": [
      "train Loss: 0.4341 Top-1 Acc: 0.8796 Top-5 Acc: 0.9805\n"
     ]
    },
    {
     "name": "stderr",
     "output_type": "stream",
     "text": [
      "                                                   \r"
     ]
    },
    {
     "name": "stdout",
     "output_type": "stream",
     "text": [
      "val Loss: 0.9579 Top-1 Acc: 0.7627 Top-5 Acc: 0.9291\n",
      "\n",
      "Epoch 3/5\n",
      "----------\n"
     ]
    },
    {
     "name": "stderr",
     "output_type": "stream",
     "text": [
      "                                                       \r"
     ]
    },
    {
     "name": "stdout",
     "output_type": "stream",
     "text": [
      "train Loss: 0.4203 Top-1 Acc: 0.8829 Top-5 Acc: 0.9814\n"
     ]
    },
    {
     "name": "stderr",
     "output_type": "stream",
     "text": [
      "                                                   \r"
     ]
    },
    {
     "name": "stdout",
     "output_type": "stream",
     "text": [
      "val Loss: 0.9628 Top-1 Acc: 0.7639 Top-5 Acc: 0.9295\n",
      "\n",
      "Epoch 4/5\n",
      "----------\n"
     ]
    },
    {
     "name": "stderr",
     "output_type": "stream",
     "text": [
      "                                                       \r"
     ]
    },
    {
     "name": "stdout",
     "output_type": "stream",
     "text": [
      "train Loss: 0.4146 Top-1 Acc: 0.8843 Top-5 Acc: 0.9818\n"
     ]
    },
    {
     "name": "stderr",
     "output_type": "stream",
     "text": [
      "                                                   \r"
     ]
    },
    {
     "name": "stdout",
     "output_type": "stream",
     "text": [
      "val Loss: 0.9655 Top-1 Acc: 0.7642 Top-5 Acc: 0.9294\n",
      "\n",
      "Epoch 5/5\n",
      "----------\n"
     ]
    },
    {
     "name": "stderr",
     "output_type": "stream",
     "text": [
      "                                                       \r"
     ]
    },
    {
     "name": "stdout",
     "output_type": "stream",
     "text": [
      "train Loss: 0.4097 Top-1 Acc: 0.8854 Top-5 Acc: 0.9821\n"
     ]
    },
    {
     "name": "stderr",
     "output_type": "stream",
     "text": [
      "                                                   \r"
     ]
    },
    {
     "name": "stdout",
     "output_type": "stream",
     "text": [
      "val Loss: 0.9582 Top-1 Acc: 0.7637 Top-5 Acc: 0.9299\n",
      "\n",
      "Training complete in 503m 52s\n",
      "Best val Top-1 Acc 0.764195 /n Best val Top-5: 0.929423\n"
     ]
    }
   ],
   "source": [
    "torch.cuda.empty_cache()\n",
    "model, epoch_data = train_model(model, criterion, optimizer_ft, exp_lr_scheduler,\n",
    "                       num_epochs=5)"
   ]
  },
  {
   "cell_type": "code",
   "execution_count": 11,
   "id": "c87169ac",
   "metadata": {
    "_cell_guid": "be50b2f5-99fc-4760-8ec3-0db9175ab4e3",
    "_uuid": "10da730e-0afb-410d-b697-39256262f42a",
    "collapsed": false,
    "execution": {
     "iopub.execute_input": "2024-02-08T02:45:54.862037Z",
     "iopub.status.busy": "2024-02-08T02:45:54.861251Z",
     "iopub.status.idle": "2024-02-08T02:45:54.873735Z",
     "shell.execute_reply": "2024-02-08T02:45:54.872844Z"
    },
    "jupyter": {
     "outputs_hidden": false
    },
    "papermill": {
     "duration": 10.014093,
     "end_time": "2024-02-08T02:45:54.875550",
     "exception": false,
     "start_time": "2024-02-08T02:45:44.861457",
     "status": "completed"
    },
    "tags": []
   },
   "outputs": [],
   "source": [
    "def plot_model_train(epoch_data, title = ' '):\n",
    "    epochs = epoch_data['epoch']\n",
    "    train_loss = epoch_data['train']['loss']\n",
    "    val_loss = epoch_data['val']['loss']\n",
    "    train_acc = epoch_data['train']['top1_acc']\n",
    "    val_acc = epoch_data['val']['top1_acc']\n",
    "\n",
    "    # Plotting the training and validation loss\n",
    "    plt.figure(1)\n",
    "    plt.figure(figsize=(10,6))\n",
    "    plt.plot(epochs, train_loss, label='Training Loss', color='blue', linestyle='-', marker='o')\n",
    "    plt.plot(epochs, val_loss, label='Validation Loss', color='red', linestyle='--', marker='s')\n",
    "    plt.xlabel('Epoch', color='black')\n",
    "    plt.ylabel('Loss', color='black')\n",
    "    plt.title('Training and validation loss'+title, color='black')\n",
    "    plt.legend(loc='upper right', facecolor='white', framealpha=1)\n",
    "    plt.grid(color='gray', linestyle='--', linewidth=0.5)\n",
    "    plt.xticks(range(1,21))\n",
    "    plt.savefig('plot2.png')\n",
    "    # Plotting the training and validation accuracy\n",
    "    plt.figure(2)\n",
    "    plt.figure(figsize=(10,6))\n",
    "    plt.plot(epochs, train_acc, label='Training Accuracy', color='blue', linestyle='-', marker='^')\n",
    "    plt.plot(epochs, val_acc, label='Validation Accuracy', color='red', linestyle='--', marker='d')\n",
    "    plt.xlabel('Epoch', color='black')\n",
    "    plt.ylabel('Accuracy', color='black')\n",
    "    plt.title('Training and validation accuracy'+title, color='black')\n",
    "    plt.legend(loc='lower right', facecolor='white', framealpha=1)\n",
    "    plt.grid(color='gray', linestyle='--', linewidth=0.5)\n",
    "    plt.xticks(range(1,21))\n",
    "    \n",
    "    n = random.randint(0,100)\n",
    "    plt.savefig(f'plot{n}.png')\n",
    "\n",
    "    plt.show()"
   ]
  },
  {
   "cell_type": "code",
   "execution_count": 12,
   "id": "e8495e65",
   "metadata": {
    "_cell_guid": "e8c51de1-d59e-42d8-8678-c128bcebcb63",
    "_uuid": "9833e603-6983-4d16-ac2b-40bcb17c29e3",
    "collapsed": false,
    "execution": {
     "iopub.execute_input": "2024-02-08T02:46:15.134506Z",
     "iopub.status.busy": "2024-02-08T02:46:15.133715Z",
     "iopub.status.idle": "2024-02-08T02:46:15.743774Z",
     "shell.execute_reply": "2024-02-08T02:46:15.742515Z"
    },
    "jupyter": {
     "outputs_hidden": false
    },
    "papermill": {
     "duration": 10.788404,
     "end_time": "2024-02-08T02:46:15.745418",
     "exception": true,
     "start_time": "2024-02-08T02:46:04.957014",
     "status": "failed"
    },
    "tags": []
   },
   "outputs": [
    {
     "ename": "NameError",
     "evalue": "name 'plt' is not defined",
     "output_type": "error",
     "traceback": [
      "\u001b[0;31m---------------------------------------------------------------------------\u001b[0m",
      "\u001b[0;31mNameError\u001b[0m                                 Traceback (most recent call last)",
      "Cell \u001b[0;32mIn[12], line 1\u001b[0m\n\u001b[0;32m----> 1\u001b[0m \u001b[43mplot_model_train\u001b[49m\u001b[43m(\u001b[49m\u001b[43mepoch_data\u001b[49m\u001b[43m,\u001b[49m\u001b[43m \u001b[49m\u001b[43mtitle\u001b[49m\u001b[43m \u001b[49m\u001b[38;5;241;43m=\u001b[39;49m\u001b[43m \u001b[49m\u001b[38;5;124;43m'\u001b[39;49m\u001b[38;5;124;43mRetraining on Imagenet dataset (weight initialization from OFA)\u001b[39;49m\u001b[38;5;124;43m'\u001b[39;49m\u001b[43m)\u001b[49m\n",
      "Cell \u001b[0;32mIn[11], line 9\u001b[0m, in \u001b[0;36mplot_model_train\u001b[0;34m(epoch_data, title)\u001b[0m\n\u001b[1;32m      6\u001b[0m val_acc \u001b[38;5;241m=\u001b[39m epoch_data[\u001b[38;5;124m'\u001b[39m\u001b[38;5;124mval\u001b[39m\u001b[38;5;124m'\u001b[39m][\u001b[38;5;124m'\u001b[39m\u001b[38;5;124mtop1_acc\u001b[39m\u001b[38;5;124m'\u001b[39m]\n\u001b[1;32m      8\u001b[0m \u001b[38;5;66;03m# Plotting the training and validation loss\u001b[39;00m\n\u001b[0;32m----> 9\u001b[0m \u001b[43mplt\u001b[49m\u001b[38;5;241m.\u001b[39mfigure(\u001b[38;5;241m1\u001b[39m)\n\u001b[1;32m     10\u001b[0m plt\u001b[38;5;241m.\u001b[39mfigure(figsize\u001b[38;5;241m=\u001b[39m(\u001b[38;5;241m10\u001b[39m,\u001b[38;5;241m6\u001b[39m))\n\u001b[1;32m     11\u001b[0m plt\u001b[38;5;241m.\u001b[39mplot(epochs, train_loss, label\u001b[38;5;241m=\u001b[39m\u001b[38;5;124m'\u001b[39m\u001b[38;5;124mTraining Loss\u001b[39m\u001b[38;5;124m'\u001b[39m, color\u001b[38;5;241m=\u001b[39m\u001b[38;5;124m'\u001b[39m\u001b[38;5;124mblue\u001b[39m\u001b[38;5;124m'\u001b[39m, linestyle\u001b[38;5;241m=\u001b[39m\u001b[38;5;124m'\u001b[39m\u001b[38;5;124m-\u001b[39m\u001b[38;5;124m'\u001b[39m, marker\u001b[38;5;241m=\u001b[39m\u001b[38;5;124m'\u001b[39m\u001b[38;5;124mo\u001b[39m\u001b[38;5;124m'\u001b[39m)\n",
      "\u001b[0;31mNameError\u001b[0m: name 'plt' is not defined"
     ]
    }
   ],
   "source": [
    "plot_model_train(epoch_data, title = 'Retraining on Imagenet dataset (weight initialization from OFA)')"
   ]
  },
  {
   "cell_type": "code",
   "execution_count": null,
   "id": "6b47d2e5",
   "metadata": {
    "_cell_guid": "cab47f0a-2bb4-4697-808b-3fadd4cb253d",
    "_uuid": "3e96f462-17ae-4f05-b3a6-38bb3b266494",
    "collapsed": false,
    "jupyter": {
     "outputs_hidden": false
    },
    "papermill": {
     "duration": null,
     "end_time": null,
     "exception": null,
     "start_time": null,
     "status": "pending"
    },
    "tags": []
   },
   "outputs": [],
   "source": [
    "torch.save(model, 'model_retrained_search_11.pth')"
   ]
  },
  {
   "cell_type": "code",
   "execution_count": null,
   "id": "02441a78",
   "metadata": {
    "_cell_guid": "783f46c2-cb89-4496-a2ab-4a364848a359",
    "_uuid": "97670473-b3a2-4a54-86a7-b74925f2217c",
    "collapsed": false,
    "jupyter": {
     "outputs_hidden": false
    },
    "papermill": {
     "duration": null,
     "end_time": null,
     "exception": null,
     "start_time": null,
     "status": "pending"
    },
    "tags": []
   },
   "outputs": [],
   "source": [
    "print(epoch_data)"
   ]
  }
 ],
 "metadata": {
  "kaggle": {
   "accelerator": "gpu",
   "dataSources": [
    {
     "databundleVersionId": 4225553,
     "sourceId": 6799,
     "sourceType": "competition"
    },
    {
     "datasetId": 3655658,
     "sourceId": 6348120,
     "sourceType": "datasetVersion"
    },
    {
     "datasetId": 4400759,
     "sourceId": 7556785,
     "sourceType": "datasetVersion"
    }
   ],
   "dockerImageVersionId": 30648,
   "isGpuEnabled": true,
   "isInternetEnabled": true,
   "language": "python",
   "sourceType": "notebook"
  },
  "kernelspec": {
   "display_name": "Python 3",
   "language": "python",
   "name": "python3"
  },
  "language_info": {
   "codemirror_mode": {
    "name": "ipython",
    "version": 3
   },
   "file_extension": ".py",
   "mimetype": "text/x-python",
   "name": "python",
   "nbconvert_exporter": "python",
   "pygments_lexer": "ipython3",
   "version": "3.10.13"
  },
  "papermill": {
   "default_parameters": {},
   "duration": 31274.02135,
   "end_time": "2024-02-08T02:46:28.433303",
   "environment_variables": {},
   "exception": true,
   "input_path": "__notebook__.ipynb",
   "output_path": "__notebook__.ipynb",
   "parameters": {},
   "start_time": "2024-02-07T18:05:14.411953",
   "version": "2.5.0"
  }
 },
 "nbformat": 4,
 "nbformat_minor": 5
}
