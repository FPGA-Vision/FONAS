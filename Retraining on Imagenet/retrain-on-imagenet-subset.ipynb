{
 "cells": [
  {
   "cell_type": "code",
   "execution_count": 1,
   "id": "16b95d29",
   "metadata": {
    "_cell_guid": "e38dde57-6eca-4a2d-a04f-2f363a4d82bb",
    "_uuid": "a9489d44-6db1-4bae-a418-a7ba02ac646a",
    "collapsed": false,
    "execution": {
     "iopub.execute_input": "2024-02-08T04:04:33.473543Z",
     "iopub.status.busy": "2024-02-08T04:04:33.472672Z",
     "iopub.status.idle": "2024-02-08T04:04:40.017746Z",
     "shell.execute_reply": "2024-02-08T04:04:40.016908Z"
    },
    "jupyter": {
     "outputs_hidden": false
    },
    "papermill": {
     "duration": 6.555399,
     "end_time": "2024-02-08T04:04:40.020122",
     "exception": false,
     "start_time": "2024-02-08T04:04:33.464723",
     "status": "completed"
    },
    "tags": []
   },
   "outputs": [],
   "source": [
    "import torch \n",
    "import torchvision\n",
    "import os\n",
    "import torch.nn as nn\n",
    "from torchvision import transforms, datasets\n",
    "import math\n",
    "import time\n",
    "from tqdm import tqdm\n",
    "import shutil\n",
    "import matplotlib.pyplot as plt\n"
   ]
  },
  {
   "cell_type": "code",
   "execution_count": 2,
   "id": "6279df7b",
   "metadata": {
    "execution": {
     "iopub.execute_input": "2024-02-08T04:04:40.034060Z",
     "iopub.status.busy": "2024-02-08T04:04:40.033229Z",
     "iopub.status.idle": "2024-02-08T04:04:53.961426Z",
     "shell.execute_reply": "2024-02-08T04:04:53.960196Z"
    },
    "papermill": {
     "duration": 13.937554,
     "end_time": "2024-02-08T04:04:53.963864",
     "exception": false,
     "start_time": "2024-02-08T04:04:40.026310",
     "status": "completed"
    },
    "tags": []
   },
   "outputs": [
    {
     "name": "stdout",
     "output_type": "stream",
     "text": [
      "Collecting ofa\r\n",
      "  Downloading ofa-0.1.0.post202307202001-py3-none-any.whl.metadata (1.4 kB)\r\n",
      "Requirement already satisfied: torch in /opt/conda/lib/python3.10/site-packages (from ofa) (2.1.2)\r\n",
      "Requirement already satisfied: filelock in /opt/conda/lib/python3.10/site-packages (from torch->ofa) (3.13.1)\r\n",
      "Requirement already satisfied: typing-extensions in /opt/conda/lib/python3.10/site-packages (from torch->ofa) (4.9.0)\r\n",
      "Requirement already satisfied: sympy in /opt/conda/lib/python3.10/site-packages (from torch->ofa) (1.12)\r\n",
      "Requirement already satisfied: networkx in /opt/conda/lib/python3.10/site-packages (from torch->ofa) (3.2.1)\r\n",
      "Requirement already satisfied: jinja2 in /opt/conda/lib/python3.10/site-packages (from torch->ofa) (3.1.2)\r\n",
      "Requirement already satisfied: fsspec in /opt/conda/lib/python3.10/site-packages (from torch->ofa) (2023.12.2)\r\n",
      "Requirement already satisfied: MarkupSafe>=2.0 in /opt/conda/lib/python3.10/site-packages (from jinja2->torch->ofa) (2.1.3)\r\n",
      "Requirement already satisfied: mpmath>=0.19 in /opt/conda/lib/python3.10/site-packages (from sympy->torch->ofa) (1.3.0)\r\n",
      "Downloading ofa-0.1.0.post202307202001-py3-none-any.whl (107 kB)\r\n",
      "\u001b[2K   \u001b[90m━━━━━━━━━━━━━━━━━━━━━━━━━━━━━━━━━━━━━━━━\u001b[0m \u001b[32m107.6/107.6 kB\u001b[0m \u001b[31m3.2 MB/s\u001b[0m eta \u001b[36m0:00:00\u001b[0m\r\n",
      "\u001b[?25hInstalling collected packages: ofa\r\n",
      "Successfully installed ofa-0.1.0.post202307202001\r\n"
     ]
    }
   ],
   "source": [
    "!pip install ofa"
   ]
  },
  {
   "cell_type": "code",
   "execution_count": 3,
   "id": "dd50fb02",
   "metadata": {
    "_cell_guid": "425540e9-03a6-480a-ace1-2d4cba172bdc",
    "_uuid": "64b3ef75-47ce-4ea3-b6ca-9d8762147596",
    "collapsed": false,
    "execution": {
     "iopub.execute_input": "2024-02-08T04:04:53.978989Z",
     "iopub.status.busy": "2024-02-08T04:04:53.978583Z",
     "iopub.status.idle": "2024-02-08T04:04:54.032211Z",
     "shell.execute_reply": "2024-02-08T04:04:54.031196Z"
    },
    "jupyter": {
     "outputs_hidden": false
    },
    "papermill": {
     "duration": 0.063239,
     "end_time": "2024-02-08T04:04:54.034163",
     "exception": false,
     "start_time": "2024-02-08T04:04:53.970924",
     "status": "completed"
    },
    "tags": []
   },
   "outputs": [
    {
     "name": "stdout",
     "output_type": "stream",
     "text": [
      "Using GPU.\n"
     ]
    }
   ],
   "source": [
    "cuda_available = torch.cuda.is_available()\n",
    "if cuda_available:\n",
    "    torch.backends.cudnn.enabled = True\n",
    "    torch.backends.cudnn.benchmark = True\n",
    "    print('Using GPU.')\n",
    "else:\n",
    "    print('Using CPU.')"
   ]
  },
  {
   "cell_type": "code",
   "execution_count": 4,
   "id": "1965d093",
   "metadata": {
    "_cell_guid": "9e47e6c8-6420-4c02-b574-a3c37d7996d3",
    "_uuid": "9efe61bc-5e03-49fe-b3b0-134196a55381",
    "collapsed": false,
    "execution": {
     "iopub.execute_input": "2024-02-08T04:04:54.048829Z",
     "iopub.status.busy": "2024-02-08T04:04:54.048455Z",
     "iopub.status.idle": "2024-02-08T04:05:02.894676Z",
     "shell.execute_reply": "2024-02-08T04:05:02.893644Z"
    },
    "jupyter": {
     "outputs_hidden": false
    },
    "papermill": {
     "duration": 8.85653,
     "end_time": "2024-02-08T04:05:02.897282",
     "exception": false,
     "start_time": "2024-02-08T04:04:54.040752",
     "status": "completed"
    },
    "tags": []
   },
   "outputs": [
    {
     "name": "stdout",
     "output_type": "stream",
     "text": [
      "The ImageNet dataset files are ready.\n",
      "The ImageNet dataloader is ready. Size : 10016\n"
     ]
    }
   ],
   "source": [
    "batch_size=32\n",
    "\n",
    "#I will use a susbset of imagenetval of 10k images \n",
    "if cuda_available:\n",
    "    # path to the ImageNet dataset\n",
    "    # link --> https://www.kaggle.com/datasets/titericz/imagenet1k-val\n",
    "    \n",
    "    imagenet_data_path = '/kaggle/input/imagenet1k-subset-100k-train-and-10k-val/imagenet_subval'\n",
    "\n",
    "    # if 'imagenet_data_path' is empty, download a subset of ImageNet containing 2000 images (~250M) for test\n",
    "    if not os.path.isdir(imagenet_data_path):\n",
    "        print('%s is empty. Download a subset of ImageNet for test.' % imagenet_data_path)\n",
    "\n",
    "    print('The ImageNet dataset files are ready.')\n",
    "else:\n",
    "    print('Since GPU is not found in the environment, we skip all scripts related to ImageNet evaluation.')\n",
    "    \n",
    "    \n",
    "  \n",
    "if cuda_available:\n",
    "    # The following function build the data transforms for test\n",
    "    def build_val_transform(size):\n",
    "        return transforms.Compose([\n",
    "            transforms.Resize(int(math.ceil(size / 0.875))),\n",
    "            transforms.CenterCrop(size),\n",
    "            transforms.ToTensor(),\n",
    "            transforms.Normalize(\n",
    "                mean=[0.485, 0.456, 0.406],\n",
    "                std=[0.229, 0.224, 0.225]\n",
    "            ),\n",
    "        ])\n",
    "    \n",
    "    val_data = datasets.ImageFolder(\n",
    "            root=os.path.join(imagenet_data_path),\n",
    "            transform=build_val_transform(224)\n",
    "        )\n",
    "    \n",
    "\n",
    "    val_loader = torch.utils.data.DataLoader(\n",
    "        val_data,\n",
    "        batch_size=batch_size,  \n",
    "        shuffle = True,\n",
    "        num_workers=4,  \n",
    "        pin_memory=True,\n",
    "        drop_last=False,\n",
    "    )\n",
    "    print('The ImageNet dataloader is ready. Size : {}'.format(len(val_loader)*batch_size))\n",
    "else:\n",
    "    data_loader = None\n",
    "    print('Since GPU is not found in the environment, we skip all scripts related to ImageNet evaluation.')"
   ]
  },
  {
   "cell_type": "code",
   "execution_count": 5,
   "id": "04b9cb81",
   "metadata": {
    "_cell_guid": "c641a2fc-9289-4944-972a-ea931b669e45",
    "_uuid": "51b4024d-5e14-4129-8ff0-18024d68ba0e",
    "collapsed": false,
    "execution": {
     "iopub.execute_input": "2024-02-08T04:05:02.915037Z",
     "iopub.status.busy": "2024-02-08T04:05:02.914280Z",
     "iopub.status.idle": "2024-02-08T04:06:03.175249Z",
     "shell.execute_reply": "2024-02-08T04:06:03.174221Z"
    },
    "jupyter": {
     "outputs_hidden": false
    },
    "papermill": {
     "duration": 60.278843,
     "end_time": "2024-02-08T04:06:03.184105",
     "exception": false,
     "start_time": "2024-02-08T04:05:02.905262",
     "status": "completed"
    },
    "tags": []
   },
   "outputs": [
    {
     "name": "stdout",
     "output_type": "stream",
     "text": [
      "The ImageNet train set is ready. Size : 100000\n"
     ]
    }
   ],
   "source": [
    "\n",
    "train_path = '/kaggle/input/imagenet1k-subset-100k-train-and-10k-val/imagenet_subtrain'\n",
    "\n",
    "train_data = datasets.ImageFolder(\n",
    "            root= train_path,\n",
    "            transform=build_val_transform(224)\n",
    "        )\n",
    "\n",
    "train_loader = torch.utils.data.DataLoader(\n",
    "        train_data,\n",
    "        batch_size=batch_size, \n",
    "        shuffle = True,\n",
    "        num_workers=4,  \n",
    "        pin_memory=True,\n",
    "        drop_last=False,\n",
    "    )\n",
    "\n",
    "print('The ImageNet train set is ready. Size : {}'.format(len(train_loader)*batch_size))"
   ]
  },
  {
   "cell_type": "code",
   "execution_count": 6,
   "id": "913a7576",
   "metadata": {
    "_cell_guid": "30f8341b-17f8-4c2c-98c5-74d07c911cdb",
    "_uuid": "5dbb7d20-09d2-4308-9a56-d10812f1b839",
    "collapsed": false,
    "execution": {
     "iopub.execute_input": "2024-02-08T04:06:03.199414Z",
     "iopub.status.busy": "2024-02-08T04:06:03.198661Z",
     "iopub.status.idle": "2024-02-08T04:06:03.204563Z",
     "shell.execute_reply": "2024-02-08T04:06:03.203663Z"
    },
    "jupyter": {
     "outputs_hidden": false
    },
    "papermill": {
     "duration": 0.016143,
     "end_time": "2024-02-08T04:06:03.206933",
     "exception": false,
     "start_time": "2024-02-08T04:06:03.190790",
     "status": "completed"
    },
    "tags": []
   },
   "outputs": [
    {
     "name": "stdout",
     "output_type": "stream",
     "text": [
      "{'train': 100000, 'val': 10016}\n"
     ]
    }
   ],
   "source": [
    "dataloaders = {}\n",
    "dataloaders['train'] = train_loader\n",
    "dataloaders['val'] = val_loader\n",
    "\n",
    "dataset_sizes = {'train': len(train_loader)*32,\n",
    "                'val': len(val_loader)*32}\n",
    "print(dataset_sizes)"
   ]
  },
  {
   "cell_type": "code",
   "execution_count": 7,
   "id": "30307bf9",
   "metadata": {
    "_cell_guid": "ac478889-aad5-4068-9c5d-91c4227c662e",
    "_uuid": "d9673355-e089-4e6d-8c58-247ff6bde6bc",
    "collapsed": false,
    "execution": {
     "iopub.execute_input": "2024-02-08T04:06:03.221479Z",
     "iopub.status.busy": "2024-02-08T04:06:03.221193Z",
     "iopub.status.idle": "2024-02-08T04:06:03.237671Z",
     "shell.execute_reply": "2024-02-08T04:06:03.236843Z"
    },
    "jupyter": {
     "outputs_hidden": false
    },
    "papermill": {
     "duration": 0.02591,
     "end_time": "2024-02-08T04:06:03.239501",
     "exception": false,
     "start_time": "2024-02-08T04:06:03.213591",
     "status": "completed"
    },
    "tags": []
   },
   "outputs": [],
   "source": [
    "def train_model(model, criterion, optimizer, scheduler, num_epochs=5):\n",
    "    since = time.time()\n",
    "\n",
    "    #storing epoch data\n",
    "    epoch_data = {\n",
    "        'epoch': [],\n",
    "        'train': {'loss': [], 'top1_acc': [], 'top5_acc': []},\n",
    "        'val': {'loss': [], 'top1_acc': [], 'top5_acc': []}\n",
    "    }\n",
    "    \n",
    "    # Create a temporary directory\n",
    "    tempdir = '/kaggle/working/temp'\n",
    "    os.makedirs(tempdir, exist_ok=True)\n",
    "    best_model_params_path = os.path.join(tempdir, 'best_model_params.pt')\n",
    "\n",
    "    torch.save(model.state_dict(), best_model_params_path)\n",
    "    best_acc = 0.0\n",
    "\n",
    "    for epoch in range(num_epochs):\n",
    "        print(f'Epoch {epoch+1}/{num_epochs}')\n",
    "        print('-' * 10)\n",
    "        epoch_data['epoch'].append(epoch+1)\n",
    "        \n",
    "        for phase in ['train', 'val']:\n",
    "            if phase == 'train':\n",
    "                model.train()\n",
    "            else:\n",
    "                model.eval()\n",
    "            running_loss = 0.0\n",
    "            top1_corrects = 0\n",
    "            top5_corrects = 0\n",
    "            \n",
    "            for inputs, labels in tqdm(dataloaders[phase], leave=False):\n",
    "                inputs = inputs.to(device)\n",
    "                labels = labels.to(device)\n",
    "\n",
    "                optimizer.zero_grad()\n",
    "\n",
    "                with torch.set_grad_enabled(phase == 'train'):\n",
    "                    outputs = model(inputs)\n",
    "                    _, preds = torch.max(outputs, 1)\n",
    "                    loss = criterion(outputs, labels)\n",
    "\n",
    "                    if phase == 'train':\n",
    "                        loss.backward()\n",
    "                        optimizer.step()\n",
    "\n",
    "                running_loss += loss.item() * inputs.size(0)\n",
    "                \n",
    "                # Calculate top-1 accuracy\n",
    "                top1_corrects += torch.sum(preds == labels.data)\n",
    "                \n",
    "                # Calculate top-5 accuracy\n",
    "                _, top5_preds = torch.topk(outputs, 5, dim=1)\n",
    "                top5_corrects += torch.sum(top5_preds == labels.view(-1, 1))\n",
    "\n",
    "            if phase == 'train':\n",
    "                scheduler.step()\n",
    "\n",
    "            epoch_loss = running_loss / dataset_sizes[phase]\n",
    "            epoch_top1_acc = top1_corrects.double() / dataset_sizes[phase]\n",
    "            epoch_top5_acc = top5_corrects.double() / dataset_sizes[phase]\n",
    "            \n",
    "            epoch_data[phase]['loss'].append(epoch_loss)\n",
    "            epoch_data[phase]['top1_acc'].append(epoch_top1_acc)\n",
    "            epoch_data[phase]['top5_acc'].append(epoch_top5_acc)\n",
    "\n",
    "            print(f'{phase} Loss: {epoch_loss:.4f} Top-1 Acc: {epoch_top1_acc:.4f} Top-5 Acc: {epoch_top5_acc:.4f}')\n",
    "\n",
    "            if phase == 'val' and epoch_top1_acc > best_acc:\n",
    "                best_acc = epoch_top1_acc\n",
    "                best_top5 = epoch_top5_acc\n",
    "                torch.save(model.state_dict(), best_model_params_path)\n",
    "\n",
    "        print()\n",
    "\n",
    "    time_elapsed = time.time() - since\n",
    "    print(f'Training complete in {time_elapsed // 60:.0f}m {time_elapsed % 60:.0f}s')\n",
    "    print(f'Best val Top-1 Acc {best_acc:4f} /n Best val Top-5: {best_top5:4f}')\n",
    "\n",
    "    model.load_state_dict(torch.load(best_model_params_path))\n",
    "\n",
    "    # Clean up the temporary directory\n",
    "    shutil.rmtree(tempdir)\n",
    "\n",
    "    return model, epoch_data"
   ]
  },
  {
   "cell_type": "code",
   "execution_count": 8,
   "id": "f3cd0e52",
   "metadata": {
    "execution": {
     "iopub.execute_input": "2024-02-08T04:06:03.254474Z",
     "iopub.status.busy": "2024-02-08T04:06:03.254196Z",
     "iopub.status.idle": "2024-02-08T04:06:03.259888Z",
     "shell.execute_reply": "2024-02-08T04:06:03.259075Z"
    },
    "papermill": {
     "duration": 0.015561,
     "end_time": "2024-02-08T04:06:03.261752",
     "exception": false,
     "start_time": "2024-02-08T04:06:03.246191",
     "status": "completed"
    },
    "tags": []
   },
   "outputs": [],
   "source": [
    "# def train_model(model, criterion, optimizer, scheduler, num_epochs=5):\n",
    "#     since = time.time()\n",
    "\n",
    "#     #storing epoch data\n",
    "#     epoch_data =     {\n",
    "#         'epoch': [],\n",
    "#         'train': {'loss': [], 'acc': []},\n",
    "#         'val': {'loss': [], 'acc': [] }\n",
    "#     }\n",
    "    \n",
    "#     # Create a temporary directory in Kaggle's temp directory\n",
    "#     tempdir = '/kaggle/working/temp'\n",
    "#     os.makedirs(tempdir, exist_ok=True)\n",
    "#     best_model_params_path = os.path.join(tempdir, 'best_model_params.pt')\n",
    "\n",
    "#     torch.save(model.state_dict(), best_model_params_path)\n",
    "#     best_acc = 0.0\n",
    "\n",
    "#     for epoch in range(num_epochs):\n",
    "#         print(f'Epoch {epoch+1}/{num_epochs}')\n",
    "#         print('-' * 10)\n",
    "#         epoch_data['epoch'].append(epoch+1)\n",
    "        \n",
    "#         for phase in ['train', 'val']:\n",
    "#             if phase == 'train':\n",
    "#                 model.train()\n",
    "#             else:\n",
    "#                 model.eval()\n",
    "#             running_loss = 0.0\n",
    "#             running_corrects = 0\n",
    "\n",
    "            \n",
    "\n",
    "#             for inputs, labels in tqdm(dataloaders[phase], leave=False):\n",
    "#                 inputs = inputs.to(device)\n",
    "#                 labels = labels.to(device)\n",
    "\n",
    "#                 optimizer.zero_grad()\n",
    "\n",
    "#                 with torch.set_grad_enabled(phase == 'train'):\n",
    "#                     outputs = model(inputs)\n",
    "#                     _, preds = torch.max(outputs, 1)\n",
    "#                     loss = criterion(outputs, labels)\n",
    "\n",
    "#                     if phase == 'train':\n",
    "#                         loss.backward()\n",
    "#                         optimizer.step()\n",
    "\n",
    "#                 running_loss += loss.item() * inputs.size(0)\n",
    "#                 running_corrects += torch.sum(preds == labels.data)\n",
    "\n",
    "#             if phase == 'train':\n",
    "#                 scheduler.step()\n",
    "\n",
    "#             epoch_loss = running_loss / dataset_sizes[phase]\n",
    "#             epoch_acc = running_corrects.double() / dataset_sizes[phase]\n",
    "#             epoch_data[phase]['loss'].append(epoch_loss)\n",
    "#             epoch_data[phase]['acc'].append(epoch_acc)\n",
    "\n",
    "#             print(f'{phase} Loss: {epoch_loss:.4f} Acc: {epoch_acc:.4f}')\n",
    "\n",
    "#             if phase == 'val' and epoch_acc > best_acc:\n",
    "#                 best_acc = epoch_acc\n",
    "#                 torch.save(model, best_model_params_path)\n",
    "\n",
    "#         print()\n",
    "\n",
    "#     time_elapsed = time.time() - since\n",
    "#     print(f'Training complete in {time_elapsed // 60:.0f}m {time_elapsed % 60:.0f}s')\n",
    "#     print(f'Best val Acc: {best_acc:4f}')\n",
    "\n",
    "#     torch.load(best_model_params_path)\n",
    "\n",
    "#     # Clean up the temporary directory\n",
    "#     shutil.rmtree(tempdir)\n",
    "\n",
    "#     return model, epoch_data"
   ]
  },
  {
   "cell_type": "code",
   "execution_count": 9,
   "id": "ed8966b8",
   "metadata": {
    "_cell_guid": "a573259c-a51e-4dfa-8161-2111ea19a2f8",
    "_uuid": "e3a50488-6e7d-4b0e-a9de-f275a82ff61c",
    "collapsed": false,
    "execution": {
     "iopub.execute_input": "2024-02-08T04:06:03.276273Z",
     "iopub.status.busy": "2024-02-08T04:06:03.275964Z",
     "iopub.status.idle": "2024-02-08T04:06:03.280286Z",
     "shell.execute_reply": "2024-02-08T04:06:03.279272Z"
    },
    "jupyter": {
     "outputs_hidden": false
    },
    "papermill": {
     "duration": 0.013912,
     "end_time": "2024-02-08T04:06:03.282269",
     "exception": false,
     "start_time": "2024-02-08T04:06:03.268357",
     "status": "completed"
    },
    "tags": []
   },
   "outputs": [],
   "source": [
    "device = 'cuda' if cuda_available else 'cpu'\n"
   ]
  },
  {
   "cell_type": "code",
   "execution_count": 10,
   "id": "1ebff97e",
   "metadata": {
    "_cell_guid": "a944df62-574c-4d67-a66f-79966b050691",
    "_uuid": "5255bed4-b0fd-43ed-90b7-c5c2dfe1002f",
    "collapsed": false,
    "execution": {
     "iopub.execute_input": "2024-02-08T04:06:03.298359Z",
     "iopub.status.busy": "2024-02-08T04:06:03.297774Z",
     "iopub.status.idle": "2024-02-08T04:06:06.196060Z",
     "shell.execute_reply": "2024-02-08T04:06:06.194922Z"
    },
    "jupyter": {
     "outputs_hidden": false
    },
    "papermill": {
     "duration": 2.908192,
     "end_time": "2024-02-08T04:06:06.198300",
     "exception": false,
     "start_time": "2024-02-08T04:06:03.290108",
     "status": "completed"
    },
    "tags": []
   },
   "outputs": [
    {
     "name": "stdout",
     "output_type": "stream",
     "text": [
      "Loaded\n",
      "Loaded\n",
      "Loaded\n",
      "Loaded\n",
      "Loaded\n",
      "Loaded\n"
     ]
    }
   ],
   "source": [
    "all_models = []\n",
    "name = []\n",
    "path = '/kaggle/input/searched-models-nas-fpga/models'\n",
    "for file in os.listdir(path):\n",
    "    m_path = os.path.join(path, file)\n",
    "    name.append(file)\n",
    "    all_models.append(torch.load(m_path))\n",
    "    print('Loaded')\n",
    "\n"
   ]
  },
  {
   "cell_type": "code",
   "execution_count": 11,
   "id": "758119ac",
   "metadata": {
    "execution": {
     "iopub.execute_input": "2024-02-08T04:06:06.215413Z",
     "iopub.status.busy": "2024-02-08T04:06:06.215069Z",
     "iopub.status.idle": "2024-02-08T05:28:14.846060Z",
     "shell.execute_reply": "2024-02-08T05:28:14.844888Z"
    },
    "papermill": {
     "duration": 4928.642531,
     "end_time": "2024-02-08T05:28:14.848150",
     "exception": false,
     "start_time": "2024-02-08T04:06:06.205619",
     "status": "completed"
    },
    "tags": []
   },
   "outputs": [
    {
     "name": "stdout",
     "output_type": "stream",
     "text": [
      "Retraining all models \n",
      "Training moder_search_13.pth\n",
      "\n",
      "Epoch 1/2\n",
      "----------\n"
     ]
    },
    {
     "name": "stderr",
     "output_type": "stream",
     "text": [
      "                                                   \r"
     ]
    },
    {
     "name": "stdout",
     "output_type": "stream",
     "text": [
      "train Loss: 0.5530 Top-1 Acc: 0.8859 Top-5 Acc: 0.9813\n"
     ]
    },
    {
     "name": "stderr",
     "output_type": "stream",
     "text": [
      "                                                 \r"
     ]
    },
    {
     "name": "stdout",
     "output_type": "stream",
     "text": [
      "val Loss: 0.9671 Top-1 Acc: 0.7651 Top-5 Acc: 0.9342\n",
      "\n",
      "Epoch 2/2\n",
      "----------\n"
     ]
    },
    {
     "name": "stderr",
     "output_type": "stream",
     "text": [
      "                                                   \r"
     ]
    },
    {
     "name": "stdout",
     "output_type": "stream",
     "text": [
      "train Loss: 0.5077 Top-1 Acc: 0.8862 Top-5 Acc: 0.9810\n"
     ]
    },
    {
     "name": "stderr",
     "output_type": "stream",
     "text": [
      "                                                 \r"
     ]
    },
    {
     "name": "stdout",
     "output_type": "stream",
     "text": [
      "val Loss: 0.9443 Top-1 Acc: 0.7656 Top-5 Acc: 0.9330\n",
      "\n",
      "Training complete in 13m 42s\n",
      "Best val Top-1 Acc 0.765575 /n Best val Top-5: 0.933007\n",
      "*****************************************************\n",
      "Training moder_search_11.pth\n",
      "\n",
      "Epoch 1/2\n",
      "----------\n"
     ]
    },
    {
     "name": "stderr",
     "output_type": "stream",
     "text": [
      "                                                   \r"
     ]
    },
    {
     "name": "stdout",
     "output_type": "stream",
     "text": [
      "train Loss: 0.6099 Top-1 Acc: 0.8737 Top-5 Acc: 0.9775\n"
     ]
    },
    {
     "name": "stderr",
     "output_type": "stream",
     "text": [
      "                                                 \r"
     ]
    },
    {
     "name": "stdout",
     "output_type": "stream",
     "text": [
      "val Loss: 0.9903 Top-1 Acc: 0.7567 Top-5 Acc: 0.9274\n",
      "\n",
      "Epoch 2/2\n",
      "----------\n"
     ]
    },
    {
     "name": "stderr",
     "output_type": "stream",
     "text": [
      "                                                   \r"
     ]
    },
    {
     "name": "stdout",
     "output_type": "stream",
     "text": [
      "train Loss: 0.5694 Top-1 Acc: 0.8728 Top-5 Acc: 0.9780\n"
     ]
    },
    {
     "name": "stderr",
     "output_type": "stream",
     "text": [
      "                                                 \r"
     ]
    },
    {
     "name": "stdout",
     "output_type": "stream",
     "text": [
      "val Loss: 0.9765 Top-1 Acc: 0.7580 Top-5 Acc: 0.9264\n",
      "\n",
      "Training complete in 12m 9s\n",
      "Best val Top-1 Acc 0.757987 /n Best val Top-5: 0.926418\n",
      "*****************************************************\n",
      "Training moder_search_20.pth\n",
      "\n",
      "Epoch 1/2\n",
      "----------\n"
     ]
    },
    {
     "name": "stderr",
     "output_type": "stream",
     "text": [
      "                                                   \r"
     ]
    },
    {
     "name": "stdout",
     "output_type": "stream",
     "text": [
      "train Loss: 0.4863 Top-1 Acc: 0.8938 Top-5 Acc: 0.9845\n"
     ]
    },
    {
     "name": "stderr",
     "output_type": "stream",
     "text": [
      "                                                 \r"
     ]
    },
    {
     "name": "stdout",
     "output_type": "stream",
     "text": [
      "val Loss: 0.9155 Top-1 Acc: 0.7808 Top-5 Acc: 0.9397\n",
      "\n",
      "Epoch 2/2\n",
      "----------\n"
     ]
    },
    {
     "name": "stderr",
     "output_type": "stream",
     "text": [
      "                                                   \r"
     ]
    },
    {
     "name": "stdout",
     "output_type": "stream",
     "text": [
      "train Loss: 0.4462 Top-1 Acc: 0.8958 Top-5 Acc: 0.9846\n"
     ]
    },
    {
     "name": "stderr",
     "output_type": "stream",
     "text": [
      "                                                 \r"
     ]
    },
    {
     "name": "stdout",
     "output_type": "stream",
     "text": [
      "val Loss: 0.8862 Top-1 Acc: 0.7828 Top-5 Acc: 0.9401\n",
      "\n",
      "Training complete in 14m 21s\n",
      "Best val Top-1 Acc 0.782847 /n Best val Top-5: 0.940096\n",
      "*****************************************************\n",
      "Training moder_search_12.pth\n",
      "\n",
      "Epoch 1/2\n",
      "----------\n"
     ]
    },
    {
     "name": "stderr",
     "output_type": "stream",
     "text": [
      "                                                   \r"
     ]
    },
    {
     "name": "stdout",
     "output_type": "stream",
     "text": [
      "train Loss: 0.5644 Top-1 Acc: 0.8828 Top-5 Acc: 0.9801\n"
     ]
    },
    {
     "name": "stderr",
     "output_type": "stream",
     "text": [
      "                                                 \r"
     ]
    },
    {
     "name": "stdout",
     "output_type": "stream",
     "text": [
      "val Loss: 0.9777 Top-1 Acc: 0.7633 Top-5 Acc: 0.9311\n",
      "\n",
      "Epoch 2/2\n",
      "----------\n"
     ]
    },
    {
     "name": "stderr",
     "output_type": "stream",
     "text": [
      "                                                   \r"
     ]
    },
    {
     "name": "stdout",
     "output_type": "stream",
     "text": [
      "train Loss: 0.5176 Top-1 Acc: 0.8833 Top-5 Acc: 0.9801\n"
     ]
    },
    {
     "name": "stderr",
     "output_type": "stream",
     "text": [
      "                                                 \r"
     ]
    },
    {
     "name": "stdout",
     "output_type": "stream",
     "text": [
      "val Loss: 0.9557 Top-1 Acc: 0.7632 Top-5 Acc: 0.9317\n",
      "\n",
      "Training complete in 11m 52s\n",
      "Best val Top-1 Acc 0.763279 /n Best val Top-5: 0.931110\n",
      "*****************************************************\n",
      "Training moder_search_25.pth\n",
      "\n",
      "Epoch 1/2\n",
      "----------\n"
     ]
    },
    {
     "name": "stderr",
     "output_type": "stream",
     "text": [
      "                                                   \r"
     ]
    },
    {
     "name": "stdout",
     "output_type": "stream",
     "text": [
      "train Loss: 0.4762 Top-1 Acc: 0.8953 Top-5 Acc: 0.9850\n"
     ]
    },
    {
     "name": "stderr",
     "output_type": "stream",
     "text": [
      "                                                 \r"
     ]
    },
    {
     "name": "stdout",
     "output_type": "stream",
     "text": [
      "val Loss: 0.9287 Top-1 Acc: 0.7852 Top-5 Acc: 0.9416\n",
      "\n",
      "Epoch 2/2\n",
      "----------\n"
     ]
    },
    {
     "name": "stderr",
     "output_type": "stream",
     "text": [
      "                                                   \r"
     ]
    },
    {
     "name": "stdout",
     "output_type": "stream",
     "text": [
      "train Loss: 0.4402 Top-1 Acc: 0.8963 Top-5 Acc: 0.9853\n"
     ]
    },
    {
     "name": "stderr",
     "output_type": "stream",
     "text": [
      "                                                 \r"
     ]
    },
    {
     "name": "stdout",
     "output_type": "stream",
     "text": [
      "val Loss: 0.8969 Top-1 Acc: 0.7846 Top-5 Acc: 0.9427\n",
      "\n",
      "Training complete in 16m 59s\n",
      "Best val Top-1 Acc 0.785244 /n Best val Top-5: 0.941593\n",
      "*****************************************************\n",
      "Training moder_search_15.pth\n",
      "\n",
      "Epoch 1/2\n",
      "----------\n"
     ]
    },
    {
     "name": "stderr",
     "output_type": "stream",
     "text": [
      "                                                   \r"
     ]
    },
    {
     "name": "stdout",
     "output_type": "stream",
     "text": [
      "train Loss: 0.5077 Top-1 Acc: 0.8886 Top-5 Acc: 0.9827\n"
     ]
    },
    {
     "name": "stderr",
     "output_type": "stream",
     "text": [
      "                                                 \r"
     ]
    },
    {
     "name": "stdout",
     "output_type": "stream",
     "text": [
      "val Loss: 0.9442 Top-1 Acc: 0.7737 Top-5 Acc: 0.9379\n",
      "\n",
      "Epoch 2/2\n",
      "----------\n"
     ]
    },
    {
     "name": "stderr",
     "output_type": "stream",
     "text": [
      "                                                   \r"
     ]
    },
    {
     "name": "stdout",
     "output_type": "stream",
     "text": [
      "train Loss: 0.4634 Top-1 Acc: 0.8902 Top-5 Acc: 0.9833\n"
     ]
    },
    {
     "name": "stderr",
     "output_type": "stream",
     "text": [
      "                                                 \r"
     ]
    },
    {
     "name": "stdout",
     "output_type": "stream",
     "text": [
      "val Loss: 0.9183 Top-1 Acc: 0.7740 Top-5 Acc: 0.9372\n",
      "\n",
      "Training complete in 13m 4s\n",
      "Best val Top-1 Acc 0.773962 /n Best val Top-5: 0.937200\n",
      "*****************************************************\n"
     ]
    }
   ],
   "source": [
    "print('Retraining all models ')\n",
    "data = {}\n",
    "\n",
    "for i, model in enumerate(all_models):\n",
    "    \n",
    "    print(f'Training {name[i]}\\n')\n",
    "    \n",
    "    torch.cuda.empty_cache()\n",
    "    \n",
    "    \n",
    "    model = model.to(device)\n",
    "    criterion = nn.CrossEntropyLoss()\n",
    "\n",
    "    # Observe that all parameters are being optimized\n",
    "    optimizer_ft = torch.optim.SGD(model.parameters(), lr=0.00001, momentum=0.9)\n",
    "\n",
    "    # Decay LR by a factor of 0.1 every 7 epochs\n",
    "    exp_lr_scheduler = torch.optim.lr_scheduler.StepLR(optimizer_ft, step_size=2, gamma=0.5)\n",
    "    \n",
    "    model, epoch_data = train_model(model, criterion, optimizer_ft, exp_lr_scheduler,\n",
    "                       num_epochs=2)\n",
    "    \n",
    "    torch.save(model, name[i])\n",
    "    data[name[i]] = epoch_data\n",
    "    print('*****************************************************')"
   ]
  },
  {
   "cell_type": "code",
   "execution_count": 12,
   "id": "f7b8b9e5",
   "metadata": {
    "execution": {
     "iopub.execute_input": "2024-02-08T05:28:19.645216Z",
     "iopub.status.busy": "2024-02-08T05:28:19.644838Z",
     "iopub.status.idle": "2024-02-08T05:28:19.780286Z",
     "shell.execute_reply": "2024-02-08T05:28:19.779409Z"
    },
    "papermill": {
     "duration": 2.54864,
     "end_time": "2024-02-08T05:28:19.782612",
     "exception": false,
     "start_time": "2024-02-08T05:28:17.233972",
     "status": "completed"
    },
    "tags": []
   },
   "outputs": [
    {
     "name": "stdout",
     "output_type": "stream",
     "text": [
      "{'moder_search_13.pth': {'epoch': [1, 2], 'train': {'loss': [0.5529902351927757, 0.5076511818456649], 'top1_acc': [tensor(0.8859, device='cuda:0', dtype=torch.float64), tensor(0.8862, device='cuda:0', dtype=torch.float64)], 'top5_acc': [tensor(0.9813, device='cuda:0', dtype=torch.float64), tensor(0.9810, device='cuda:0', dtype=torch.float64)]}, 'val': {'loss': [0.9670505795996791, 0.9443170449223381], 'top1_acc': [tensor(0.7651, device='cuda:0', dtype=torch.float64), tensor(0.7656, device='cuda:0', dtype=torch.float64)], 'top5_acc': [tensor(0.9342, device='cuda:0', dtype=torch.float64), tensor(0.9330, device='cuda:0', dtype=torch.float64)]}}, 'moder_search_11.pth': {'epoch': [1, 2], 'train': {'loss': [0.6099257048749924, 0.5694193628692626], 'top1_acc': [tensor(0.8737, device='cuda:0', dtype=torch.float64), tensor(0.8728, device='cuda:0', dtype=torch.float64)], 'top5_acc': [tensor(0.9775, device='cuda:0', dtype=torch.float64), tensor(0.9780, device='cuda:0', dtype=torch.float64)]}, 'val': {'loss': [0.9902729454893655, 0.9765377852101677], 'top1_acc': [tensor(0.7567, device='cuda:0', dtype=torch.float64), tensor(0.7580, device='cuda:0', dtype=torch.float64)], 'top5_acc': [tensor(0.9274, device='cuda:0', dtype=torch.float64), tensor(0.9264, device='cuda:0', dtype=torch.float64)]}}, 'moder_search_20.pth': {'epoch': [1, 2], 'train': {'loss': [0.48625692945003507, 0.4462258849334717], 'top1_acc': [tensor(0.8938, device='cuda:0', dtype=torch.float64), tensor(0.8958, device='cuda:0', dtype=torch.float64)], 'top5_acc': [tensor(0.9845, device='cuda:0', dtype=torch.float64), tensor(0.9846, device='cuda:0', dtype=torch.float64)]}, 'val': {'loss': [0.9154714378305137, 0.886202544259568], 'top1_acc': [tensor(0.7808, device='cuda:0', dtype=torch.float64), tensor(0.7828, device='cuda:0', dtype=torch.float64)], 'top5_acc': [tensor(0.9397, device='cuda:0', dtype=torch.float64), tensor(0.9401, device='cuda:0', dtype=torch.float64)]}}, 'moder_search_12.pth': {'epoch': [1, 2], 'train': {'loss': [0.5644447376441956, 0.5176279921317101], 'top1_acc': [tensor(0.8828, device='cuda:0', dtype=torch.float64), tensor(0.8833, device='cuda:0', dtype=torch.float64)], 'top5_acc': [tensor(0.9801, device='cuda:0', dtype=torch.float64), tensor(0.9801, device='cuda:0', dtype=torch.float64)]}, 'val': {'loss': [0.9776568746985719, 0.9556977903595367], 'top1_acc': [tensor(0.7633, device='cuda:0', dtype=torch.float64), tensor(0.7632, device='cuda:0', dtype=torch.float64)], 'top5_acc': [tensor(0.9311, device='cuda:0', dtype=torch.float64), tensor(0.9317, device='cuda:0', dtype=torch.float64)]}}, 'moder_search_25.pth': {'epoch': [1, 2], 'train': {'loss': [0.4761612346816063, 0.44016154255390166], 'top1_acc': [tensor(0.8953, device='cuda:0', dtype=torch.float64), tensor(0.8963, device='cuda:0', dtype=torch.float64)], 'top5_acc': [tensor(0.9850, device='cuda:0', dtype=torch.float64), tensor(0.9853, device='cuda:0', dtype=torch.float64)]}, 'val': {'loss': [0.9287256395664459, 0.8968904929610487], 'top1_acc': [tensor(0.7852, device='cuda:0', dtype=torch.float64), tensor(0.7846, device='cuda:0', dtype=torch.float64)], 'top5_acc': [tensor(0.9416, device='cuda:0', dtype=torch.float64), tensor(0.9427, device='cuda:0', dtype=torch.float64)]}}, 'moder_search_15.pth': {'epoch': [1, 2], 'train': {'loss': [0.5076512506103515, 0.4634239222240448], 'top1_acc': [tensor(0.8886, device='cuda:0', dtype=torch.float64), tensor(0.8902, device='cuda:0', dtype=torch.float64)], 'top5_acc': [tensor(0.9827, device='cuda:0', dtype=torch.float64), tensor(0.9833, device='cuda:0', dtype=torch.float64)]}, 'val': {'loss': [0.9441887043154659, 0.9182663289026711], 'top1_acc': [tensor(0.7737, device='cuda:0', dtype=torch.float64), tensor(0.7740, device='cuda:0', dtype=torch.float64)], 'top5_acc': [tensor(0.9379, device='cuda:0', dtype=torch.float64), tensor(0.9372, device='cuda:0', dtype=torch.float64)]}}}\n"
     ]
    }
   ],
   "source": [
    "print(data)"
   ]
  },
  {
   "cell_type": "code",
   "execution_count": 13,
   "id": "eb3627ca",
   "metadata": {
    "_cell_guid": "23e981c1-2d89-4245-87a5-5036e507c53f",
    "_uuid": "142da95f-09ff-41a8-9efe-e23e29a3d071",
    "collapsed": false,
    "execution": {
     "iopub.execute_input": "2024-02-08T05:28:24.515730Z",
     "iopub.status.busy": "2024-02-08T05:28:24.515312Z",
     "iopub.status.idle": "2024-02-08T05:28:24.520804Z",
     "shell.execute_reply": "2024-02-08T05:28:24.519933Z"
    },
    "jupyter": {
     "outputs_hidden": false
    },
    "papermill": {
     "duration": 2.418473,
     "end_time": "2024-02-08T05:28:24.522762",
     "exception": false,
     "start_time": "2024-02-08T05:28:22.104289",
     "status": "completed"
    },
    "tags": []
   },
   "outputs": [],
   "source": [
    "# def plot_model_train(epoch_data, title = ' '):\n",
    "#     epochs = epoch_data['epoch']\n",
    "#     train_loss = epoch_data['train']['loss']\n",
    "#     val_loss = epoch_data['val']['loss']\n",
    "#     train_acc = epoch_data['train']['top1_acc']\n",
    "#     val_acc = epoch_data['val']['top1_acc']\n",
    "\n",
    "#     # Plotting the training and validation loss\n",
    "#     plt.figure(1)\n",
    "#     plt.figure(figsize=(10,6))\n",
    "#     plt.plot(epochs, train_loss, label='Training Loss', color='blue', linestyle='-', marker='o')\n",
    "#     plt.plot(epochs, val_loss, label='Validation Loss', color='red', linestyle='--', marker='s')\n",
    "#     plt.xlabel('Epoch', color='black')\n",
    "#     plt.ylabel('Loss', color='black')\n",
    "#     plt.title('Training and validation loss'+title, color='black')\n",
    "#     plt.legend(loc='upper right', facecolor='white', framealpha=1)\n",
    "#     plt.grid(color='gray', linestyle='--', linewidth=0.5)\n",
    "#     plt.xticks(range(1,21))\n",
    "#     plt.savefig('plot2.png')\n",
    "#     # Plotting the training and validation accuracy\n",
    "#     plt.figure(2)\n",
    "#     plt.figure(figsize=(10,6))\n",
    "#     plt.plot(epochs, train_acc, label='Training Accuracy', color='blue', linestyle='-', marker='^')\n",
    "#     plt.plot(epochs, val_acc, label='Validation Accuracy', color='red', linestyle='--', marker='d')\n",
    "#     plt.xlabel('Epoch', color='black')\n",
    "#     plt.ylabel('Accuracy', color='black')\n",
    "#     plt.title('Training and validation accuracy'+title, color='black')\n",
    "#     plt.legend(loc='lower right', facecolor='white', framealpha=1)\n",
    "#     plt.grid(color='gray', linestyle='--', linewidth=0.5)\n",
    "#     plt.xticks(range(1,21))\n",
    "    \n",
    "#     n = random.randint(0,100)\n",
    "#     plt.savefig(f'plot{n}.png')\n",
    "\n",
    "#     plt.show()"
   ]
  },
  {
   "cell_type": "code",
   "execution_count": 14,
   "id": "14f4bcb6",
   "metadata": {
    "_cell_guid": "6abd8390-8550-46a6-a70c-b7a6f0a3932c",
    "_uuid": "c93e9f66-59b4-4d5d-9ee2-651f17535976",
    "collapsed": false,
    "execution": {
     "iopub.execute_input": "2024-02-08T05:28:29.200745Z",
     "iopub.status.busy": "2024-02-08T05:28:29.200355Z",
     "iopub.status.idle": "2024-02-08T05:28:29.204579Z",
     "shell.execute_reply": "2024-02-08T05:28:29.203672Z"
    },
    "jupyter": {
     "outputs_hidden": false
    },
    "papermill": {
     "duration": 2.279488,
     "end_time": "2024-02-08T05:28:29.206683",
     "exception": false,
     "start_time": "2024-02-08T05:28:26.927195",
     "status": "completed"
    },
    "tags": []
   },
   "outputs": [],
   "source": [
    "# plot_model_train(epoch_data, title = 'Retraining on Imagenet dataset (weight initialization from OFA)')"
   ]
  },
  {
   "cell_type": "code",
   "execution_count": 15,
   "id": "a46054f5",
   "metadata": {
    "_cell_guid": "c4fcbc75-c6f1-4581-a6d7-b6f1333f70d9",
    "_uuid": "36dd6e2a-e3a1-4d47-92b0-1cb776776a7a",
    "collapsed": false,
    "execution": {
     "iopub.execute_input": "2024-02-08T05:28:33.859448Z",
     "iopub.status.busy": "2024-02-08T05:28:33.859080Z",
     "iopub.status.idle": "2024-02-08T05:28:33.863040Z",
     "shell.execute_reply": "2024-02-08T05:28:33.862157Z"
    },
    "jupyter": {
     "outputs_hidden": false
    },
    "papermill": {
     "duration": 2.328155,
     "end_time": "2024-02-08T05:28:33.864906",
     "exception": false,
     "start_time": "2024-02-08T05:28:31.536751",
     "status": "completed"
    },
    "tags": []
   },
   "outputs": [],
   "source": [
    "# torch.save(model, 'model_retrained_search_11.pth')"
   ]
  },
  {
   "cell_type": "code",
   "execution_count": 16,
   "id": "c0861a1f",
   "metadata": {
    "_cell_guid": "6aa5abbe-65cc-463a-bb86-b22a4100c874",
    "_uuid": "f44f803c-cd2c-47ab-b924-15b19801cb97",
    "collapsed": false,
    "execution": {
     "iopub.execute_input": "2024-02-08T05:28:38.515202Z",
     "iopub.status.busy": "2024-02-08T05:28:38.514830Z",
     "iopub.status.idle": "2024-02-08T05:28:38.519053Z",
     "shell.execute_reply": "2024-02-08T05:28:38.518170Z"
    },
    "jupyter": {
     "outputs_hidden": false
    },
    "papermill": {
     "duration": 2.353671,
     "end_time": "2024-02-08T05:28:38.521061",
     "exception": false,
     "start_time": "2024-02-08T05:28:36.167390",
     "status": "completed"
    },
    "tags": []
   },
   "outputs": [],
   "source": [
    "# print(epoch_data)"
   ]
  }
 ],
 "metadata": {
  "kaggle": {
   "accelerator": "gpu",
   "dataSources": [
    {
     "datasetId": 4400759,
     "sourceId": 7556785,
     "sourceType": "datasetVersion"
    },
    {
     "datasetId": 4413931,
     "sourceId": 7582952,
     "sourceType": "datasetVersion"
    }
   ],
   "dockerImageVersionId": 30646,
   "isGpuEnabled": true,
   "isInternetEnabled": true,
   "language": "python",
   "sourceType": "notebook"
  },
  "kernelspec": {
   "display_name": "Python 3",
   "language": "python",
   "name": "python3"
  },
  "language_info": {
   "codemirror_mode": {
    "name": "ipython",
    "version": 3
   },
   "file_extension": ".py",
   "mimetype": "text/x-python",
   "name": "python",
   "nbconvert_exporter": "python",
   "pygments_lexer": "ipython3",
   "version": "3.10.13"
  },
  "papermill": {
   "default_parameters": {},
   "duration": 5053.309243,
   "end_time": "2024-02-08T05:28:43.911050",
   "environment_variables": {},
   "exception": null,
   "input_path": "__notebook__.ipynb",
   "output_path": "__notebook__.ipynb",
   "parameters": {},
   "start_time": "2024-02-08T04:04:30.601807",
   "version": "2.5.0"
  }
 },
 "nbformat": 4,
 "nbformat_minor": 5
}
