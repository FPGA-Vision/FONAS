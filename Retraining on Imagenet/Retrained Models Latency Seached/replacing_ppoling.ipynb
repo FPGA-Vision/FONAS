{
 "cells": [
  {
   "cell_type": "code",
   "execution_count": 1,
   "metadata": {},
   "outputs": [],
   "source": [
    "import torch \n",
    "import torch.nn as nn\n",
    "import os\n",
    "import ofa"
   ]
  },
  {
   "cell_type": "code",
   "execution_count": 6,
   "metadata": {},
   "outputs": [
    {
     "name": "stdout",
     "output_type": "stream",
     "text": [
      "Collecting ofa\n",
      "  Downloading ofa-0.1.0.post202307202001-py3-none-any.whl.metadata (1.4 kB)\n",
      "Requirement already satisfied: torch in x:\\softwares\\anaconda\\envs\\ml\\lib\\site-packages (from ofa) (2.1.0)\n",
      "Requirement already satisfied: filelock in x:\\softwares\\anaconda\\envs\\ml\\lib\\site-packages (from torch->ofa) (3.13.1)\n",
      "Requirement already satisfied: typing-extensions in x:\\softwares\\anaconda\\envs\\ml\\lib\\site-packages (from torch->ofa) (4.9.0)\n",
      "Requirement already satisfied: sympy in x:\\softwares\\anaconda\\envs\\ml\\lib\\site-packages (from torch->ofa) (1.12)\n",
      "Requirement already satisfied: networkx in x:\\softwares\\anaconda\\envs\\ml\\lib\\site-packages (from torch->ofa) (3.1)\n",
      "Requirement already satisfied: jinja2 in x:\\softwares\\anaconda\\envs\\ml\\lib\\site-packages (from torch->ofa) (3.1.2)\n",
      "Requirement already satisfied: fsspec in x:\\softwares\\anaconda\\envs\\ml\\lib\\site-packages (from torch->ofa) (2023.10.0)\n",
      "Requirement already satisfied: MarkupSafe>=2.0 in x:\\softwares\\anaconda\\envs\\ml\\lib\\site-packages (from jinja2->torch->ofa) (2.1.3)\n",
      "Requirement already satisfied: mpmath>=0.19 in x:\\softwares\\anaconda\\envs\\ml\\lib\\site-packages (from sympy->torch->ofa) (1.3.0)\n",
      "Downloading ofa-0.1.0.post202307202001-py3-none-any.whl (107 kB)\n",
      "   ---------------------------------------- 0.0/107.6 kB ? eta -:--:--\n",
      "   ---------------------------------------- 0.0/107.6 kB ? eta -:--:--\n",
      "   --- ------------------------------------ 10.2/107.6 kB ? eta -:--:--\n",
      "   ----------- --------------------------- 30.7/107.6 kB 435.7 kB/s eta 0:00:01\n",
      "   -------------- ------------------------ 41.0/107.6 kB 326.8 kB/s eta 0:00:01\n",
      "   --------------------------------- ----- 92.2/107.6 kB 525.1 kB/s eta 0:00:01\n",
      "   ------------------------------------ - 102.4/107.6 kB 590.8 kB/s eta 0:00:01\n",
      "   -------------------------------------- 107.6/107.6 kB 479.5 kB/s eta 0:00:00\n",
      "Installing collected packages: ofa\n",
      "Successfully installed ofa-0.1.0.post202307202001\n"
     ]
    }
   ],
   "source": [
    "!pip install ofa"
   ]
  },
  {
   "cell_type": "code",
   "execution_count": 2,
   "metadata": {},
   "outputs": [
    {
     "name": "stderr",
     "output_type": "stream",
     "text": [
      "x:\\Softwares\\anaconda\\envs\\ml\\lib\\site-packages\\torchvision\\io\\image.py:13: UserWarning: Failed to load image Python extension: '[WinError 127] The specified procedure could not be found'If you don't plan on using image functionality from `torchvision.io`, you can ignore this warning. Otherwise, there might be something wrong with your environment. Did you have `libjpeg` or `libpng` installed before building `torchvision` from source?\n",
      "  warn(\n"
     ]
    },
    {
     "name": "stdout",
     "output_type": "stream",
     "text": [
      "Done\n"
     ]
    }
   ],
   "source": [
    "models = []\n",
    "names = []\n",
    "for fname in os.listdir('.'):\n",
    "    if '.pth' in fname:\n",
    "        names.append(fname)\n",
    "        models.append(torch.load(fname, map_location=torch.device('cpu')))\n",
    "print(\"Done\")"
   ]
  },
  {
   "cell_type": "code",
   "execution_count": 3,
   "metadata": {},
   "outputs": [
    {
     "name": "stdout",
     "output_type": "stream",
     "text": [
      "yes\n",
      "yes\n",
      "yes\n",
      "yes\n",
      "yes\n",
      "yes\n",
      "yes\n"
     ]
    }
   ],
   "source": [
    "for model in models:\n",
    "    for name,m in model.named_modules():\n",
    "        if isinstance(m, ofa.utils.pytorch_modules.MyGlobalAvgPool2d):\n",
    "            setattr(model, name, nn.AdaptiveAvgPool2d((1,1)))\n",
    "            print(\"yes\")\n",
    "        \n",
    "        "
   ]
  },
  {
   "cell_type": "code",
   "execution_count": 32,
   "metadata": {},
   "outputs": [],
   "source": [
    "!mkdir replaced_avg"
   ]
  },
  {
   "cell_type": "code",
   "execution_count": 4,
   "metadata": {},
   "outputs": [
    {
     "name": "stdout",
     "output_type": "stream",
     "text": [
      "done\n",
      "done\n",
      "done\n",
      "done\n",
      "done\n",
      "done\n",
      "done\n"
     ]
    }
   ],
   "source": [
    "for i, model in enumerate(models):\n",
    "    torch.save(model, f'./replaced_avg/{names[i]}')\n",
    "    print('done')"
   ]
  }
 ],
 "metadata": {
  "kernelspec": {
   "display_name": "ml",
   "language": "python",
   "name": "python3"
  },
  "language_info": {
   "codemirror_mode": {
    "name": "ipython",
    "version": 3
   },
   "file_extension": ".py",
   "mimetype": "text/x-python",
   "name": "python",
   "nbconvert_exporter": "python",
   "pygments_lexer": "ipython3",
   "version": "3.8.18"
  }
 },
 "nbformat": 4,
 "nbformat_minor": 2
}
