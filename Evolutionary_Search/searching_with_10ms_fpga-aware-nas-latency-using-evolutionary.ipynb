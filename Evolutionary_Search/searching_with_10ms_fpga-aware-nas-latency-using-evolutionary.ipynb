{
 "cells": [
  {
   "cell_type": "markdown",
   "id": "bb13d192",
   "metadata": {
    "_cell_guid": "b72d2cc2-6903-4a1a-b966-dd65184120a5",
    "_uuid": "214f39c3-e9b3-4d4a-9191-7fbccd0da632",
    "papermill": {
     "duration": 0.018189,
     "end_time": "2024-02-08T08:01:23.661990",
     "exception": false,
     "start_time": "2024-02-08T08:01:23.643801",
     "status": "completed"
    },
    "tags": []
   },
   "source": [
    "## Searching for Hardware Aware Neural Networks on ImageNet for FPGA in MobilenetV3 Search Space\n",
    "\n",
    "\n",
    "We will be utilizing **[Once-for-All (OFA)](https://github.com/mit-han-lab/once-for-all)** network trained on MobilenetV3 search space as a our supernetwork to intialize the weights which would make the training of our searched network faster. We also need to estimate the accuracy of samples in our search space because it requires significant amount of time to train each subnet for evaluating its perfomace. This slows down the searching process. Utilizing the accuracy peredictory MLP that was trained on the (arch, accu) dataset in our search space would speed up the search process as we won't have to train the network at all. The search is perfomed on the Imagenet Dataset. \n",
    "\n",
    "We have also build a latency table by manualy deploying all the unique blocks of our search space on ULTRA96v2 FPGA board this will be utilized to estimate latency of our networks."
   ]
  },
  {
   "cell_type": "markdown",
   "id": "91913e36",
   "metadata": {
    "_cell_guid": "7ff1f4fe-c4e8-464e-bcd0-f05d4a2fb091",
    "_uuid": "ca674990-a38b-40ff-9e89-cc0242feac5a",
    "papermill": {
     "duration": 0.016868,
     "end_time": "2024-02-08T08:01:23.696452",
     "exception": false,
     "start_time": "2024-02-08T08:01:23.679584",
     "status": "completed"
    },
    "tags": []
   },
   "source": [
    "## 1. Preparation\n",
    "Let's first install all the required packages:"
   ]
  },
  {
   "cell_type": "code",
   "execution_count": 1,
   "id": "d8712c48",
   "metadata": {
    "_cell_guid": "5f7d2c59-4621-45ce-bf03-40e532baaf47",
    "_uuid": "2541a397-5182-423f-a65e-a83893b1a12a",
    "collapsed": false,
    "execution": {
     "iopub.execute_input": "2024-02-08T08:01:23.733534Z",
     "iopub.status.busy": "2024-02-08T08:01:23.733189Z",
     "iopub.status.idle": "2024-02-08T08:02:42.024363Z",
     "shell.execute_reply": "2024-02-08T08:02:42.023289Z"
    },
    "jupyter": {
     "outputs_hidden": false
    },
    "papermill": {
     "duration": 78.313032,
     "end_time": "2024-02-08T08:02:42.026914",
     "exception": false,
     "start_time": "2024-02-08T08:01:23.713882",
     "status": "completed"
    },
    "tags": []
   },
   "outputs": [
    {
     "name": "stdout",
     "output_type": "stream",
     "text": [
      "rm: cannot remove '/kaggle/working/Evolutionary-Neural-Architectural-Search-for-FPGAs': No such file or directory\r\n",
      "rm: cannot remove '/kaggle/working/ofa': No such file or directory\r\n",
      "rm: cannot remove '/kaggle/working/viz': No such file or directory\r\n",
      "rm: cannot remove '/kaggle/working/search_space_blocks': No such file or directory\r\n",
      "rm: cannot remove '/kaggle/working/blocks': No such file or directory\r\n",
      "rm: cannot remove '/kaggle/working/figures': No such file or directory\r\n",
      "Collecting thop\r\n",
      "  Downloading thop-0.1.1.post2209072238-py3-none-any.whl (15 kB)\r\n",
      "Requirement already satisfied: torch in /opt/conda/lib/python3.10/site-packages (from thop) (2.1.2)\r\n",
      "Requirement already satisfied: filelock in /opt/conda/lib/python3.10/site-packages (from torch->thop) (3.13.1)\r\n",
      "Requirement already satisfied: typing-extensions in /opt/conda/lib/python3.10/site-packages (from torch->thop) (4.9.0)\r\n",
      "Requirement already satisfied: sympy in /opt/conda/lib/python3.10/site-packages (from torch->thop) (1.12)\r\n",
      "Requirement already satisfied: networkx in /opt/conda/lib/python3.10/site-packages (from torch->thop) (3.2.1)\r\n",
      "Requirement already satisfied: jinja2 in /opt/conda/lib/python3.10/site-packages (from torch->thop) (3.1.2)\r\n",
      "Requirement already satisfied: fsspec in /opt/conda/lib/python3.10/site-packages (from torch->thop) (2023.12.2)\r\n",
      "Requirement already satisfied: MarkupSafe>=2.0 in /opt/conda/lib/python3.10/site-packages (from jinja2->torch->thop) (2.1.3)\r\n",
      "Requirement already satisfied: mpmath>=0.19 in /opt/conda/lib/python3.10/site-packages (from sympy->torch->thop) (1.3.0)\r\n",
      "Installing collected packages: thop\r\n",
      "Successfully installed thop-0.1.1.post2209072238\r\n",
      "Collecting gdown\r\n",
      "  Downloading gdown-5.1.0-py3-none-any.whl.metadata (5.7 kB)\r\n",
      "Requirement already satisfied: beautifulsoup4 in /opt/conda/lib/python3.10/site-packages (from gdown) (4.12.2)\r\n",
      "Requirement already satisfied: filelock in /opt/conda/lib/python3.10/site-packages (from gdown) (3.13.1)\r\n",
      "Requirement already satisfied: requests[socks] in /opt/conda/lib/python3.10/site-packages (from gdown) (2.31.0)\r\n",
      "Requirement already satisfied: tqdm in /opt/conda/lib/python3.10/site-packages (from gdown) (4.66.1)\r\n",
      "Requirement already satisfied: soupsieve>1.2 in /opt/conda/lib/python3.10/site-packages (from beautifulsoup4->gdown) (2.5)\r\n",
      "Requirement already satisfied: charset-normalizer<4,>=2 in /opt/conda/lib/python3.10/site-packages (from requests[socks]->gdown) (3.3.2)\r\n",
      "Requirement already satisfied: idna<4,>=2.5 in /opt/conda/lib/python3.10/site-packages (from requests[socks]->gdown) (3.6)\r\n",
      "Requirement already satisfied: urllib3<3,>=1.21.1 in /opt/conda/lib/python3.10/site-packages (from requests[socks]->gdown) (1.26.18)\r\n",
      "Requirement already satisfied: certifi>=2017.4.17 in /opt/conda/lib/python3.10/site-packages (from requests[socks]->gdown) (2023.11.17)\r\n",
      "Requirement already satisfied: PySocks!=1.5.7,>=1.5.6 in /opt/conda/lib/python3.10/site-packages (from requests[socks]->gdown) (1.7.1)\r\n",
      "Downloading gdown-5.1.0-py3-none-any.whl (17 kB)\r\n",
      "Installing collected packages: gdown\r\n",
      "Successfully installed gdown-5.1.0\r\n",
      "\u001b[31mERROR: Could not find a version that satisfies the requirement shutil (from versions: none)\u001b[0m\u001b[31m\r\n",
      "\u001b[0m\u001b[31mERROR: No matching distribution found for shutil\u001b[0m\u001b[31m\r\n",
      "\u001b[0mRequirement already satisfied: graphviz in /opt/conda/lib/python3.10/site-packages (0.20.1)\r\n",
      "Collecting torch-summary\r\n",
      "  Downloading torch_summary-1.4.5-py3-none-any.whl (16 kB)\r\n",
      "Installing collected packages: torch-summary\r\n",
      "Successfully installed torch-summary-1.4.5\r\n",
      "Cloning into 'Evolutionary-Neural-Architectural-Search-for-FPGAs'...\r\n",
      "remote: Enumerating objects: 451, done.\u001b[K\r\n",
      "remote: Counting objects: 100% (215/215), done.\u001b[K\r\n",
      "remote: Compressing objects: 100% (198/198), done.\u001b[K\r\n",
      "remote: Total 451 (delta 21), reused 197 (delta 14), pack-reused 236\u001b[K\r\n",
      "Receiving objects: 100% (451/451), 439.41 MiB | 37.57 MiB/s, done.\r\n",
      "Resolving deltas: 100% (75/75), done.\r\n",
      "Updating files: 100% (149/149), done.\r\n"
     ]
    }
   ],
   "source": [
    "# For kaggle\n",
    "!rm -r /kaggle/working/Evolutionary-Neural-Architectural-Search-for-FPGAs /kaggle/working/ofa /kaggle/working/viz /kaggle/working/search_space_blocks /kaggle/working/blocks /kaggle/working/figures\n",
    "\n",
    "!pip install thop \n",
    "! pip install gdown\n",
    "!pip install shutil\n",
    "!pip install graphviz\n",
    "! pip install torch-summary \n",
    "! git clone --branch for_kaggle https://github.com/amitpant7/Evolutionary-Neural-Architectural-Search-for-FPGAs.git\n",
    "! mv -f /kaggle/working/Evolutionary-Neural-Architectural-Search-for-FPGAs/* /kaggle/working\n",
    "! rm -r Evolutionary-Neural-Architectural-Search-for-FPGAs"
   ]
  },
  {
   "cell_type": "code",
   "execution_count": 2,
   "id": "af4e07e1",
   "metadata": {
    "_cell_guid": "e8f24185-24c8-4f69-98fc-2234a3274353",
    "_uuid": "e0f9376e-390f-47e2-8026-06088f0c7457",
    "collapsed": false,
    "execution": {
     "iopub.execute_input": "2024-02-08T08:02:42.078494Z",
     "iopub.status.busy": "2024-02-08T08:02:42.078164Z",
     "iopub.status.idle": "2024-02-08T08:03:32.551199Z",
     "shell.execute_reply": "2024-02-08T08:03:32.550211Z"
    },
    "jupyter": {
     "outputs_hidden": false
    },
    "papermill": {
     "duration": 50.501677,
     "end_time": "2024-02-08T08:03:32.553620",
     "exception": false,
     "start_time": "2024-02-08T08:02:42.051943",
     "status": "completed"
    },
    "tags": []
   },
   "outputs": [
    {
     "name": "stdout",
     "output_type": "stream",
     "text": [
      "Requirement already satisfied: thop in /opt/conda/lib/python3.10/site-packages (0.1.1.post2209072238)\r\n",
      "Requirement already satisfied: torch in /opt/conda/lib/python3.10/site-packages (from thop) (2.1.2)\r\n",
      "Requirement already satisfied: filelock in /opt/conda/lib/python3.10/site-packages (from torch->thop) (3.13.1)\r\n",
      "Requirement already satisfied: typing-extensions in /opt/conda/lib/python3.10/site-packages (from torch->thop) (4.9.0)\r\n",
      "Requirement already satisfied: sympy in /opt/conda/lib/python3.10/site-packages (from torch->thop) (1.12)\r\n",
      "Requirement already satisfied: networkx in /opt/conda/lib/python3.10/site-packages (from torch->thop) (3.2.1)\r\n",
      "Requirement already satisfied: jinja2 in /opt/conda/lib/python3.10/site-packages (from torch->thop) (3.1.2)\r\n",
      "Requirement already satisfied: fsspec in /opt/conda/lib/python3.10/site-packages (from torch->thop) (2023.12.2)\r\n",
      "Requirement already satisfied: MarkupSafe>=2.0 in /opt/conda/lib/python3.10/site-packages (from jinja2->torch->thop) (2.1.3)\r\n",
      "Requirement already satisfied: mpmath>=0.19 in /opt/conda/lib/python3.10/site-packages (from sympy->torch->thop) (1.3.0)\r\n",
      "Requirement already satisfied: gdown in /opt/conda/lib/python3.10/site-packages (5.1.0)\r\n",
      "Requirement already satisfied: beautifulsoup4 in /opt/conda/lib/python3.10/site-packages (from gdown) (4.12.2)\r\n",
      "Requirement already satisfied: filelock in /opt/conda/lib/python3.10/site-packages (from gdown) (3.13.1)\r\n",
      "Requirement already satisfied: requests[socks] in /opt/conda/lib/python3.10/site-packages (from gdown) (2.31.0)\r\n",
      "Requirement already satisfied: tqdm in /opt/conda/lib/python3.10/site-packages (from gdown) (4.66.1)\r\n",
      "Requirement already satisfied: soupsieve>1.2 in /opt/conda/lib/python3.10/site-packages (from beautifulsoup4->gdown) (2.5)\r\n",
      "Requirement already satisfied: charset-normalizer<4,>=2 in /opt/conda/lib/python3.10/site-packages (from requests[socks]->gdown) (3.3.2)\r\n",
      "Requirement already satisfied: idna<4,>=2.5 in /opt/conda/lib/python3.10/site-packages (from requests[socks]->gdown) (3.6)\r\n",
      "Requirement already satisfied: urllib3<3,>=1.21.1 in /opt/conda/lib/python3.10/site-packages (from requests[socks]->gdown) (1.26.18)\r\n",
      "Requirement already satisfied: certifi>=2017.4.17 in /opt/conda/lib/python3.10/site-packages (from requests[socks]->gdown) (2023.11.17)\r\n",
      "Requirement already satisfied: PySocks!=1.5.7,>=1.5.6 in /opt/conda/lib/python3.10/site-packages (from requests[socks]->gdown) (1.7.1)\r\n",
      "\u001b[31mERROR: Could not find a version that satisfies the requirement shutil (from versions: none)\u001b[0m\u001b[31m\r\n",
      "\u001b[0m\u001b[31mERROR: No matching distribution found for shutil\u001b[0m\u001b[31m\r\n",
      "\u001b[0mRequirement already satisfied: graphviz in /opt/conda/lib/python3.10/site-packages (0.20.1)\r\n",
      "Requirement already satisfied: torch-summary in /opt/conda/lib/python3.10/site-packages (1.4.5)\r\n"
     ]
    }
   ],
   "source": [
    "!pip install thop \n",
    "! pip install gdown\n",
    "!pip install shutil\n",
    "!pip install graphviz\n",
    "! pip install torch-summary"
   ]
  },
  {
   "cell_type": "code",
   "execution_count": 3,
   "id": "7d2b93f3",
   "metadata": {
    "_cell_guid": "51e2d4b2-f708-426b-8006-f93ac6f1de51",
    "_uuid": "c79b023d-9eb3-4fd9-87d4-624f89997d7d",
    "collapsed": false,
    "execution": {
     "iopub.execute_input": "2024-02-08T08:03:32.607029Z",
     "iopub.status.busy": "2024-02-08T08:03:32.606451Z",
     "iopub.status.idle": "2024-02-08T08:04:57.764369Z",
     "shell.execute_reply": "2024-02-08T08:04:57.763242Z"
    },
    "jupyter": {
     "outputs_hidden": false
    },
    "papermill": {
     "duration": 85.186864,
     "end_time": "2024-02-08T08:04:57.766426",
     "exception": false,
     "start_time": "2024-02-08T08:03:32.579562",
     "status": "completed"
    },
    "tags": []
   },
   "outputs": [
    {
     "name": "stdout",
     "output_type": "stream",
     "text": [
      "Installing PyTorch...\n",
      "Requirement already satisfied: torch in /opt/conda/lib/python3.10/site-packages (2.1.2)\r\n",
      "Requirement already satisfied: filelock in /opt/conda/lib/python3.10/site-packages (from torch) (3.13.1)\r\n",
      "Requirement already satisfied: typing-extensions in /opt/conda/lib/python3.10/site-packages (from torch) (4.9.0)\r\n",
      "Requirement already satisfied: sympy in /opt/conda/lib/python3.10/site-packages (from torch) (1.12)\r\n",
      "Requirement already satisfied: networkx in /opt/conda/lib/python3.10/site-packages (from torch) (3.2.1)\r\n",
      "Requirement already satisfied: jinja2 in /opt/conda/lib/python3.10/site-packages (from torch) (3.1.2)\r\n",
      "Requirement already satisfied: fsspec in /opt/conda/lib/python3.10/site-packages (from torch) (2023.12.2)\r\n",
      "Requirement already satisfied: MarkupSafe>=2.0 in /opt/conda/lib/python3.10/site-packages (from jinja2->torch) (2.1.3)\r\n",
      "Requirement already satisfied: mpmath>=0.19 in /opt/conda/lib/python3.10/site-packages (from sympy->torch) (1.3.0)\r\n",
      "Installing torchvision...\n",
      "Requirement already satisfied: torchvision in /opt/conda/lib/python3.10/site-packages (0.16.2)\r\n",
      "Requirement already satisfied: numpy in /opt/conda/lib/python3.10/site-packages (from torchvision) (1.24.4)\r\n",
      "Requirement already satisfied: requests in /opt/conda/lib/python3.10/site-packages (from torchvision) (2.31.0)\r\n",
      "Requirement already satisfied: torch in /opt/conda/lib/python3.10/site-packages (from torchvision) (2.1.2)\r\n",
      "Requirement already satisfied: pillow!=8.3.*,>=5.3.0 in /opt/conda/lib/python3.10/site-packages (from torchvision) (9.5.0)\r\n",
      "Requirement already satisfied: charset-normalizer<4,>=2 in /opt/conda/lib/python3.10/site-packages (from requests->torchvision) (3.3.2)\r\n",
      "Requirement already satisfied: idna<4,>=2.5 in /opt/conda/lib/python3.10/site-packages (from requests->torchvision) (3.6)\r\n",
      "Requirement already satisfied: urllib3<3,>=1.21.1 in /opt/conda/lib/python3.10/site-packages (from requests->torchvision) (1.26.18)\r\n",
      "Requirement already satisfied: certifi>=2017.4.17 in /opt/conda/lib/python3.10/site-packages (from requests->torchvision) (2023.11.17)\r\n",
      "Requirement already satisfied: filelock in /opt/conda/lib/python3.10/site-packages (from torch->torchvision) (3.13.1)\r\n",
      "Requirement already satisfied: typing-extensions in /opt/conda/lib/python3.10/site-packages (from torch->torchvision) (4.9.0)\r\n",
      "Requirement already satisfied: sympy in /opt/conda/lib/python3.10/site-packages (from torch->torchvision) (1.12)\r\n",
      "Requirement already satisfied: networkx in /opt/conda/lib/python3.10/site-packages (from torch->torchvision) (3.2.1)\r\n",
      "Requirement already satisfied: jinja2 in /opt/conda/lib/python3.10/site-packages (from torch->torchvision) (3.1.2)\r\n",
      "Requirement already satisfied: fsspec in /opt/conda/lib/python3.10/site-packages (from torch->torchvision) (2023.12.2)\r\n",
      "Requirement already satisfied: MarkupSafe>=2.0 in /opt/conda/lib/python3.10/site-packages (from jinja2->torch->torchvision) (2.1.3)\r\n",
      "Requirement already satisfied: mpmath>=0.19 in /opt/conda/lib/python3.10/site-packages (from sympy->torch->torchvision) (1.3.0)\r\n",
      "Installing numpy...\n",
      "Requirement already satisfied: numpy in /opt/conda/lib/python3.10/site-packages (1.24.4)\r\n",
      "Installing thop (FLOPs counter) ...\n",
      "Requirement already satisfied: thop in /opt/conda/lib/python3.10/site-packages (0.1.1.post2209072238)\r\n",
      "Requirement already satisfied: torch in /opt/conda/lib/python3.10/site-packages (from thop) (2.1.2)\r\n",
      "Requirement already satisfied: filelock in /opt/conda/lib/python3.10/site-packages (from torch->thop) (3.13.1)\r\n",
      "Requirement already satisfied: typing-extensions in /opt/conda/lib/python3.10/site-packages (from torch->thop) (4.9.0)\r\n",
      "Requirement already satisfied: sympy in /opt/conda/lib/python3.10/site-packages (from torch->thop) (1.12)\r\n",
      "Requirement already satisfied: networkx in /opt/conda/lib/python3.10/site-packages (from torch->thop) (3.2.1)\r\n",
      "Requirement already satisfied: jinja2 in /opt/conda/lib/python3.10/site-packages (from torch->thop) (3.1.2)\r\n",
      "Requirement already satisfied: fsspec in /opt/conda/lib/python3.10/site-packages (from torch->thop) (2023.12.2)\r\n",
      "Requirement already satisfied: MarkupSafe>=2.0 in /opt/conda/lib/python3.10/site-packages (from jinja2->torch->thop) (2.1.3)\r\n",
      "Requirement already satisfied: mpmath>=0.19 in /opt/conda/lib/python3.10/site-packages (from sympy->torch->thop) (1.3.0)\r\n",
      "Installing tqdm (progress bar) ...\n",
      "Requirement already satisfied: tqdm in /opt/conda/lib/python3.10/site-packages (4.66.1)\r\n",
      "Installing matplotlib...\n",
      "Requirement already satisfied: matplotlib in /opt/conda/lib/python3.10/site-packages (3.7.4)\r\n",
      "Requirement already satisfied: contourpy>=1.0.1 in /opt/conda/lib/python3.10/site-packages (from matplotlib) (1.2.0)\r\n",
      "Requirement already satisfied: cycler>=0.10 in /opt/conda/lib/python3.10/site-packages (from matplotlib) (0.12.1)\r\n",
      "Requirement already satisfied: fonttools>=4.22.0 in /opt/conda/lib/python3.10/site-packages (from matplotlib) (4.47.0)\r\n",
      "Requirement already satisfied: kiwisolver>=1.0.1 in /opt/conda/lib/python3.10/site-packages (from matplotlib) (1.4.5)\r\n",
      "Requirement already satisfied: numpy<2,>=1.20 in /opt/conda/lib/python3.10/site-packages (from matplotlib) (1.24.4)\r\n",
      "Requirement already satisfied: packaging>=20.0 in /opt/conda/lib/python3.10/site-packages (from matplotlib) (21.3)\r\n",
      "Requirement already satisfied: pillow>=6.2.0 in /opt/conda/lib/python3.10/site-packages (from matplotlib) (9.5.0)\r\n",
      "Requirement already satisfied: pyparsing>=2.3.1 in /opt/conda/lib/python3.10/site-packages (from matplotlib) (3.1.1)\r\n",
      "Requirement already satisfied: python-dateutil>=2.7 in /opt/conda/lib/python3.10/site-packages (from matplotlib) (2.8.2)\r\n",
      "Requirement already satisfied: six>=1.5 in /opt/conda/lib/python3.10/site-packages (from python-dateutil>=2.7->matplotlib) (1.16.0)\r\n",
      "Requirement already satisfied: torch-summary in /opt/conda/lib/python3.10/site-packages (1.4.5)\r\n",
      "All required packages have been successfully installed!\n"
     ]
    }
   ],
   "source": [
    "print('Installing PyTorch...')\n",
    "! pip install torch \n",
    "print('Installing torchvision...')\n",
    "! pip install torchvision\n",
    "print('Installing numpy...')\n",
    "! pip install numpy \n",
    "# thop is a package for FLOPs computing.\n",
    "print('Installing thop (FLOPs counter) ...')\n",
    "! pip install thop \n",
    "# ofa is a package containing training code, pretrained specialized models and inference code for the once-for-all networks.\n",
    "# print('Installing OFA...')\n",
    "# ! pip install ofa \n",
    "# tqdm is a package for displaying a progress bar.\n",
    "print('Installing tqdm (progress bar) ...')\n",
    "! pip install tqdm \n",
    "print('Installing matplotlib...')\n",
    "! pip install matplotlib \n",
    "! pip install torch-summary \n",
    "\n",
    "print('All required packages have been successfully installed!')"
   ]
  },
  {
   "cell_type": "markdown",
   "id": "89aeef35",
   "metadata": {
    "_cell_guid": "f552a9b7-c47b-4998-9e7a-376e85cc8737",
    "_uuid": "bd7c56c3-f0d5-4cc1-886f-80adb0b34918",
    "papermill": {
     "duration": 0.028176,
     "end_time": "2024-02-08T08:04:57.822074",
     "exception": false,
     "start_time": "2024-02-08T08:04:57.793898",
     "status": "completed"
    },
    "tags": []
   },
   "source": [
    "Then, we can import the packages used in this tutorial:"
   ]
  },
  {
   "cell_type": "code",
   "execution_count": 4,
   "id": "8e2f92af",
   "metadata": {
    "_cell_guid": "ed77b74d-713b-40d2-9248-96d4a9556ad4",
    "_uuid": "ef7c9af0-0bcc-4cd2-827d-a2e219c22dc4",
    "collapsed": false,
    "execution": {
     "iopub.execute_input": "2024-02-08T08:04:57.879045Z",
     "iopub.status.busy": "2024-02-08T08:04:57.878220Z",
     "iopub.status.idle": "2024-02-08T08:05:04.498948Z",
     "shell.execute_reply": "2024-02-08T08:05:04.497858Z"
    },
    "jupyter": {
     "outputs_hidden": false
    },
    "papermill": {
     "duration": 6.651172,
     "end_time": "2024-02-08T08:05:04.501131",
     "exception": false,
     "start_time": "2024-02-08T08:04:57.849959",
     "status": "completed"
    },
    "tags": []
   },
   "outputs": [
    {
     "name": "stdout",
     "output_type": "stream",
     "text": [
      "Successfully imported all packages and configured random seed to 1!\n"
     ]
    }
   ],
   "source": [
    "import os\n",
    "import torch\n",
    "import torch.nn as nn\n",
    "from torchvision import transforms, datasets\n",
    "import numpy as np\n",
    "import time\n",
    "import random\n",
    "import shutil\n",
    "import math\n",
    "from PIL import Image\n",
    "import copy\n",
    "from matplotlib import pyplot as plt\n",
    "from torchsummary import summary\n",
    "\n",
    "from ofa.model_zoo import ofa_net\n",
    "from ofa.utils import download_url\n",
    "\n",
    "from ofa.accuracy_predictor import AccuracyPredictor\n",
    "from ofa.flops_table import ArthIntTable\n",
    "\n",
    "from ofa.latency_table import LatencyTable\n",
    "from ofa.evolution_finder import EvolutionFinder\n",
    "from ofa.imagenet_eval_helper import evaluate_ofa_subnet, evaluate_ofa_specialized\n",
    "from ofa.imagenet_classification.elastic_nn.networks.ofa_mbv3 import OFAMobileNetV3\n",
    "\n",
    "from ofa.utils.arch_visualization_helper import draw_arch\n",
    "# from ofa.tutorial import AccuracyPredictor, FLOPsTable, LatencyTable, EvolutionFinder\n",
    "# from ofa.tutorial import evaluate_ofa_subnet, evaluate_ofa_specialized\n",
    "\n",
    "from tqdm import tqdm\n",
    "\n",
    "# set random seed\n",
    "random_seed = 1\n",
    "random.seed(random_seed)\n",
    "np.random.seed(random_seed)\n",
    "torch.manual_seed(random_seed)\n",
    "print('Successfully imported all packages and configured random seed to %d!'%random_seed)"
   ]
  },
  {
   "cell_type": "markdown",
   "id": "4f10580b",
   "metadata": {
    "_cell_guid": "f279ef50-a6ab-4a80-80ce-709e1ec8cffb",
    "_uuid": "86973de5-4c72-492e-adf6-17333c7071ac",
    "papermill": {
     "duration": 0.026862,
     "end_time": "2024-02-08T08:05:04.555428",
     "exception": false,
     "start_time": "2024-02-08T08:05:04.528566",
     "status": "completed"
    },
    "tags": []
   },
   "source": []
  },
  {
   "cell_type": "markdown",
   "id": "9a8af794",
   "metadata": {
    "_cell_guid": "0848ed15-078c-4fbb-90e8-0845550faec4",
    "_uuid": "6cfbc39e-7dfd-4258-85a0-2b33f71a1aae",
    "papermill": {
     "duration": 0.026922,
     "end_time": "2024-02-08T08:05:04.609522",
     "exception": false,
     "start_time": "2024-02-08T08:05:04.582600",
     "status": "completed"
    },
    "tags": []
   },
   "source": [
    "Now it's time to determine which device to use for neural network inference in the rest of this tutorial. If your machine is equipped with GPU(s), we will use the GPU by default. Otherwise, we will use the CPU."
   ]
  },
  {
   "cell_type": "code",
   "execution_count": 5,
   "id": "0c7430ba",
   "metadata": {
    "_cell_guid": "d5958bd8-92cb-47f5-881b-aa17cf37efd3",
    "_uuid": "dbf7d111-1be6-4b50-9e06-352221ee2dbc",
    "collapsed": false,
    "execution": {
     "iopub.execute_input": "2024-02-08T08:05:04.666268Z",
     "iopub.status.busy": "2024-02-08T08:05:04.665372Z",
     "iopub.status.idle": "2024-02-08T08:05:04.718216Z",
     "shell.execute_reply": "2024-02-08T08:05:04.717211Z"
    },
    "jupyter": {
     "outputs_hidden": false
    },
    "papermill": {
     "duration": 0.083616,
     "end_time": "2024-02-08T08:05:04.720395",
     "exception": false,
     "start_time": "2024-02-08T08:05:04.636779",
     "status": "completed"
    },
    "pycharm": {
     "name": "#%%\n"
    },
    "tags": []
   },
   "outputs": [
    {
     "name": "stdout",
     "output_type": "stream",
     "text": [
      "Using GPU.\n"
     ]
    }
   ],
   "source": [
    "#os.environ['CUDA_VISIBLE_DEVICES'] = '0'\n",
    "cuda_available = torch.cuda.is_available()\n",
    "if cuda_available:\n",
    "    torch.backends.cudnn.enabled = True\n",
    "    torch.backends.cudnn.benchmark = True\n",
    "    torch.cuda.manual_seed(random_seed)\n",
    "    print('Using GPU.')\n",
    "else:\n",
    "    print('Using CPU.')"
   ]
  },
  {
   "cell_type": "markdown",
   "id": "6dac93b8",
   "metadata": {
    "_cell_guid": "bb6c6dd9-f5f0-4827-9910-960255b1adc6",
    "_uuid": "c09e05ba-fe8f-40f4-9e5a-a1571e6f49cb",
    "papermill": {
     "duration": 0.028493,
     "end_time": "2024-02-08T08:05:04.828765",
     "exception": false,
     "start_time": "2024-02-08T08:05:04.800272",
     "status": "completed"
    },
    "tags": []
   },
   "source": [
    "##  2. Architecutre Visualization & Encoding: Exploring the OFA network"
   ]
  },
  {
   "cell_type": "markdown",
   "id": "8aead717",
   "metadata": {
    "_cell_guid": "4e9a897b-2400-4dfb-b645-4c6e7d50b283",
    "_uuid": "89b99fd6-0852-448d-8320-3ad97db129d8",
    "papermill": {
     "duration": 0.027345,
     "end_time": "2024-02-08T08:05:04.883682",
     "exception": false,
     "start_time": "2024-02-08T08:05:04.856337",
     "status": "completed"
    },
    "tags": []
   },
   "source": [
    "Good! Now you have successfully configured the environment! It's time to import the **OFA network** for the following experiments.\n",
    "The OFA network used in this tutorial is built upon MobileNetV3 with width multiplier 1.2, supporting elastic depth (2, 3, 4) per stage, elastic expand ratio (3, 4, 6), and elastic kernel size (3, 5 7) per block."
   ]
  },
  {
   "cell_type": "code",
   "execution_count": 6,
   "id": "752ab81a",
   "metadata": {
    "_cell_guid": "671651e1-28c6-465b-b642-26aee18857b2",
    "_uuid": "56ca4498-3d2c-4979-b432-676d4ea3d4f4",
    "collapsed": false,
    "execution": {
     "iopub.execute_input": "2024-02-08T08:05:04.948366Z",
     "iopub.status.busy": "2024-02-08T08:05:04.947982Z",
     "iopub.status.idle": "2024-02-08T08:05:07.425117Z",
     "shell.execute_reply": "2024-02-08T08:05:07.424112Z"
    },
    "jupyter": {
     "outputs_hidden": false
    },
    "papermill": {
     "duration": 2.516181,
     "end_time": "2024-02-08T08:05:07.427441",
     "exception": false,
     "start_time": "2024-02-08T08:05:04.911260",
     "status": "completed"
    },
    "tags": []
   },
   "outputs": [
    {
     "name": "stderr",
     "output_type": "stream",
     "text": [
      "Downloading: \"https://raw.githubusercontent.com/han-cai/files/master/ofa/ofa_nets/ofa_mbv3_d234_e346_k357_w1.2\" to .torch/ofa_nets/ofa_mbv3_d234_e346_k357_w1.2\n"
     ]
    },
    {
     "name": "stdout",
     "output_type": "stream",
     "text": [
      "Supernetwork Ready\n"
     ]
    }
   ],
   "source": [
    "net_id  = 'ofa_mbv3_d234_e346_k357_w1.2'\n",
    "url_base = \"https://raw.githubusercontent.com/han-cai/files/master/ofa/ofa_nets/\"\n",
    "\n",
    "ofa_network = OFAMobileNetV3(\n",
    "            dropout_rate=0,\n",
    "            width_mult=1.2,\n",
    "            ks_list=[3, 5, 7],\n",
    "            expand_ratio_list=[3, 4, 6],\n",
    "            depth_list=[2, 3, 4],\n",
    "        )\n",
    "\n",
    "pt_path = download_url(url_base + net_id, model_dir=\".torch/ofa_nets\")\n",
    "init = torch.load(pt_path, map_location=\"cpu\")[\"state_dict\"]\n",
    "ofa_network.load_state_dict(init)\n",
    "print('Supernetwork Ready')"
   ]
  },
  {
   "cell_type": "markdown",
   "id": "ddde36e8",
   "metadata": {
    "_cell_guid": "bab6acd0-f2a9-455b-a6c1-57cdcc5cdf1a",
    "_uuid": "7f5ba9b9-d1a6-49dd-a433-7a7ee8790783",
    "papermill": {
     "duration": 0.028081,
     "end_time": "2024-02-08T08:05:07.483754",
     "exception": false,
     "start_time": "2024-02-08T08:05:07.455673",
     "status": "completed"
    },
    "tags": []
   },
   "source": [
    "Lets visualize a randomly sampled network from our supernet.\n",
    "\n",
    "In the architecture visualization, the legend of each block MBConv{e}-{k}x{k} means that the current block is a mobile inverted block with expand ratio e and the kernel size of the depthwise convolution layer is k. Different colors of the blocks indicate different kernel sizes, and gray blocks are network stage dividers. Different widths for the blocks indicate different expand ratios. We also annotate the output resolution close to each block."
   ]
  },
  {
   "cell_type": "code",
   "execution_count": 7,
   "id": "6d59ed12",
   "metadata": {
    "_cell_guid": "3c96ea44-9ab4-4bb1-a6c1-8df5db5e2d2f",
    "_uuid": "46f3910d-a8b9-48d1-890f-c78d4cda4afc",
    "collapsed": false,
    "execution": {
     "iopub.execute_input": "2024-02-08T08:05:07.540458Z",
     "iopub.status.busy": "2024-02-08T08:05:07.540082Z",
     "iopub.status.idle": "2024-02-08T08:05:07.806686Z",
     "shell.execute_reply": "2024-02-08T08:05:07.805859Z"
    },
    "jupyter": {
     "outputs_hidden": false
    },
    "papermill": {
     "duration": 0.297763,
     "end_time": "2024-02-08T08:05:07.809099",
     "exception": false,
     "start_time": "2024-02-08T08:05:07.511336",
     "status": "completed"
    },
    "tags": []
   },
   "outputs": [],
   "source": [
    "# Randomly sample sub-networks from OFA network\n",
    "image_size = 224\n",
    "\n",
    "cfg1 = ofa_network.sample_active_subnet()\n",
    "subnet = ofa_network.get_active_subnet(preserve_weight=True)\n",
    "\n",
    "#manualy set the subnet \n",
    "cfg = ofa_network.set_active_subnet(ks=3, e=6, d=4)\n",
    "\n",
    "cfg = ofa_network.set_max_net()\n",
    "subnet2 = ofa_network.get_active_subnet(preserve_weight=True)"
   ]
  },
  {
   "cell_type": "code",
   "execution_count": 8,
   "id": "69ea96e6",
   "metadata": {
    "_cell_guid": "3bdf9a03-0503-449b-868b-88009805638b",
    "_uuid": "d70fb607-b2e1-445c-9934-f550a27e3244",
    "collapsed": false,
    "execution": {
     "iopub.execute_input": "2024-02-08T08:05:07.867049Z",
     "iopub.status.busy": "2024-02-08T08:05:07.866695Z",
     "iopub.status.idle": "2024-02-08T08:05:08.493729Z",
     "shell.execute_reply": "2024-02-08T08:05:08.492855Z"
    },
    "jupyter": {
     "outputs_hidden": false
    },
    "papermill": {
     "duration": 0.65824,
     "end_time": "2024-02-08T08:05:08.495782",
     "exception": false,
     "start_time": "2024-02-08T08:05:07.837542",
     "status": "completed"
    },
    "tags": []
   },
   "outputs": [
    {
     "data": {
      "image/png": "[encoded data removed]",
      "text/plain": [
       "<Figure size 1736x177.2 with 1 Axes>"
      ]
     },
     "metadata": {},
     "output_type": "display_data"
    }
   ],
   "source": [
    "def visualize_subnet(cfg):\n",
    "    draw_arch(cfg[\"ks\"], cfg[\"e\"], cfg[\"d\"], image_size, out_name=\"viz/subnet\")\n",
    "    im = Image.open(\"viz/subnet.png\")\n",
    "    im = im.rotate(90, expand=1)\n",
    "    fig = plt.figure(figsize=(im.size[0] / 250, im.size[1] / 250))\n",
    "    plt.axis(\"off\")\n",
    "    plt.imshow(im)\n",
    "    plt.show()\n",
    "\n",
    "visualize_subnet(cfg)"
   ]
  },
  {
   "cell_type": "markdown",
   "id": "732dbfe6",
   "metadata": {
    "_cell_guid": "e9e4f636-0f27-42f6-a86d-bce139e98ee6",
    "_uuid": "109b284d-ac1f-45f0-954d-15c94d5a5c1c",
    "papermill": {
     "duration": 0.028511,
     "end_time": "2024-02-08T08:05:08.553207",
     "exception": false,
     "start_time": "2024-02-08T08:05:08.524696",
     "status": "completed"
    },
    "tags": []
   },
   "source": [
    " \n",
    "Every subnet in the ofa can be represented in the form of python dictionary. This encoding helps us to represent entire netowk with just few numbers.\n",
    "\n",
    "Here is one expample of encoding"
   ]
  },
  {
   "cell_type": "code",
   "execution_count": 9,
   "id": "a96a85eb",
   "metadata": {
    "_cell_guid": "427543e2-c7a9-485f-99bc-1be0bf4c3cdb",
    "_uuid": "e9494c90-f08b-4cae-8207-6c35e0210531",
    "collapsed": false,
    "execution": {
     "iopub.execute_input": "2024-02-08T08:05:08.612367Z",
     "iopub.status.busy": "2024-02-08T08:05:08.611426Z",
     "iopub.status.idle": "2024-02-08T08:05:08.616485Z",
     "shell.execute_reply": "2024-02-08T08:05:08.615588Z"
    },
    "jupyter": {
     "outputs_hidden": false
    },
    "papermill": {
     "duration": 0.036715,
     "end_time": "2024-02-08T08:05:08.618456",
     "exception": false,
     "start_time": "2024-02-08T08:05:08.581741",
     "status": "completed"
    },
    "tags": []
   },
   "outputs": [
    {
     "name": "stdout",
     "output_type": "stream",
     "text": [
      "The architecture encoding of random subnetwork {'ks': [7, 7, 7, 7, 7, 7, 7, 7, 7, 7, 7, 7, 7, 7, 7, 7, 7, 7, 7, 7], 'e': [6, 6, 6, 6, 6, 6, 6, 6, 6, 6, 6, 6, 6, 6, 6, 6, 6, 6, 6, 6], 'd': [4, 4, 4, 4, 4]}\n"
     ]
    }
   ],
   "source": [
    "print('The architecture encoding of random subnetwork', cfg)"
   ]
  },
  {
   "cell_type": "markdown",
   "id": "0fc08445",
   "metadata": {
    "_cell_guid": "8bbdc985-a6ba-4983-9df7-2105d9ba771b",
    "_uuid": "4db057a3-8141-4ee3-98d7-675463897305",
    "papermill": {
     "duration": 0.02857,
     "end_time": "2024-02-08T08:05:08.675618",
     "exception": false,
     "start_time": "2024-02-08T08:05:08.647048",
     "status": "completed"
    },
    "tags": []
   },
   "source": [
    "## 3. Dataset Preperation"
   ]
  },
  {
   "cell_type": "markdown",
   "id": "2b470fb4",
   "metadata": {
    "_cell_guid": "ebaa20c6-25ae-4f12-9982-1e7fdadee3bc",
    "_uuid": "07c22216-4e65-4f25-9bd2-b1ac2f6d0e57",
    "papermill": {
     "duration": 0.028682,
     "end_time": "2024-02-08T08:05:08.733236",
     "exception": false,
     "start_time": "2024-02-08T08:05:08.704554",
     "status": "completed"
    },
    "pycharm": {
     "name": "#%% md\n"
    },
    "tags": []
   },
   "source": [
    "Now, let's build the ImageNet dataset and the corresponding dataloader. Notice that **if you are not in kaggle it will be skipped** since it will be very slow.\n",
    "\n",
    "\n",
    "We will only use subset of ImageNet validation set which will contains 10,000 images for testing."
   ]
  },
  {
   "cell_type": "markdown",
   "id": "5dc6e575",
   "metadata": {
    "_cell_guid": "d5ff6436-4b58-45e7-8c39-1a4c00b171d3",
    "_uuid": "919942ef-4c54-48ef-9f1f-aedcdaa044df",
    "papermill": {
     "duration": 0.028543,
     "end_time": "2024-02-08T08:05:08.790828",
     "exception": false,
     "start_time": "2024-02-08T08:05:08.762285",
     "status": "completed"
    },
    "tags": []
   },
   "source": [
    "**I will utilize subsets of imagenet for both validation and retraining.**"
   ]
  },
  {
   "cell_type": "code",
   "execution_count": 10,
   "id": "bcb33cda",
   "metadata": {
    "_cell_guid": "d0f51188-68fc-4756-8c6f-20452ce97907",
    "_uuid": "5fe80cff-a132-4ab2-896e-29d8f9709e90",
    "collapsed": false,
    "execution": {
     "iopub.execute_input": "2024-02-08T08:05:08.851936Z",
     "iopub.status.busy": "2024-02-08T08:05:08.851280Z",
     "iopub.status.idle": "2024-02-08T08:05:08.856996Z",
     "shell.execute_reply": "2024-02-08T08:05:08.856027Z"
    },
    "jupyter": {
     "outputs_hidden": false
    },
    "papermill": {
     "duration": 0.039212,
     "end_time": "2024-02-08T08:05:08.858908",
     "exception": false,
     "start_time": "2024-02-08T08:05:08.819696",
     "status": "completed"
    },
    "tags": []
   },
   "outputs": [],
   "source": [
    "# #creating subset of 100k using imagenet original.\n",
    "# import os\n",
    "# import shutil\n",
    "# import random\n",
    "# from multiprocessing import Pool\n",
    "\n",
    "# def copy_files(src_file_path, tgt_file_path):\n",
    "#     try:\n",
    "#         shutil.copy(src_file_path, tgt_file_path)\n",
    "#     except Exception as e:\n",
    "#         print(f\"Error copying {src_file_path} to {tgt_file_path}: {e}\")\n",
    "\n",
    "\n",
    "# def make_subset(old_path, new_path, number_per_class=10, num_processes=4, batch_size=256):\n",
    "#     if os.path.exists(new_path):\n",
    "#         shutil.rmtree(new_path)\n",
    "\n",
    "#     os.makedirs(new_path)\n",
    "\n",
    "#     print('Creating subset...')\n",
    "#     dirs = [d for d in os.listdir(old_path) if os.path.isdir(os.path.join(old_path, d))]\n",
    "\n",
    "#     with Pool(num_processes) as pool:\n",
    "#         for i, directory in enumerate(dirs):\n",
    "#             directory_path = os.path.join(old_path, directory)\n",
    "#             filenames_in_dir = [filename for filename in os.listdir(directory_path) if os.path.isfile(os.path.join(directory_path, filename))]\n",
    "#             sampled_filenames = random.sample(filenames_in_dir, min(number_per_class, len(filenames_in_dir)))\n",
    "\n",
    "#             new_directory_path = os.path.join(new_path, directory)\n",
    "#             os.makedirs(new_directory_path)\n",
    "\n",
    "#             args_list = [(os.path.join(directory_path, filename), os.path.join(new_directory_path, filename)) for filename in sampled_filenames]\n",
    "\n",
    "#             # Use pool.starmap for parallel execution\n",
    "#             pool.starmap(copy_files, args_list, chunksize=batch_size)\n",
    "\n",
    "#     print('Subset creation complete.')\n",
    "\n",
    "# # Example usage\n",
    "# old_val = '/kaggle/input/imagenet-object-localization-challenge/ILSVRC/Data/CLS-LOC/train'\n",
    "# new_val = '/kaggle/working/imagenet_sub_train'\n",
    "\n",
    "# make_subset(old_val, new_val, number_per_class=100)"
   ]
  },
  {
   "cell_type": "code",
   "execution_count": 11,
   "id": "b849d713",
   "metadata": {
    "_cell_guid": "dece162d-f096-48e6-a573-e69c2bebdba6",
    "_uuid": "c8f20a68-77af-4a1e-aec2-6b4f968950d3",
    "collapsed": false,
    "execution": {
     "iopub.execute_input": "2024-02-08T08:05:08.917878Z",
     "iopub.status.busy": "2024-02-08T08:05:08.917275Z",
     "iopub.status.idle": "2024-02-08T08:05:13.055108Z",
     "shell.execute_reply": "2024-02-08T08:05:13.054125Z"
    },
    "jupyter": {
     "outputs_hidden": false
    },
    "papermill": {
     "duration": 4.169363,
     "end_time": "2024-02-08T08:05:13.057070",
     "exception": false,
     "start_time": "2024-02-08T08:05:08.887707",
     "status": "completed"
    },
    "pycharm": {
     "name": "#%%\n"
    },
    "tags": []
   },
   "outputs": [
    {
     "name": "stdout",
     "output_type": "stream",
     "text": [
      "The ImageNet dataset files are ready.\n",
      "The ImageNet dataloader is ready. Size : 10016\n"
     ]
    }
   ],
   "source": [
    "batch_size=32\n",
    "\n",
    "#I will use a susbset of imagenetval of 10k images \n",
    "if cuda_available:\n",
    "    # path to the ImageNet dataset\n",
    "    # link --> https://www.kaggle.com/datasets/titericz/imagenet1k-val\n",
    "    \n",
    "    imagenet_data_path = '/kaggle/input/imagenet1k-subset-100k-train-and-10k-val/imagenet_subval'\n",
    "\n",
    "    # if 'imagenet_data_path' is empty, download a subset of ImageNet containing 2000 images (~250M) for test\n",
    "    if not os.path.isdir(imagenet_data_path):\n",
    "        print('%s is empty. Download a subset of ImageNet for test.' % imagenet_data_path)\n",
    "\n",
    "    print('The ImageNet dataset files are ready.')\n",
    "else:\n",
    "    print('Since GPU is not found in the environment, we skip all scripts related to ImageNet evaluation.')\n",
    "    \n",
    "    \n",
    "  \n",
    "if cuda_available:\n",
    "    # The following function build the data transforms for test\n",
    "    def build_val_transform(size):\n",
    "        return transforms.Compose([\n",
    "            transforms.Resize(int(math.ceil(size / 0.875))),\n",
    "            transforms.CenterCrop(size),\n",
    "            transforms.ToTensor(),\n",
    "            transforms.Normalize(\n",
    "                mean=[0.485, 0.456, 0.406],\n",
    "                std=[0.229, 0.224, 0.225]\n",
    "            ),\n",
    "        ])\n",
    "    \n",
    "    val_data = datasets.ImageFolder(\n",
    "            root=os.path.join(imagenet_data_path),\n",
    "            transform=build_val_transform(224)\n",
    "        )\n",
    "    \n",
    "\n",
    "    val_loader = torch.utils.data.DataLoader(\n",
    "        val_data,\n",
    "        batch_size=batch_size,  \n",
    "        shuffle = True,\n",
    "        num_workers=4,  \n",
    "        pin_memory=True,\n",
    "        drop_last=False,\n",
    "    )\n",
    "    print('The ImageNet dataloader is ready. Size : {}'.format(len(val_loader)*batch_size))\n",
    "else:\n",
    "    data_loader = None\n",
    "    print('Since GPU is not found in the environment, we skip all scripts related to ImageNet evaluation.')"
   ]
  },
  {
   "cell_type": "markdown",
   "id": "c3cd275e",
   "metadata": {
    "_cell_guid": "59b9927f-0fc0-4e91-8ac4-ef6db0064ddc",
    "_uuid": "1616ad0c-4e91-419d-9339-501a56f480fb",
    "papermill": {
     "duration": 0.028899,
     "end_time": "2024-02-08T08:05:13.115756",
     "exception": false,
     "start_time": "2024-02-08T08:05:13.086857",
     "status": "completed"
    },
    "tags": []
   },
   "source": [
    "Now you have configured the dataset. Let's build the dataloader for evaluation.\n",
    "Again, this will be skipped if you are in a CPU environment."
   ]
  },
  {
   "cell_type": "markdown",
   "id": "db1a22b5",
   "metadata": {
    "_cell_guid": "044134e6-a76c-49e8-bf41-9622c3e711e2",
    "_uuid": "39890b5e-7794-4839-af6c-822eca266fe1",
    "papermill": {
     "duration": 0.02832,
     "end_time": "2024-02-08T08:05:13.173908",
     "exception": false,
     "start_time": "2024-02-08T08:05:13.145588",
     "status": "completed"
    },
    "tags": []
   },
   "source": [
    "Lets evaluate our randomly sampled network on imagenet validation set"
   ]
  },
  {
   "cell_type": "code",
   "execution_count": 12,
   "id": "ea552f46",
   "metadata": {
    "_cell_guid": "a67645ff-1f32-4315-91dc-fe16a373e9bc",
    "_uuid": "6c1a6348-670d-4a1a-90f4-f23377d769fc",
    "collapsed": false,
    "execution": {
     "iopub.execute_input": "2024-02-08T08:05:13.233125Z",
     "iopub.status.busy": "2024-02-08T08:05:13.232344Z",
     "iopub.status.idle": "2024-02-08T08:05:13.243203Z",
     "shell.execute_reply": "2024-02-08T08:05:13.242395Z"
    },
    "jupyter": {
     "outputs_hidden": false
    },
    "papermill": {
     "duration": 0.042584,
     "end_time": "2024-02-08T08:05:13.245142",
     "exception": false,
     "start_time": "2024-02-08T08:05:13.202558",
     "status": "completed"
    },
    "tags": []
   },
   "outputs": [],
   "source": [
    "from ofa.utils.common_tools import *\n",
    "def evaluate_sub(net, data_loader=val_loader ,device=\"cuda:0\"):\n",
    "    if \"cuda\" in device:\n",
    "        net = torch.nn.DataParallel(net).to(device)\n",
    "    else:\n",
    "        net = net.to(device)\n",
    "\n",
    "    criterion = nn.CrossEntropyLoss().to(device)\n",
    "\n",
    "    net.eval()\n",
    "    net = net.to(device)\n",
    "    losses = AverageMeter()\n",
    "    top1 = AverageMeter()\n",
    "    top5 = AverageMeter()\n",
    "\n",
    "    with torch.no_grad():\n",
    "        with tqdm(total=len(data_loader), desc=\"Validate\") as t:\n",
    "            for i, (images, labels) in enumerate(data_loader):\n",
    "                images, labels = images.to(device), labels.to(device)\n",
    "                # compute output\n",
    "                output = net(images)\n",
    "                loss = criterion(output, labels)\n",
    "                # measure accuracy and record loss\n",
    "                acc1, acc5 = accuracy(output, labels, topk=(1, 5))\n",
    "\n",
    "                losses.update(loss.item(), images.size(0))\n",
    "                top1.update(acc1[0].item(), images.size(0))\n",
    "                top5.update(acc5[0].item(), images.size(0))\n",
    "                t.set_postfix(\n",
    "                    {\n",
    "                        \"loss\": losses.avg,\n",
    "                        \"top1\": top1.avg,\n",
    "                        \"top5\": top5.avg,\n",
    "                        \"img_size\": images.size(2),\n",
    "                    }\n",
    "                )\n",
    "                t.update(1)\n",
    "\n",
    "    print(\n",
    "        \"Results: loss=%.5f,\\t top1=%.1f,\\t top5=%.1f\"\n",
    "        % (losses.avg, top1.avg, top5.avg)\n",
    "    )\n",
    "    return top1.avg"
   ]
  },
  {
   "cell_type": "code",
   "execution_count": 13,
   "id": "b6142073",
   "metadata": {
    "_cell_guid": "34509351-3c15-4bf8-8dbd-3f49dbf7c449",
    "_uuid": "a2af5e96-d813-4c81-be3d-47c83e0365c7",
    "collapsed": false,
    "execution": {
     "iopub.execute_input": "2024-02-08T08:05:13.304078Z",
     "iopub.status.busy": "2024-02-08T08:05:13.303458Z",
     "iopub.status.idle": "2024-02-08T08:05:56.477771Z",
     "shell.execute_reply": "2024-02-08T08:05:56.476584Z"
    },
    "jupyter": {
     "outputs_hidden": false
    },
    "papermill": {
     "duration": 43.206286,
     "end_time": "2024-02-08T08:05:56.479950",
     "exception": false,
     "start_time": "2024-02-08T08:05:13.273664",
     "status": "completed"
    },
    "tags": []
   },
   "outputs": [
    {
     "name": "stderr",
     "output_type": "stream",
     "text": [
      "Validate: 100%|██████████| 313/313 [00:42<00:00,  7.28it/s, loss=7.18, top1=0.1, top5=0.5, img_size=224]"
     ]
    },
    {
     "name": "stdout",
     "output_type": "stream",
     "text": [
      "Results: loss=7.17796,\t top1=0.1,\t top5=0.5\n",
      "Finished evaluating the pretrained sub-network: 0.1!\n"
     ]
    },
    {
     "name": "stderr",
     "output_type": "stream",
     "text": [
      "\n"
     ]
    }
   ],
   "source": [
    "# %%script echo skipping\n",
    "if cuda_available:\n",
    "    top1 = evaluate_sub(subnet2)\n",
    "\n",
    "    print('Finished evaluating the pretrained sub-network: %s!' % top1)\n",
    "else:\n",
    "    print('Since GPU is not found in the environment, we skip all scripts related to ImageNet evaluation.')"
   ]
  },
  {
   "cell_type": "markdown",
   "id": "dc6dcb6d",
   "metadata": {
    "_cell_guid": "5c3c8c6a-e8c5-4e7a-8bb9-19e6668ed3cb",
    "_uuid": "d6c2941e-c512-4664-91cd-49ef33a0b300",
    "papermill": {
     "duration": 0.067047,
     "end_time": "2024-02-08T08:05:56.614701",
     "exception": false,
     "start_time": "2024-02-08T08:05:56.547654",
     "status": "completed"
    },
    "tags": []
   },
   "source": [
    "Lets replace SE blocks of the network as their current implementation on OFA is not supported on FPGA so they will be replaced by pytorch SE blocks"
   ]
  },
  {
   "cell_type": "code",
   "execution_count": 14,
   "id": "e894df55",
   "metadata": {
    "_cell_guid": "76353e2d-e3d3-4b79-9cb7-ca5ffb0af938",
    "_uuid": "1dea7847-2d5c-4ca1-84d5-260727a5dbc3",
    "collapsed": false,
    "execution": {
     "iopub.execute_input": "2024-02-08T08:05:56.750705Z",
     "iopub.status.busy": "2024-02-08T08:05:56.750326Z",
     "iopub.status.idle": "2024-02-08T08:06:31.072544Z",
     "shell.execute_reply": "2024-02-08T08:06:31.071419Z"
    },
    "jupyter": {
     "outputs_hidden": false
    },
    "papermill": {
     "duration": 34.393511,
     "end_time": "2024-02-08T08:06:31.075294",
     "exception": false,
     "start_time": "2024-02-08T08:05:56.681783",
     "status": "completed"
    },
    "tags": []
   },
   "outputs": [
    {
     "name": "stdout",
     "output_type": "stream",
     "text": [
      "Replaced\n",
      "Replaced\n",
      "Replaced\n",
      "Replaced\n",
      "Replaced\n",
      "Replaced\n",
      "Replaced\n",
      "Replaced\n",
      "Replaced\n",
      "Replaced\n",
      "Replaced\n",
      "Replaced\n",
      "All SE blocks are Replaced\n"
     ]
    },
    {
     "name": "stderr",
     "output_type": "stream",
     "text": [
      "Validate: 100%|██████████| 313/313 [00:34<00:00,  9.14it/s, loss=0.951, top1=78.8, top5=94.6, img_size=224]"
     ]
    },
    {
     "name": "stdout",
     "output_type": "stream",
     "text": [
      "Results: loss=0.95147,\t top1=78.8,\t top5=94.6\n"
     ]
    },
    {
     "name": "stderr",
     "output_type": "stream",
     "text": [
      "\n"
     ]
    }
   ],
   "source": [
    "from fpga_utils.replace_se import replace_all\n",
    "\n",
    "replace_all(subnet2)\n",
    "top1 = evaluate_sub(subnet2)"
   ]
  },
  {
   "cell_type": "markdown",
   "id": "de4a5a4d",
   "metadata": {
    "_cell_guid": "8b6a4d11-ad54-4a39-b51e-0c9659916087",
    "_uuid": "e92941b1-2085-47d7-b7e9-b95357df7005",
    "papermill": {
     "duration": 0.105935,
     "end_time": "2024-02-08T08:06:31.289418",
     "exception": false,
     "start_time": "2024-02-08T08:06:31.183483",
     "status": "completed"
    },
    "tags": []
   },
   "source": [
    "## 4. Accuracy Predictor \n",
    "\n",
    "The key components of very fast neural network deployment are **accuracy predictors** and **efficiency predictors**.\n",
    "For the accuracy predictor, it predicts the Top-1 accuracy of a given sub-network on a **holdout validation set**\n",
    "(different from the official 50K validation set) so that we do **NOT** need to run very costly inference on ImageNet\n",
    "while searching for specialized models. Such an accuracy predictor is trained using an accuracy dataset built with the OFA network."
   ]
  },
  {
   "cell_type": "code",
   "execution_count": 15,
   "id": "a4efa9ad",
   "metadata": {
    "_cell_guid": "f68fc7af-62e5-46d1-940f-93252791d058",
    "_uuid": "614ed3b7-018f-477c-8618-f87ce0924269",
    "collapsed": false,
    "execution": {
     "iopub.execute_input": "2024-02-08T08:06:31.502486Z",
     "iopub.status.busy": "2024-02-08T08:06:31.501603Z",
     "iopub.status.idle": "2024-02-08T08:06:31.831732Z",
     "shell.execute_reply": "2024-02-08T08:06:31.830684Z"
    },
    "jupyter": {
     "outputs_hidden": false
    },
    "papermill": {
     "duration": 0.437958,
     "end_time": "2024-02-08T08:06:31.833699",
     "exception": false,
     "start_time": "2024-02-08T08:06:31.395741",
     "status": "completed"
    },
    "pycharm": {
     "name": "#%%\n"
    },
    "tags": []
   },
   "outputs": [
    {
     "name": "stderr",
     "output_type": "stream",
     "text": [
      "Downloading: \"https://raw.githubusercontent.com/han-cai/files/master/ofa/acc_predictor.pth\" to /root/.torch/acc_predictor.pth\n"
     ]
    },
    {
     "name": "stdout",
     "output_type": "stream",
     "text": [
      "The accuracy predictor is ready!\n",
      "Sequential(\n",
      "  (0): Linear(in_features=128, out_features=400, bias=True)\n",
      "  (1): ReLU()\n",
      "  (2): Linear(in_features=400, out_features=400, bias=True)\n",
      "  (3): ReLU()\n",
      "  (4): Linear(in_features=400, out_features=400, bias=True)\n",
      "  (5): ReLU()\n",
      "  (6): Linear(in_features=400, out_features=1, bias=True)\n",
      ")\n"
     ]
    }
   ],
   "source": [
    "# accuracy predictor\n",
    "accuracy_predictor = AccuracyPredictor(\n",
    "    pretrained=True,\n",
    "    device='cuda:0' if cuda_available else 'cpu'\n",
    ")\n",
    "\n",
    "print('The accuracy predictor is ready!')\n",
    "print(accuracy_predictor.model)"
   ]
  },
  {
   "cell_type": "markdown",
   "id": "0a6231eb",
   "metadata": {
    "_cell_guid": "73a12c05-0e56-49d8-a7b8-0f0bed3e7efb",
    "_uuid": "5673442d-9c37-48a6-845c-f84e6b2d6718",
    "papermill": {
     "duration": 0.104429,
     "end_time": "2024-02-08T08:06:32.044089",
     "exception": false,
     "start_time": "2024-02-08T08:06:31.939660",
     "status": "completed"
    },
    "tags": []
   },
   "source": [
    "Lets try predicting accuracy of our randomly sampled subnet"
   ]
  },
  {
   "cell_type": "code",
   "execution_count": 16,
   "id": "3bf1675d",
   "metadata": {
    "_cell_guid": "610d4f79-a269-4cf0-bd4b-d09e9e26e7f0",
    "_uuid": "8960373f-1889-4628-93e4-227807439787",
    "collapsed": false,
    "execution": {
     "iopub.execute_input": "2024-02-08T08:06:32.259168Z",
     "iopub.status.busy": "2024-02-08T08:06:32.258796Z",
     "iopub.status.idle": "2024-02-08T08:06:32.298435Z",
     "shell.execute_reply": "2024-02-08T08:06:32.297469Z"
    },
    "jupyter": {
     "outputs_hidden": false
    },
    "papermill": {
     "duration": 0.149793,
     "end_time": "2024-02-08T08:06:32.300423",
     "exception": false,
     "start_time": "2024-02-08T08:06:32.150630",
     "status": "completed"
    },
    "tags": []
   },
   "outputs": [
    {
     "name": "stdout",
     "output_type": "stream",
     "text": [
      "tensor([[83.5928]])\n"
     ]
    }
   ],
   "source": [
    "cfg['r']= [224]\n",
    "\n",
    "acc = accuracy_predictor.predict_accuracy([cfg])\n",
    "print(acc*100)"
   ]
  },
  {
   "cell_type": "markdown",
   "id": "203ff910",
   "metadata": {
    "_cell_guid": "8f7f519e-9474-4816-96f6-352e360eec2e",
    "_uuid": "fe970f2f-26c4-4366-80cd-62fc9d5a7814",
    "papermill": {
     "duration": 0.103242,
     "end_time": "2024-02-08T08:06:32.508884",
     "exception": false,
     "start_time": "2024-02-08T08:06:32.405642",
     "status": "completed"
    },
    "tags": []
   },
   "source": [
    "Now, we have the powerful **accuracy predictor**. We then introduce two types of **efficiency predictors**: the latency predictor and the FLOPs predictor. \n",
    "\n",
    "The intuition of having efficiency predictors, especially the latency predictor, is that measuring the latency of a sub-network on-the-fly is also costly, especially for FPGA devices becuase it takes hours of work to implement even a single network and then measure latency.\n",
    "\n",
    "The latency predictor is designed to eliminate this cost."
   ]
  },
  {
   "cell_type": "markdown",
   "id": "be4d9a0d",
   "metadata": {
    "_cell_guid": "84c3dd41-3330-4748-9a91-efe3fc31efef",
    "_uuid": "6b4e342f-e521-4ef6-aaf1-52500decf8db",
    "papermill": {
     "duration": 0.102532,
     "end_time": "2024-02-08T08:06:32.714185",
     "exception": false,
     "start_time": "2024-02-08T08:06:32.611653",
     "status": "completed"
    },
    "tags": []
   },
   "source": [
    "## 5. Searching with Latency Constraint\n",
    "Now, let's proceed towards searching for efficient network under latency constraint. We use the same accuracy predictor since accuracy predictors are agnostic to the types of efficiency constraint . For the efficiency predictor, we build a latency table."
   ]
  },
  {
   "cell_type": "code",
   "execution_count": 17,
   "id": "4cf0ad63",
   "metadata": {
    "_cell_guid": "62bd0418-2cd8-4b1d-942d-caf9ec792c4b",
    "_uuid": "ce28329d-35e7-4796-9541-7dd09c86b1cb",
    "collapsed": false,
    "execution": {
     "iopub.execute_input": "2024-02-08T08:06:32.922566Z",
     "iopub.status.busy": "2024-02-08T08:06:32.922201Z",
     "iopub.status.idle": "2024-02-08T08:06:32.933219Z",
     "shell.execute_reply": "2024-02-08T08:06:32.932359Z"
    },
    "jupyter": {
     "outputs_hidden": false
    },
    "papermill": {
     "duration": 0.11817,
     "end_time": "2024-02-08T08:06:32.935093",
     "exception": false,
     "start_time": "2024-02-08T08:06:32.816923",
     "status": "completed"
    },
    "pycharm": {
     "is_executing": true,
     "name": "#%%\n"
    },
    "tags": []
   },
   "outputs": [
    {
     "name": "stdout",
     "output_type": "stream",
     "text": [
      "The Latency lookup table is ready!\n"
     ]
    }
   ],
   "source": [
    "class LatencyTable():\n",
    "    def __init__ (self, path = 'datasets/latency_lut.npy'):\n",
    "        self.path = path \n",
    "        self.efficiency_dict = np.load(self.path, allow_pickle=True).item()\n",
    "        \n",
    "        \n",
    "    #exception -- I have not included the latency of average pooling \n",
    "    def predict_efficiency(self, sample):\n",
    "        input_size = sample.get(\"r\", [224])\n",
    "        input_size = input_size[0]\n",
    "        assert \"ks\" in sample and \"e\" in sample and \"d\" in sample\n",
    "        assert len(sample[\"ks\"]) == len(sample[\"e\"]) and len(sample[\"ks\"]) == 20\n",
    "        assert len(sample[\"d\"]) == 5\n",
    "        \n",
    "        total_latency = 0 \n",
    "        \n",
    "        for i in range(20):\n",
    "            stage = i // 4\n",
    "            depth_max = sample[\"d\"][stage]\n",
    "            depth = i % 4 + 1\n",
    "            if depth > depth_max:\n",
    "                continue\n",
    "            ks, e = sample[\"ks\"][i], sample[\"e\"][i]\n",
    "            \n",
    "            \n",
    "            total_latency+= self.efficiency_dict[\"mobile_inverted_blocks\"][i+1][(ks, e)]\n",
    "            \n",
    "\n",
    "\n",
    "        for key in self.efficiency_dict[\"other_blocks\"]:\n",
    "            total_latency+=self.efficiency_dict[\"other_blocks\"][key]\n",
    "            \n",
    "        \n",
    "        return total_latency\n",
    "    \n",
    "        \n",
    "\n",
    "latency_estimator = LatencyTable()\n",
    "\n",
    "print('The Latency lookup table is ready!')"
   ]
  },
  {
   "cell_type": "markdown",
   "id": "94be9ca1",
   "metadata": {
    "_cell_guid": "75a3d901-3733-4d36-8f48-3c69c9581fea",
    "_uuid": "3fc31f74-7d40-407e-b08c-cbb951788b94",
    "papermill": {
     "duration": 0.107877,
     "end_time": "2024-02-08T08:06:33.148199",
     "exception": false,
     "start_time": "2024-02-08T08:06:33.040322",
     "status": "completed"
    },
    "tags": []
   },
   "source": [
    "Lets try to find latency of our random sampled subnet"
   ]
  },
  {
   "cell_type": "code",
   "execution_count": 18,
   "id": "1e0b15bd",
   "metadata": {
    "_cell_guid": "7c83a430-afd2-4595-963b-f335d8b5439b",
    "_uuid": "fbcccb12-9828-477e-8a37-b7d8bdac7d55",
    "collapsed": false,
    "execution": {
     "iopub.execute_input": "2024-02-08T08:06:33.363736Z",
     "iopub.status.busy": "2024-02-08T08:06:33.362910Z",
     "iopub.status.idle": "2024-02-08T08:06:33.368020Z",
     "shell.execute_reply": "2024-02-08T08:06:33.367142Z"
    },
    "jupyter": {
     "outputs_hidden": false
    },
    "papermill": {
     "duration": 0.114247,
     "end_time": "2024-02-08T08:06:33.370025",
     "exception": false,
     "start_time": "2024-02-08T08:06:33.255778",
     "status": "completed"
    },
    "tags": []
   },
   "outputs": [
    {
     "name": "stdout",
     "output_type": "stream",
     "text": [
      "Estimated Latency = 45.188 ms\n"
     ]
    }
   ],
   "source": [
    "lat = latency_estimator.predict_efficiency(cfg)   #as it returns bytes/ops\n",
    "print('Estimated Latency = {} ms'.format(lat))"
   ]
  },
  {
   "cell_type": "markdown",
   "id": "5702bd27",
   "metadata": {
    "_cell_guid": "5e74820c-ff49-4b8c-87cb-6e94069a13c1",
    "_uuid": "3dec93ef-bc7d-4f9e-90f7-0ebe949054be",
    "papermill": {
     "duration": 0.103433,
     "end_time": "2024-02-08T08:06:33.577635",
     "exception": false,
     "start_time": "2024-02-08T08:06:33.474202",
     "status": "completed"
    },
    "tags": []
   },
   "source": [
    "Lets try lowest Depth network and highest depth network latency"
   ]
  },
  {
   "cell_type": "code",
   "execution_count": 19,
   "id": "beeb6632",
   "metadata": {
    "_cell_guid": "41e4c729-3ad6-41e4-b22e-dac1e69684bb",
    "_uuid": "e74344c6-7a87-43c8-9d92-5d2558051d4a",
    "collapsed": false,
    "execution": {
     "iopub.execute_input": "2024-02-08T08:06:33.785828Z",
     "iopub.status.busy": "2024-02-08T08:06:33.785159Z",
     "iopub.status.idle": "2024-02-08T08:06:33.973094Z",
     "shell.execute_reply": "2024-02-08T08:06:33.972275Z"
    },
    "jupyter": {
     "outputs_hidden": false
    },
    "papermill": {
     "duration": 0.294497,
     "end_time": "2024-02-08T08:06:33.975360",
     "exception": false,
     "start_time": "2024-02-08T08:06:33.680863",
     "status": "completed"
    },
    "tags": []
   },
   "outputs": [],
   "source": [
    "max_cfg = ofa_network.set_max_net()\n",
    "max_net = ofa_network.get_active_subnet()\n",
    "\n",
    "min_cfg = ofa_network.set_active_subnet(ks=3, e=4, d=2)\n",
    "min_net = ofa_network.get_active_subnet()"
   ]
  },
  {
   "cell_type": "code",
   "execution_count": 20,
   "id": "a8e94c59",
   "metadata": {
    "_cell_guid": "55854701-5e1e-4283-bf5a-01d8ec8be5ff",
    "_uuid": "8aecbbba-3e67-46e0-9fef-475afaf5f73e",
    "collapsed": false,
    "execution": {
     "iopub.execute_input": "2024-02-08T08:06:34.223698Z",
     "iopub.status.busy": "2024-02-08T08:06:34.222901Z",
     "iopub.status.idle": "2024-02-08T08:06:34.230164Z",
     "shell.execute_reply": "2024-02-08T08:06:34.228569Z"
    },
    "jupyter": {
     "outputs_hidden": false
    },
    "papermill": {
     "duration": 0.135688,
     "end_time": "2024-02-08T08:06:34.232254",
     "exception": false,
     "start_time": "2024-02-08T08:06:34.096566",
     "status": "completed"
    },
    "tags": []
   },
   "outputs": [
    {
     "name": "stdout",
     "output_type": "stream",
     "text": [
      "Estimated Latency Max= 45.188 ms\n",
      "Estimated Latency Min = 9.599 ms\n"
     ]
    }
   ],
   "source": [
    "lat1 = latency_estimator.predict_efficiency(max_cfg)   #as it returns bytes/ops\n",
    "print('Estimated Latency Max= {} ms'.format(lat1))\n",
    "\n",
    "lat2 = latency_estimator.predict_efficiency(min_cfg)   #as it returns bytes/ops\n",
    "print('Estimated Latency Min = {} ms'.format(lat2))"
   ]
  },
  {
   "cell_type": "code",
   "execution_count": 21,
   "id": "9a48b6c9",
   "metadata": {
    "_cell_guid": "63a60981-e35b-4bde-bf9d-d2bd72a5f740",
    "_uuid": "38b3755b-264f-4bcc-87da-79d415814da7",
    "collapsed": false,
    "execution": {
     "iopub.execute_input": "2024-02-08T08:06:34.454316Z",
     "iopub.status.busy": "2024-02-08T08:06:34.453947Z",
     "iopub.status.idle": "2024-02-08T08:06:36.261500Z",
     "shell.execute_reply": "2024-02-08T08:06:36.260619Z"
    },
    "jupyter": {
     "outputs_hidden": false
    },
    "papermill": {
     "duration": 1.921447,
     "end_time": "2024-02-08T08:06:36.263553",
     "exception": false,
     "start_time": "2024-02-08T08:06:34.342106",
     "status": "completed"
    },
    "tags": []
   },
   "outputs": [
    {
     "data": {
      "image/png": "[encoded data removed]",
      "text/plain": [
       "<Figure size 640x480 with 1 Axes>"
      ]
     },
     "metadata": {},
     "output_type": "display_data"
    }
   ],
   "source": [
    "import seaborn as sns\n",
    "plt.title('Variation in Latency in the search Space')\n",
    "plt.bar(['Shallow Network', 'Widest Network'], [lat2,lat1], color = ['green', 'red'], width = 0.4)\n",
    "plt.ylabel('Latency(ms)')\n",
    "plt.ylim(0, 60)\n",
    "plt.show()"
   ]
  },
  {
   "cell_type": "markdown",
   "id": "b3b0b43f",
   "metadata": {
    "_cell_guid": "2c3dde1c-20cd-41af-b9ce-aeace491a287",
    "_uuid": "7f17cfda-4972-4f1b-8e7a-40b469f0e541",
    "papermill": {
     "duration": 0.103688,
     "end_time": "2024-02-08T08:06:36.472477",
     "exception": false,
     "start_time": "2024-02-08T08:06:36.368789",
     "status": "completed"
    },
    "tags": []
   },
   "source": [
    "## 6. Run Evolutionary search"
   ]
  },
  {
   "cell_type": "markdown",
   "id": "43f7c324",
   "metadata": {
    "_cell_guid": "7e2d5ea2-772d-42f0-863a-61874782a32f",
    "_uuid": "1df4bde8-21a2-4799-892c-80e8d8512e3c",
    "papermill": {
     "duration": 0.102905,
     "end_time": "2024-02-08T08:06:36.678852",
     "exception": false,
     "start_time": "2024-02-08T08:06:36.575947",
     "status": "completed"
    },
    "tags": []
   },
   "source": [
    "Lets try these constraint once"
   ]
  },
  {
   "cell_type": "code",
   "execution_count": 22,
   "id": "049ed2bc",
   "metadata": {
    "_cell_guid": "fa0e53fb-4bd0-4030-9e7b-9043a8206a41",
    "_uuid": "337a45a5-262b-4d71-a67b-684f3d4deb79",
    "collapsed": false,
    "execution": {
     "iopub.execute_input": "2024-02-08T08:06:36.888486Z",
     "iopub.status.busy": "2024-02-08T08:06:36.887563Z",
     "iopub.status.idle": "2024-02-08T11:32:33.158689Z",
     "shell.execute_reply": "2024-02-08T11:32:33.157711Z"
    },
    "jupyter": {
     "outputs_hidden": false
    },
    "papermill": {
     "duration": 12356.377758,
     "end_time": "2024-02-08T11:32:33.160917",
     "exception": false,
     "start_time": "2024-02-08T08:06:36.783159",
     "status": "completed"
    },
    "pycharm": {
     "name": "#%%\n"
    },
    "tags": []
   },
   "outputs": [
    {
     "name": "stdout",
     "output_type": "stream",
     "text": [
      "Generate random population...\n",
      "Start Evolution...\n"
     ]
    },
    {
     "name": "stderr",
     "output_type": "stream",
     "text": [
      "Searching with latency constraint (10): 100%|██████████| 2500/2500 [2:13:36<00:00,  3.21s/it]"
     ]
    },
    {
     "name": "stdout",
     "output_type": "stream",
     "text": [
      "Found best architecture at latency <= 10.00 ms in 12356.26 seconds! It achieves 80.34% predicted accuracy with latency of 9.96 ms./n\n"
     ]
    },
    {
     "name": "stderr",
     "output_type": "stream",
     "text": [
      "\n"
     ]
    }
   ],
   "source": [
    "#  Hyper-parameters for the evolutionary search process\n",
    "\n",
    "P = 3000  # The size of population in each generation\n",
    "N = 2500  # How many generations of population to be searched\n",
    "r = 0.3  # The ratio of networks that are used as parents for next generation\n",
    "\n",
    "params = {\n",
    "    'constraint_type': 'latency', # Let's do latency constrained search\n",
    "    'efficiency_constraint': 13,  # latency constraint , suggested range [10, 45]\n",
    "    'mutate_prob': 0.3, # The probability of mutation in evolutionary search\n",
    "    'mutation_ratio': 0.4, # The ratio of networks that are generated through mutation in generation n >= 2.\n",
    "    'efficiency_predictor': latency_estimator, # To use a predefined efficiency predictor.\n",
    "    'accuracy_predictor': accuracy_predictor, # To use a predefined accuracy_predictor predictor.\n",
    "    'population_size': P,\n",
    "    'max_time_budget': N,\n",
    "    'parent_ratio': r,\n",
    "}\n",
    "\n",
    "\n",
    "finder = EvolutionFinder(**params)\n",
    "\n",
    "latency_list = [10]\n",
    "# latency_list=[20]\n",
    "\n",
    "result_lis = []\n",
    "result_valids = []\n",
    "info = []\n",
    "for latency in latency_list:\n",
    "    st = time.time()\n",
    "    finder.set_efficiency_constraint(latency)\n",
    "    best_valids, best_info = finder.run_evolution_search()\n",
    "    ed = time.time()\n",
    "    \n",
    "    print('Found best architecture at latency <= %.2f ms in %.2f seconds! It achieves %.2f%s predicted accuracy with latency of %.2f ms./n' % (latency, ed-st, best_info[0] * 100, '%',best_info[-1]))\n",
    "    result_lis.append(best_info)\n",
    "    result_valids.append(best_valids)\n",
    "    info.append(ed-st)"
   ]
  },
  {
   "cell_type": "markdown",
   "id": "1abee132",
   "metadata": {
    "_cell_guid": "a123c81b-3a27-4aa5-9e57-98960e64985f",
    "_uuid": "915a9451-60c8-4a1d-a5d4-a6157e47b2a6",
    "papermill": {
     "duration": 0.301733,
     "end_time": "2024-02-08T11:32:33.769419",
     "exception": false,
     "start_time": "2024-02-08T11:32:33.467686",
     "status": "completed"
    },
    "tags": []
   },
   "source": [
    "The results after runnint them are !\n",
    "\n",
    "Lets visualize and evalute the found architecutre"
   ]
  },
  {
   "cell_type": "code",
   "execution_count": 23,
   "id": "9d1f964d",
   "metadata": {
    "_cell_guid": "d76ade3e-8656-4e04-9a49-fca08df3b51c",
    "_uuid": "1374eab8-6211-445d-b5ab-f44af98757b7",
    "collapsed": false,
    "execution": {
     "iopub.execute_input": "2024-02-08T11:32:34.402507Z",
     "iopub.status.busy": "2024-02-08T11:32:34.402132Z",
     "iopub.status.idle": "2024-02-08T11:32:35.372708Z",
     "shell.execute_reply": "2024-02-08T11:32:35.371562Z"
    },
    "jupyter": {
     "outputs_hidden": false
    },
    "papermill": {
     "duration": 1.292164,
     "end_time": "2024-02-08T11:32:35.375410",
     "exception": false,
     "start_time": "2024-02-08T11:32:34.083246",
     "status": "completed"
    },
    "tags": []
   },
   "outputs": [],
   "source": [
    "!mkdir Models"
   ]
  },
  {
   "cell_type": "markdown",
   "id": "861e7e77",
   "metadata": {
    "_cell_guid": "5c8cfbf1-5cb8-498f-8110-b6efa3fa7f92",
    "_uuid": "a89eb086-999e-4f0b-83d3-e206a80f0da8",
    "papermill": {
     "duration": 0.307423,
     "end_time": "2024-02-08T11:32:35.988915",
     "exception": false,
     "start_time": "2024-02-08T11:32:35.681492",
     "status": "completed"
    },
    "tags": []
   },
   "source": [
    "## 7. Visualizing and Evaluating Searched Models\n",
    "Lets build model from config and Replace SE blocks in all these networks"
   ]
  },
  {
   "cell_type": "code",
   "execution_count": 24,
   "id": "4e300524",
   "metadata": {
    "_cell_guid": "b320c23f-93d8-4ee3-93bd-a1765f279b2a",
    "_uuid": "3926e24e-3ff7-469f-8476-4f529d433cfa",
    "collapsed": false,
    "execution": {
     "iopub.execute_input": "2024-02-08T11:32:36.689117Z",
     "iopub.status.busy": "2024-02-08T11:32:36.687983Z",
     "iopub.status.idle": "2024-02-08T11:33:10.390463Z",
     "shell.execute_reply": "2024-02-08T11:33:10.389400Z"
    },
    "jupyter": {
     "outputs_hidden": false
    },
    "papermill": {
     "duration": 34.013749,
     "end_time": "2024-02-08T11:33:10.392921",
     "exception": false,
     "start_time": "2024-02-08T11:32:36.379172",
     "status": "completed"
    },
    "tags": []
   },
   "outputs": [
    {
     "name": "stdout",
     "output_type": "stream",
     "text": [
      "Replacing SE blocks of OFA and \n",
      " Saving the searched models \n"
     ]
    },
    {
     "data": {
      "image/png": "[encoded data removed]",
      "text/plain": [
       "<Figure size 1169.2x177.2 with 1 Axes>"
      ]
     },
     "metadata": {},
     "output_type": "display_data"
    },
    {
     "name": "stderr",
     "output_type": "stream",
     "text": [
      "Validate: 100%|██████████| 313/313 [00:33<00:00,  9.45it/s, loss=7.47, top1=0.09, top5=0.57, img_size=224]"
     ]
    },
    {
     "name": "stdout",
     "output_type": "stream",
     "text": [
      "Results: loss=7.47112,\t top1=0.1,\t top5=0.6\n",
      "The evaluated accuracy is : 0.09\n",
      "----------------------------------------------------------------------------------------------------\n",
      "Replaced\n",
      "Replaced\n",
      "Replaced\n",
      "Replaced\n",
      "Replaced\n",
      "Replaced\n",
      "Replaced\n",
      "All SE blocks are Replaced\n",
      "Done\n"
     ]
    },
    {
     "name": "stderr",
     "output_type": "stream",
     "text": [
      "\n"
     ]
    }
   ],
   "source": [
    "print('Replacing SE blocks of OFA and \\n Saving the searched models ')\n",
    "for arch in result_lis:\n",
    "    cfg = arch[1]\n",
    "    visualize_subnet(cfg)  \n",
    "    ofa_network.set_active_subnet(cfg['ks'], cfg['e'], cfg['d'])\n",
    "    network = ofa_network.get_active_subnet()\n",
    "    acc = evaluate_sub(network)\n",
    "    \n",
    "    print('The evaluated accuracy is : {}'.format(acc))\n",
    "    print('--'*50)\n",
    "    \n",
    "models = {}   # latency, network pair\n",
    "for i, arch in enumerate(result_lis):\n",
    "    cfg = arch[1]\n",
    "    ofa_network.set_active_subnet(cfg['ks'], cfg['e'], cfg['d'])\n",
    "    network = ofa_network.get_active_subnet(preserve_weight=True)\n",
    "    models[latency_list[i]] = network\n",
    "\n",
    "for key, model in models.items():\n",
    "    replace_all(model)\n",
    "    name = f\"Models/model_search_{key}.pth\"\n",
    "    torch.save(model, name)\n",
    "    print('Done')"
   ]
  },
  {
   "cell_type": "markdown",
   "id": "297fc9de",
   "metadata": {
    "_cell_guid": "6900c50d-505a-4725-9198-7a556049821b",
    "_uuid": "6b55b809-8ea2-4f07-9f6a-7fec3def684b",
    "papermill": {
     "duration": 0.342179,
     "end_time": "2024-02-08T11:33:11.075111",
     "exception": false,
     "start_time": "2024-02-08T11:33:10.732932",
     "status": "completed"
    },
    "tags": []
   },
   "source": [
    "**Saving architecture configuration to a File**"
   ]
  },
  {
   "cell_type": "code",
   "execution_count": 25,
   "id": "cfacc4ab",
   "metadata": {
    "_cell_guid": "3c5e3db6-6649-4620-b395-103904eec52b",
    "_uuid": "b3c4e670-fd9a-4101-9026-857c8eaa6ddc",
    "collapsed": false,
    "execution": {
     "iopub.execute_input": "2024-02-08T11:33:11.754630Z",
     "iopub.status.busy": "2024-02-08T11:33:11.754251Z",
     "iopub.status.idle": "2024-02-08T11:33:11.761116Z",
     "shell.execute_reply": "2024-02-08T11:33:11.760168Z"
    },
    "jupyter": {
     "outputs_hidden": false
    },
    "papermill": {
     "duration": 0.347692,
     "end_time": "2024-02-08T11:33:11.762953",
     "exception": false,
     "start_time": "2024-02-08T11:33:11.415261",
     "status": "completed"
    },
    "tags": []
   },
   "outputs": [
    {
     "name": "stdout",
     "output_type": "stream",
     "text": [
      "The cofig data is exported, \n",
      " The exported Data is:\n",
      "{'arch': [(0.803392231464386, {'wid': None, 'ks': [3, 3, 7, 3, 3, 3, 7, 5, 5, 3, 5, 7, 3, 3, 3, 3, 3, 3, 7, 5], 'e': [3, 4, 3, 3, 4, 3, 3, 4, 3, 3, 4, 3, 4, 3, 3, 6, 4, 4, 3, 6], 'd': [2, 2, 3, 3, 2], 'r': [224]}, 9.964999999999998)], 'info': [12356.262031793594]}\n"
     ]
    }
   ],
   "source": [
    "import json\n",
    "\n",
    "data = {\n",
    "    \"arch\": result_lis,\n",
    "    \"info\": info\n",
    "}\n",
    "\n",
    "with open('search_data.json', 'w') as file:\n",
    "    json.dump(data, file)\n",
    "    \n",
    "print('The cofig data is exported, \\n The exported Data is:')\n",
    "print(data)"
   ]
  },
  {
   "cell_type": "markdown",
   "id": "7c1296d2",
   "metadata": {
    "_cell_guid": "afbbdb50-bf35-4170-97fd-fa2f2355b0c0",
    "_uuid": "8e200e47-208e-4c1a-9284-c02e0ed70a0b",
    "papermill": {
     "duration": 0.34758,
     "end_time": "2024-02-08T11:33:12.447577",
     "exception": false,
     "start_time": "2024-02-08T11:33:12.099997",
     "status": "completed"
    },
    "tags": []
   },
   "source": [
    "## 8. Retrain the Searched network\n",
    "Lets fine tune the network on a subset of training set of imagenet."
   ]
  },
  {
   "cell_type": "markdown",
   "id": "5d2ed44b",
   "metadata": {
    "_cell_guid": "82bd3e62-0f92-4d26-9991-ce9c8d26ce2b",
    "_uuid": "64743ae8-1816-49bc-8d80-b261d4423cfb",
    "papermill": {
     "duration": 0.34267,
     "end_time": "2024-02-08T11:33:13.134085",
     "exception": false,
     "start_time": "2024-02-08T11:33:12.791415",
     "status": "completed"
    },
    "tags": []
   },
   "source": [
    "I previously performed FPGA aware Neural architecutral search and found different models with different latency through evolutionary algorithm.\n",
    "\n",
    "The obtained network from search process will be now retrained to improve accuracy. Also these models wt were intialized with the help of OFA!"
   ]
  },
  {
   "cell_type": "code",
   "execution_count": 26,
   "id": "b9d49c3f",
   "metadata": {
    "_cell_guid": "a2e3a91a-8119-496c-85c6-df09ac11a018",
    "_uuid": "33432336-296b-464f-bd14-6e39ea995376",
    "collapsed": false,
    "execution": {
     "iopub.execute_input": "2024-02-08T11:33:13.873617Z",
     "iopub.status.busy": "2024-02-08T11:33:13.873228Z",
     "iopub.status.idle": "2024-02-08T11:33:13.878377Z",
     "shell.execute_reply": "2024-02-08T11:33:13.877542Z"
    },
    "jupyter": {
     "outputs_hidden": false
    },
    "papermill": {
     "duration": 0.344255,
     "end_time": "2024-02-08T11:33:13.880177",
     "exception": false,
     "start_time": "2024-02-08T11:33:13.535922",
     "status": "completed"
    },
    "tags": []
   },
   "outputs": [],
   "source": [
    "import torch \n",
    "import torchvision\n",
    "import os\n",
    "import torch.nn as nn\n",
    "from torchvision import transforms, datasets\n",
    "import math\n",
    "import time\n",
    "from tqdm import tqdm\n",
    "import shutil\n",
    "import matplotlib.pyplot as plt"
   ]
  },
  {
   "cell_type": "code",
   "execution_count": 27,
   "id": "46f78f83",
   "metadata": {
    "_cell_guid": "995ad112-0da3-453d-981c-7ffb3dac67d0",
    "_uuid": "9f60a22d-8932-4b20-909f-0f72e11d61a2",
    "collapsed": false,
    "execution": {
     "iopub.execute_input": "2024-02-08T11:33:14.572254Z",
     "iopub.status.busy": "2024-02-08T11:33:14.571869Z",
     "iopub.status.idle": "2024-02-08T11:33:14.577750Z",
     "shell.execute_reply": "2024-02-08T11:33:14.576825Z"
    },
    "jupyter": {
     "outputs_hidden": false
    },
    "papermill": {
     "duration": 0.356814,
     "end_time": "2024-02-08T11:33:14.579835",
     "exception": false,
     "start_time": "2024-02-08T11:33:14.223021",
     "status": "completed"
    },
    "tags": []
   },
   "outputs": [
    {
     "name": "stdout",
     "output_type": "stream",
     "text": [
      "Using GPU.\n"
     ]
    }
   ],
   "source": [
    "cuda_available = torch.cuda.is_available()\n",
    "if cuda_available:\n",
    "    torch.backends.cudnn.enabled = True\n",
    "    torch.backends.cudnn.benchmark = True\n",
    "    print('Using GPU.')\n",
    "else:\n",
    "    print('Using CPU.')"
   ]
  },
  {
   "cell_type": "code",
   "execution_count": 28,
   "id": "d691df1c",
   "metadata": {
    "_cell_guid": "b49ecee7-e265-4267-9cb1-020ef5a8d2cb",
    "_uuid": "a6cdacee-d402-4b3e-9ac4-fa080dd481c0",
    "collapsed": false,
    "execution": {
     "iopub.execute_input": "2024-02-08T11:33:15.264726Z",
     "iopub.status.busy": "2024-02-08T11:33:15.264345Z",
     "iopub.status.idle": "2024-02-08T11:33:15.857312Z",
     "shell.execute_reply": "2024-02-08T11:33:15.856295Z"
    },
    "jupyter": {
     "outputs_hidden": false
    },
    "papermill": {
     "duration": 0.937282,
     "end_time": "2024-02-08T11:33:15.859406",
     "exception": false,
     "start_time": "2024-02-08T11:33:14.922124",
     "status": "completed"
    },
    "tags": []
   },
   "outputs": [
    {
     "name": "stdout",
     "output_type": "stream",
     "text": [
      "The ImageNet dataset files are ready.\n",
      "The ImageNet dataloader is ready. Size : 10016\n"
     ]
    }
   ],
   "source": [
    "batch_size=32\n",
    "\n",
    "#I will use a susbset of imagenetval of 10k images \n",
    "if cuda_available:\n",
    "    # path to the ImageNet dataset\n",
    "    # link --> https://www.kaggle.com/datasets/titericz/imagenet1k-val\n",
    "    \n",
    "    imagenet_data_path = '/kaggle/input/imagenet1k-subset-100k-train-and-10k-val/imagenet_subval'\n",
    "\n",
    "    # if 'imagenet_data_path' is empty, download a subset of ImageNet containing 2000 images (~250M) for test\n",
    "    if not os.path.isdir(imagenet_data_path):\n",
    "        print('%s is empty. Download a subset of ImageNet for test.' % imagenet_data_path)\n",
    "\n",
    "    print('The ImageNet dataset files are ready.')\n",
    "else:\n",
    "    print('Since GPU is not found in the environment, we skip all scripts related to ImageNet evaluation.')\n",
    "    \n",
    "    \n",
    "  \n",
    "if cuda_available:\n",
    "    # The following function build the data transforms for test\n",
    "    def build_val_transform(size):\n",
    "        return transforms.Compose([\n",
    "            transforms.Resize(int(math.ceil(size / 0.875))),\n",
    "            transforms.CenterCrop(size),\n",
    "            transforms.ToTensor(),\n",
    "            transforms.Normalize(\n",
    "                mean=[0.485, 0.456, 0.406],\n",
    "                std=[0.229, 0.224, 0.225]\n",
    "            ),\n",
    "        ])\n",
    "    \n",
    "    val_data = datasets.ImageFolder(\n",
    "            root=os.path.join(imagenet_data_path),\n",
    "            transform=build_val_transform(224)\n",
    "        )\n",
    "    \n",
    "\n",
    "    val_loader = torch.utils.data.DataLoader(\n",
    "        val_data,\n",
    "        batch_size=batch_size,  \n",
    "        shuffle = True,\n",
    "        num_workers=4,  \n",
    "        pin_memory=True,\n",
    "        drop_last=False,\n",
    "    )\n",
    "    print('The ImageNet dataloader is ready. Size : {}'.format(len(val_loader)*batch_size))\n",
    "else:\n",
    "    data_loader = None\n",
    "    print('Since GPU is not found in the environment, we skip all scripts related to ImageNet evaluation.')"
   ]
  },
  {
   "cell_type": "code",
   "execution_count": 29,
   "id": "8c4a5c22",
   "metadata": {
    "_cell_guid": "a6f8888b-b40a-4741-9781-62dd5ca523d0",
    "_uuid": "36496cc1-9614-4f63-81d1-ee99e583cc2e",
    "collapsed": false,
    "execution": {
     "iopub.execute_input": "2024-02-08T11:33:16.546001Z",
     "iopub.status.busy": "2024-02-08T11:33:16.545149Z",
     "iopub.status.idle": "2024-02-08T11:33:47.125277Z",
     "shell.execute_reply": "2024-02-08T11:33:47.124309Z"
    },
    "jupyter": {
     "outputs_hidden": false
    },
    "papermill": {
     "duration": 31.274904,
     "end_time": "2024-02-08T11:33:47.474302",
     "exception": false,
     "start_time": "2024-02-08T11:33:16.199398",
     "status": "completed"
    },
    "tags": []
   },
   "outputs": [
    {
     "name": "stdout",
     "output_type": "stream",
     "text": [
      "The ImageNet train set is ready. Size : 100000\n"
     ]
    }
   ],
   "source": [
    "\n",
    "train_path = '/kaggle/input/imagenet1k-subset-100k-train-and-10k-val/imagenet_subtrain'\n",
    "\n",
    "train_data = datasets.ImageFolder(\n",
    "            root= train_path,\n",
    "            transform=build_val_transform(224)\n",
    "        )\n",
    "\n",
    "train_loader = torch.utils.data.DataLoader(\n",
    "        train_data,\n",
    "        batch_size=batch_size, \n",
    "        shuffle = True,\n",
    "        num_workers=4,  \n",
    "        pin_memory=True,\n",
    "        drop_last=False,\n",
    "    )\n",
    "\n",
    "print('The ImageNet train set is ready. Size : {}'.format(len(train_loader)*batch_size))"
   ]
  },
  {
   "cell_type": "code",
   "execution_count": 30,
   "id": "eb2fc1ea",
   "metadata": {
    "_cell_guid": "b768509f-197f-4991-8013-413fbaedaf22",
    "_uuid": "e3d57b25-eae9-4430-a9c7-9f49c8dd55ad",
    "collapsed": false,
    "execution": {
     "iopub.execute_input": "2024-02-08T11:33:48.229423Z",
     "iopub.status.busy": "2024-02-08T11:33:48.228530Z",
     "iopub.status.idle": "2024-02-08T11:33:48.234316Z",
     "shell.execute_reply": "2024-02-08T11:33:48.233375Z"
    },
    "jupyter": {
     "outputs_hidden": false
    },
    "papermill": {
     "duration": 0.35487,
     "end_time": "2024-02-08T11:33:48.236410",
     "exception": false,
     "start_time": "2024-02-08T11:33:47.881540",
     "status": "completed"
    },
    "tags": []
   },
   "outputs": [
    {
     "name": "stdout",
     "output_type": "stream",
     "text": [
      "{'train': 100000, 'val': 10016}\n"
     ]
    }
   ],
   "source": [
    "dataloaders = {}\n",
    "dataloaders['train'] = train_loader\n",
    "dataloaders['val'] = val_loader\n",
    "\n",
    "dataset_sizes = {'train': len(train_loader)*32,\n",
    "                'val': len(val_loader)*32}\n",
    "print(dataset_sizes)"
   ]
  },
  {
   "cell_type": "code",
   "execution_count": 31,
   "id": "2f74a932",
   "metadata": {
    "_cell_guid": "9c1f3261-c421-412c-832e-0430781f8477",
    "_uuid": "ec1f38ea-c450-466b-b68f-8b69452a9434",
    "collapsed": false,
    "execution": {
     "iopub.execute_input": "2024-02-08T11:33:48.939088Z",
     "iopub.status.busy": "2024-02-08T11:33:48.938175Z",
     "iopub.status.idle": "2024-02-08T11:33:48.955790Z",
     "shell.execute_reply": "2024-02-08T11:33:48.954861Z"
    },
    "jupyter": {
     "outputs_hidden": false
    },
    "papermill": {
     "duration": 0.370922,
     "end_time": "2024-02-08T11:33:48.958038",
     "exception": false,
     "start_time": "2024-02-08T11:33:48.587116",
     "status": "completed"
    },
    "tags": []
   },
   "outputs": [],
   "source": [
    "def train_model(model, criterion, optimizer, scheduler, num_epochs=5):\n",
    "    since = time.time()\n",
    "\n",
    "    #storing epoch data\n",
    "    epoch_data = {\n",
    "        'epoch': [],\n",
    "        'train': {'loss': [], 'top1_acc': [], 'top5_acc': []},\n",
    "        'val': {'loss': [], 'top1_acc': [], 'top5_acc': []}\n",
    "    }\n",
    "    \n",
    "    # Create a temporary directory\n",
    "    tempdir = '/kaggle/working/temp'\n",
    "    os.makedirs(tempdir, exist_ok=True)\n",
    "    best_model_params_path = os.path.join(tempdir, 'best_model_params.pt')\n",
    "\n",
    "    torch.save(model.state_dict(), best_model_params_path)\n",
    "    best_acc = 0.0\n",
    "\n",
    "    for epoch in range(num_epochs):\n",
    "        print(f'Epoch {epoch+1}/{num_epochs}')\n",
    "        print('-' * 10)\n",
    "        epoch_data['epoch'].append(epoch+1)\n",
    "        \n",
    "        for phase in ['train', 'val']:\n",
    "            if phase == 'train':\n",
    "                model.train()\n",
    "            else:\n",
    "                model.eval()\n",
    "            running_loss = 0.0\n",
    "            top1_corrects = 0\n",
    "            top5_corrects = 0\n",
    "            \n",
    "            for inputs, labels in tqdm(dataloaders[phase], leave=False):\n",
    "                inputs = inputs.to(device)\n",
    "                labels = labels.to(device)\n",
    "\n",
    "                optimizer.zero_grad()\n",
    "\n",
    "                with torch.set_grad_enabled(phase == 'train'):\n",
    "                    outputs = model(inputs)\n",
    "                    _, preds = torch.max(outputs, 1)\n",
    "                    loss = criterion(outputs, labels)\n",
    "\n",
    "                    if phase == 'train':\n",
    "                        loss.backward()\n",
    "                        optimizer.step()\n",
    "\n",
    "                running_loss += loss.item() * inputs.size(0)\n",
    "                \n",
    "                # Calculate top-1 accuracy\n",
    "                top1_corrects += torch.sum(preds == labels.data)\n",
    "                \n",
    "                # Calculate top-5 accuracy\n",
    "                _, top5_preds = torch.topk(outputs, 5, dim=1)\n",
    "                top5_corrects += torch.sum(top5_preds == labels.view(-1, 1))\n",
    "\n",
    "            if phase == 'train':\n",
    "                scheduler.step()\n",
    "\n",
    "            epoch_loss = running_loss / dataset_sizes[phase]\n",
    "            epoch_top1_acc = top1_corrects.double() / dataset_sizes[phase]\n",
    "            epoch_top5_acc = top5_corrects.double() / dataset_sizes[phase]\n",
    "            \n",
    "            epoch_data[phase]['loss'].append(epoch_loss)\n",
    "            epoch_data[phase]['top1_acc'].append(epoch_top1_acc)\n",
    "            epoch_data[phase]['top5_acc'].append(epoch_top5_acc)\n",
    "\n",
    "            print(f'{phase} Loss: {epoch_loss:.4f} Top-1 Acc: {epoch_top1_acc:.4f} Top-5 Acc: {epoch_top5_acc:.4f}')\n",
    "\n",
    "            if phase == 'val' and epoch_top1_acc > best_acc:\n",
    "                best_acc = epoch_top1_acc\n",
    "                best_top5 = epoch_top5_acc\n",
    "                torch.save(model.state_dict(), best_model_params_path)\n",
    "\n",
    "        print()\n",
    "\n",
    "    time_elapsed = time.time() - since\n",
    "    print(f'Training complete in {time_elapsed // 60:.0f}m {time_elapsed % 60:.0f}s')\n",
    "    print(f'Best val Top-1 Acc {best_acc:4f} /n Best val Top-5: {best_top5:4f}')\n",
    "\n",
    "    model.load_state_dict(torch.load(best_model_params_path))\n",
    "\n",
    "    # Clean up the temporary directory\n",
    "    shutil.rmtree(tempdir)\n",
    "\n",
    "    return model, epoch_data\n"
   ]
  },
  {
   "cell_type": "code",
   "execution_count": 32,
   "id": "413b06b0",
   "metadata": {
    "execution": {
     "iopub.execute_input": "2024-02-08T11:33:49.679532Z",
     "iopub.status.busy": "2024-02-08T11:33:49.678390Z",
     "iopub.status.idle": "2024-02-08T11:33:50.652679Z",
     "shell.execute_reply": "2024-02-08T11:33:50.651477Z"
    },
    "papermill": {
     "duration": 1.330021,
     "end_time": "2024-02-08T11:33:50.655134",
     "exception": false,
     "start_time": "2024-02-08T11:33:49.325113",
     "status": "completed"
    },
    "tags": []
   },
   "outputs": [],
   "source": [
    "!mkdir Retrained"
   ]
  },
  {
   "cell_type": "code",
   "execution_count": 33,
   "id": "0f81a6d3",
   "metadata": {
    "execution": {
     "iopub.execute_input": "2024-02-08T11:33:51.361457Z",
     "iopub.status.busy": "2024-02-08T11:33:51.361051Z",
     "iopub.status.idle": "2024-02-08T11:58:32.333313Z",
     "shell.execute_reply": "2024-02-08T11:58:32.332021Z"
    },
    "papermill": {
     "duration": 1481.328588,
     "end_time": "2024-02-08T11:58:32.335729",
     "exception": false,
     "start_time": "2024-02-08T11:33:51.007141",
     "status": "completed"
    },
    "tags": []
   },
   "outputs": [
    {
     "name": "stdout",
     "output_type": "stream",
     "text": [
      "Epoch 1/4\n",
      "----------\n"
     ]
    },
    {
     "name": "stderr",
     "output_type": "stream",
     "text": [
      "                                                   \r"
     ]
    },
    {
     "name": "stdout",
     "output_type": "stream",
     "text": [
      "train Loss: 0.6306 Top-1 Acc: 0.8678 Top-5 Acc: 0.9761\n"
     ]
    },
    {
     "name": "stderr",
     "output_type": "stream",
     "text": [
      "                                                 \r"
     ]
    },
    {
     "name": "stdout",
     "output_type": "stream",
     "text": [
      "val Loss: 1.0285 Top-1 Acc: 0.7532 Top-5 Acc: 0.9228\n",
      "\n",
      "Epoch 2/4\n",
      "----------\n"
     ]
    },
    {
     "name": "stderr",
     "output_type": "stream",
     "text": [
      "                                                   \r"
     ]
    },
    {
     "name": "stdout",
     "output_type": "stream",
     "text": [
      "train Loss: 0.5912 Top-1 Acc: 0.8682 Top-5 Acc: 0.9764\n"
     ]
    },
    {
     "name": "stderr",
     "output_type": "stream",
     "text": [
      "                                                 \r"
     ]
    },
    {
     "name": "stdout",
     "output_type": "stream",
     "text": [
      "val Loss: 1.0021 Top-1 Acc: 0.7543 Top-5 Acc: 0.9238\n",
      "\n",
      "Epoch 3/4\n",
      "----------\n"
     ]
    },
    {
     "name": "stderr",
     "output_type": "stream",
     "text": [
      "                                                   \r"
     ]
    },
    {
     "name": "stdout",
     "output_type": "stream",
     "text": [
      "train Loss: 0.5762 Top-1 Acc: 0.8680 Top-5 Acc: 0.9765\n"
     ]
    },
    {
     "name": "stderr",
     "output_type": "stream",
     "text": [
      "                                                 \r"
     ]
    },
    {
     "name": "stdout",
     "output_type": "stream",
     "text": [
      "val Loss: 0.9976 Top-1 Acc: 0.7543 Top-5 Acc: 0.9233\n",
      "\n",
      "Epoch 4/4\n",
      "----------\n"
     ]
    },
    {
     "name": "stderr",
     "output_type": "stream",
     "text": [
      "                                                   \r"
     ]
    },
    {
     "name": "stdout",
     "output_type": "stream",
     "text": [
      "train Loss: 0.5665 Top-1 Acc: 0.8698 Top-5 Acc: 0.9766\n"
     ]
    },
    {
     "name": "stderr",
     "output_type": "stream",
     "text": [
      "                                                 \r"
     ]
    },
    {
     "name": "stdout",
     "output_type": "stream",
     "text": [
      "val Loss: 0.9932 Top-1 Acc: 0.7539 Top-5 Acc: 0.9241\n",
      "\n",
      "Training complete in 24m 41s\n",
      "Best val Top-1 Acc 0.754293 /n Best val Top-5: 0.923822\n",
      "*****************************************************\n"
     ]
    }
   ],
   "source": [
    "torch.cuda.empty_cache()\n",
    "# model = torch.load('Models/model_search_11.pth')\n",
    "device = 'cuda:0' if cuda_available else 'cpu'\n",
    "model = torch.load('/kaggle/working/Models/model_search_10.pth')\n",
    "model = model.to(device)\n",
    "\n",
    "criterion = nn.CrossEntropyLoss()\n",
    "# Observe that all parameters are being optimized\n",
    "optimizer_ft = torch.optim.SGD(model.parameters(), lr=0.00001, momentum=0.9)\n",
    "\n",
    "# Decay LR by a factor of 0.1 every 7 epochs\n",
    "exp_lr_scheduler = torch.optim.lr_scheduler.StepLR(optimizer_ft, step_size=2, gamma=0.5)\n",
    "\n",
    "model, epoch_data = train_model(model, criterion, optimizer_ft, exp_lr_scheduler,\n",
    "                   num_epochs=4)\n",
    "\n",
    "torch.save(model, 'Retrained/model_search_11.pth')\n",
    "print('*****************************************************')\n",
    "# print(epoch_data)"
   ]
  },
  {
   "cell_type": "markdown",
   "id": "460f7e5d",
   "metadata": {
    "_cell_guid": "ff3894d4-cec7-4720-b42f-d6d594dcc950",
    "_uuid": "1e7aec39-a70e-4250-b393-e5c5e2476e8b",
    "papermill": {
     "duration": 0.882965,
     "end_time": "2024-02-08T11:58:34.189226",
     "exception": false,
     "start_time": "2024-02-08T11:58:33.306261",
     "status": "completed"
    },
    "tags": []
   },
   "source": [
    "#### It is clear that accuracy is recoverable and we can obtain comparable accuracy with our efficiency contraints by retraining for few epochs"
   ]
  },
  {
   "cell_type": "markdown",
   "id": "44c18bda",
   "metadata": {
    "_cell_guid": "50055b45-a44f-4f89-8712-69e0f9c96819",
    "_uuid": "739e1062-7782-450e-961b-e33441bd4165",
    "papermill": {
     "duration": 0.972828,
     "end_time": "2024-02-08T11:58:36.050926",
     "exception": false,
     "start_time": "2024-02-08T11:58:35.078098",
     "status": "completed"
    },
    "tags": []
   },
   "source": [
    "## 6. Insights and Comparision"
   ]
  },
  {
   "cell_type": "code",
   "execution_count": 34,
   "id": "30edc199",
   "metadata": {
    "_cell_guid": "1c1735e3-d8f1-4274-9e6c-6ffc2744c0b7",
    "_uuid": "62cdea74-7374-4e1c-ad22-2f36c4ee1197",
    "collapsed": false,
    "execution": {
     "iopub.execute_input": "2024-02-08T11:58:37.839037Z",
     "iopub.status.busy": "2024-02-08T11:58:37.838614Z",
     "iopub.status.idle": "2024-02-08T11:58:37.843583Z",
     "shell.execute_reply": "2024-02-08T11:58:37.842594Z"
    },
    "jupyter": {
     "outputs_hidden": false
    },
    "papermill": {
     "duration": 0.895212,
     "end_time": "2024-02-08T11:58:37.845714",
     "exception": false,
     "start_time": "2024-02-08T11:58:36.950502",
     "status": "completed"
    },
    "tags": []
   },
   "outputs": [],
   "source": [
    "# 'ResNet-152':81.3,\n",
    "#  'Efficientnet V2 Small': 83.6,"
   ]
  },
  {
   "cell_type": "code",
   "execution_count": 35,
   "id": "1103aa1c",
   "metadata": {
    "_cell_guid": "7e3d79eb-eb5c-4365-b914-9b60a52247f6",
    "_uuid": "4d002645-9da2-4470-8896-ddbc092a283a",
    "collapsed": false,
    "execution": {
     "iopub.execute_input": "2024-02-08T11:58:39.701380Z",
     "iopub.status.busy": "2024-02-08T11:58:39.700449Z",
     "iopub.status.idle": "2024-02-08T11:58:39.705032Z",
     "shell.execute_reply": "2024-02-08T11:58:39.704128Z"
    },
    "jupyter": {
     "outputs_hidden": false
    },
    "papermill": {
     "duration": 0.978108,
     "end_time": "2024-02-08T11:58:39.706910",
     "exception": false,
     "start_time": "2024-02-08T11:58:38.728802",
     "status": "completed"
    },
    "tags": []
   },
   "outputs": [],
   "source": [
    "# import shutil\n",
    "\n",
    "# def zip_folder(folder_path, zip_path):\n",
    "#     try:\n",
    "#         # Zip the entire folder and its contents\n",
    "#         shutil.make_archive(zip_path, 'zip', folder_path)\n",
    "#         print(f'Folder \"{folder_path}\" successfully zipped to \"{zip_path}.zip\"')\n",
    "#     except Exception as e:\n",
    "#         print(f'Error zipping folder: {e}')\n",
    "\n",
    "# # Example usage:\n",
    "\n",
    "# zip_folder('/kaggle/working/Models/', '/kaggle/working/models')"
   ]
  },
  {
   "cell_type": "code",
   "execution_count": 36,
   "id": "cd596b75",
   "metadata": {
    "_cell_guid": "6a2e9b32-330b-4478-b0d9-82f6c74b763e",
    "_uuid": "3264d105-89ed-4d3a-9ee1-51f3e4a0c946",
    "collapsed": false,
    "execution": {
     "iopub.execute_input": "2024-02-08T11:58:41.495173Z",
     "iopub.status.busy": "2024-02-08T11:58:41.494752Z",
     "iopub.status.idle": "2024-02-08T11:58:41.500731Z",
     "shell.execute_reply": "2024-02-08T11:58:41.499711Z"
    },
    "jupyter": {
     "outputs_hidden": false
    },
    "papermill": {
     "duration": 0.920009,
     "end_time": "2024-02-08T11:58:41.502749",
     "exception": false,
     "start_time": "2024-02-08T11:58:40.582740",
     "status": "completed"
    },
    "tags": []
   },
   "outputs": [],
   "source": [
    "# archs = [\n",
    "# ['Efficientnet B0', 77.8, 19.5],\n",
    "# ['Mobilenet V3_large', 77, 11.5],\n",
    "# ['nvidia_efficientnet_b4',82, 20.3]\n",
    "# ]\n",
    "\n",
    "\n",
    "# y = [res[0]*100 for res in result_lis]+ [79.5] #added evaulated accuracy after one epcoh train\n",
    "# x = [1/res[2] for res in result_lis]+ [20.1]\n",
    "# plt.figure(figsize=(12, 8))\n",
    "# plt.xlabel('Arithmetic Intensity (ops/byte)', fontsize=14)\n",
    "# plt.ylabel('Predicted Accuracy', fontsize=14)\n",
    "\n",
    "# # Plot the line and scatter plot with 'X' marker for each point in the same color\n",
    "# plt.plot(x, y, marker='X', linestyle='-', color='blue', markersize=8, label = 'Ours')\n",
    "# plt.plot(archs[0][2], archs[0][1], marker='*', color='red', label ='other', markersize=10 )\n",
    "# plt.plot(archs[1][2],archs[1][1], marker = '*', color = 'red', markersize = 10)\n",
    "# plt.plot(archs[2][2],archs[2][1], marker = '*', color = 'red', markersize = 10)\n",
    "\n",
    "\n",
    "# # Annotate the middle point\n",
    "# plt.text(20.2,79, f' Evaluated Accuracy \\n after 1 epoch', fontsize = 10)\n",
    "# plt.text(17, 85.2, f'      FPGA specialized networks', fontsize=12, verticalalignment='bottom', horizontalalignment='left', color='blue')\n",
    "# plt.text(archs[0][2], archs[0][1], f'  Efficientnet_b0', fontsize=12 )\n",
    "# plt.text(archs[1][2],archs[1][1], f' {archs[1][0]}')\n",
    "# plt.text(archs[2][2]+0.1,archs[2][1], f' {archs[2][0]}', fontsize=12)\n",
    "\n",
    "# plt.ylim(75, 89)\n",
    "# plt.xlim(10, 24)\n",
    "# # Add legend\n",
    "# plt.legend(fontsize=12)\n",
    "# plt.title('Searching for FPGAs')\n",
    "# # Show the plot\n",
    "# plt.show()"
   ]
  },
  {
   "cell_type": "code",
   "execution_count": null,
   "id": "d11f6683",
   "metadata": {
    "_cell_guid": "8d6227c6-7a8f-4332-a53b-109b39a118f0",
    "_uuid": "fe3c0f71-9689-49e4-a435-2bae691a423c",
    "collapsed": false,
    "jupyter": {
     "outputs_hidden": false
    },
    "papermill": {
     "duration": 0.966499,
     "end_time": "2024-02-08T11:58:43.369369",
     "exception": false,
     "start_time": "2024-02-08T11:58:42.402870",
     "status": "completed"
    },
    "tags": []
   },
   "outputs": [],
   "source": []
  }
 ],
 "metadata": {
  "kaggle": {
   "accelerator": "gpu",
   "dataSources": [
    {
     "databundleVersionId": 4225553,
     "sourceId": 6799,
     "sourceType": "competition"
    },
    {
     "datasetId": 4413931,
     "sourceId": 7582952,
     "sourceType": "datasetVersion"
    }
   ],
   "dockerImageVersionId": 30646,
   "isGpuEnabled": true,
   "isInternetEnabled": true,
   "language": "python",
   "sourceType": "notebook"
  },
  "kernelspec": {
   "display_name": "Python 3",
   "language": "python",
   "name": "python3"
  },
  "language_info": {
   "codemirror_mode": {
    "name": "ipython",
    "version": 3
   },
   "file_extension": ".py",
   "mimetype": "text/x-python",
   "name": "python",
   "nbconvert_exporter": "python",
   "pygments_lexer": "ipython3",
   "version": "3.10.13"
  },
  "papermill": {
   "default_parameters": {},
   "duration": 14245.83212,
   "end_time": "2024-02-08T11:58:46.733846",
   "environment_variables": {},
   "exception": null,
   "input_path": "__notebook__.ipynb",
   "output_path": "__notebook__.ipynb",
   "parameters": {},
   "start_time": "2024-02-08T08:01:20.901726",
   "version": "2.5.0"
  }
 },
 "nbformat": 4,
 "nbformat_minor": 5
}
