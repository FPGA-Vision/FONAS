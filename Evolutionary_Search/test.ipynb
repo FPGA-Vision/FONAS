{
 "cells": [
  {
   "cell_type": "code",
   "execution_count": 1,
   "metadata": {},
   "outputs": [
    {
     "name": "stderr",
     "output_type": "stream",
     "text": [
      "x:\\Softwares\\anaconda\\envs\\ml\\lib\\site-packages\\torchvision\\io\\image.py:13: UserWarning: Failed to load image Python extension: '[WinError 127] The specified procedure could not be found'If you don't plan on using image functionality from `torchvision.io`, you can ignore this warning. Otherwise, there might be something wrong with your environment. Did you have `libjpeg` or `libpng` installed before building `torchvision` from source?\n",
      "  warn(\n"
     ]
    }
   ],
   "source": [
    "from ofa.imagenet_classification.elastic_nn.networks.ofa_mbv3 import OFAMobileNetV3\n",
    "from ofa.utils import download_url\n",
    "import torch"
   ]
  },
  {
   "cell_type": "code",
   "execution_count": 2,
   "metadata": {},
   "outputs": [
    {
     "name": "stdout",
     "output_type": "stream",
     "text": [
      "Supernetwork Ready\n"
     ]
    }
   ],
   "source": [
    "net_id  = 'ofa_mbv3_d234_e346_k357_w1.2'\n",
    "url_base = \"https://raw.githubusercontent.com/han-cai/files/master/ofa/ofa_nets/\"\n",
    "\n",
    "ofa_network = OFAMobileNetV3(\n",
    "            dropout_rate=0,\n",
    "            width_mult=1.2,\n",
    "            ks_list=[3, 5, 7],\n",
    "            expand_ratio_list=[3, 4, 6],\n",
    "            depth_list=[2, 3, 4],\n",
    "        )\n",
    "\n",
    "pt_path = download_url(url_base + net_id, model_dir=\".torch/ofa_nets\")\n",
    "init = torch.load(pt_path, map_location=\"cpu\")[\"state_dict\"]\n",
    "ofa_network.load_state_dict(init)\n",
    "print('Supernetwork Ready')"
   ]
  },
  {
   "cell_type": "code",
   "execution_count": 1,
   "metadata": {},
   "outputs": [
    {
     "name": "stderr",
     "output_type": "stream",
     "text": [
      "x:\\Softwares\\anaconda\\envs\\ml\\lib\\site-packages\\torchvision\\io\\image.py:13: UserWarning: Failed to load image Python extension: '[WinError 127] The specified procedure could not be found'If you don't plan on using image functionality from `torchvision.io`, you can ignore this warning. Otherwise, there might be something wrong with your environment. Did you have `libjpeg` or `libpng` installed before building `torchvision` from source?\n",
      "  warn(\n"
     ]
    }
   ],
   "source": [
    "from ofa.imagenet_classification.elastic_nn.networks.ofa_mbv3 import OFAMobileNetV3\n",
    "import torch\n",
    "from ofa.utils import download_url"
   ]
  },
  {
   "cell_type": "code",
   "execution_count": 3,
   "metadata": {},
   "outputs": [],
   "source": [
    "image_size = 224\n",
    "\n",
    "cfg1 = ofa_network.sample_active_subnet()\n",
    "subnet = ofa_network.get_active_subnet(preserve_weight=True)\n",
    "\n",
    "#manualy set the subnet \n",
    "cfg = ofa_network.set_active_subnet(ks=3, e=6, d=4)\n",
    "\n",
    "cfg = ofa_network.set_max_net()\n",
    "subnet2 = ofa_network.get_active_subnet(preserve_weight=True)"
   ]
  },
  {
   "cell_type": "code",
   "execution_count": 4,
   "metadata": {},
   "outputs": [],
   "source": [
    "torch.save(subnet2, 'yoyo.pth')"
   ]
  },
  {
   "cell_type": "code",
   "execution_count": 11,
   "metadata": {},
   "outputs": [
    {
     "data": {
      "text/plain": [
       "torch.Size([1, 1000])"
      ]
     },
     "execution_count": 11,
     "metadata": {},
     "output_type": "execute_result"
    }
   ],
   "source": [
    "input = torch.randn(1,3,224,224)\n",
    "out = subnet2(input)\n",
    "out.shape"
   ]
  }
 ],
 "metadata": {
  "kernelspec": {
   "display_name": "ml",
   "language": "python",
   "name": "python3"
  },
  "language_info": {
   "codemirror_mode": {
    "name": "ipython",
    "version": 3
   },
   "file_extension": ".py",
   "mimetype": "text/x-python",
   "name": "python",
   "nbconvert_exporter": "python",
   "pygments_lexer": "ipython3",
   "version": "3.8.18"
  }
 },
 "nbformat": 4,
 "nbformat_minor": 2
}
